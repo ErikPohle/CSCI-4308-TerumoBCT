{
 "cells": [
  {
   "cell_type": "code",
   "execution_count": 2,
   "metadata": {},
   "outputs": [],
   "source": [
    "import pyodbc\n",
    "import pandas as pd"
   ]
  },
  {
   "cell_type": "markdown",
   "metadata": {},
   "source": [
    "First establish connection with database."
   ]
  },
  {
   "cell_type": "code",
   "execution_count": 3,
   "metadata": {},
   "outputs": [],
   "source": [
    "conn = pyodbc.connect('DRIVER={ODBC Driver 17 for SQL Server};SERVER=10.183.135.105\\SQLEXPRESS;DATABASE=RSM_DDB_DB;UID=cu_user_3;PWD=?X#/bjwVcfAw2J/c')"
   ]
  },
  {
   "cell_type": "markdown",
   "metadata": {},
   "source": [
    "Now fetch all tables and save local copies of them. Be patient this will take a while, potentially >30 minutes.\n",
    "\n",
    "You can expect total disk space usage to be ~5.5 GB"
   ]
  },
  {
   "cell_type": "code",
   "execution_count": 24,
   "metadata": {},
   "outputs": [],
   "source": [
    "dim_blood_product = pd.DataFrame(pd.read_sql_query(\"\"\"SELECT * FROM v_dim_blood_product\"\"\", conn))\n",
    "dim_blood_product.to_feather(\"../data/raw/dim_blood_product.feather\")\n",
    "dim_blood_product = None"
   ]
  },
  {
   "cell_type": "code",
   "execution_count": 25,
   "metadata": {},
   "outputs": [],
   "source": [
    "dim_configuration = pd.DataFrame(pd.read_sql_query(\"\"\"SELECT * FROM v_dim_configuration\"\"\", conn))\n",
    "dim_configuration.to_feather(\"../data/raw/dim_configuration.feather\")\n",
    "dim_configuration = None"
   ]
  },
  {
   "cell_type": "code",
   "execution_count": 3,
   "metadata": {},
   "outputs": [],
   "source": [
    "dim_custom_data_01 = pd.DataFrame(pd.read_sql_query(\"\"\"SELECT * FROM v_dim_custom_data_01\"\"\", conn))\n",
    "dim_custom_data_01.to_feather(\"../data/raw/dim_custom_data_01.feather\")\n",
    "dim_custom_data_01 = None"
   ]
  },
  {
   "cell_type": "code",
   "execution_count": 7,
   "metadata": {},
   "outputs": [],
   "source": [
    "dim_custom_data_02 = pd.DataFrame(pd.read_sql_query(\"\"\"SELECT * FROM v_dim_custom_data_02\"\"\", conn))\n",
    "dim_custom_data_02.to_feather(\"../data/raw/dim_custom_data_02.feather\")\n",
    "dim_custom_data_02 = None"
   ]
  },
  {
   "cell_type": "code",
   "execution_count": 4,
   "metadata": {
    "scrolled": true
   },
   "outputs": [],
   "source": [
    "dim_custom_data_03 = pd.DataFrame(pd.read_sql_query(\"\"\"SELECT * FROM v_dim_custom_data_03\"\"\", conn))\n",
    "dim_custom_data_03.to_feather(\"../data/raw/dim_custom_data_03.feather\")\n",
    "dim_custom_data_03 = None"
   ]
  },
  {
   "cell_type": "code",
   "execution_count": 11,
   "metadata": {},
   "outputs": [],
   "source": [
    "dim_custom_data_04 = pd.DataFrame(pd.read_sql_query(\"\"\"SELECT * FROM v_dim_custom_data_04\"\"\", conn))\n",
    "dim_custom_data_04.to_feather(\"../data/raw/dim_custom_data_04.feather\")\n",
    "dim_custom_data_04 = None"
   ]
  },
  {
   "cell_type": "code",
   "execution_count": 18,
   "metadata": {},
   "outputs": [],
   "source": [
    "dim_custom_flag = pd.DataFrame(pd.read_sql_query(\"\"\"SELECT * FROM v_dim_custom_flag\"\"\", conn))\n",
    "dim_custom_flag.to_feather(\"../data/raw/dim_custom_flag.feather\")\n",
    "dim_custom_flag = None"
   ]
  },
  {
   "cell_type": "code",
   "execution_count": 26,
   "metadata": {},
   "outputs": [],
   "source": [
    "dim_dates = pd.DataFrame(pd.read_sql_query(\"\"\"SELECT * FROM v_dim_dates\"\"\", conn))\n",
    "dim_dates.to_feather(\"../data/raw/dim_dates.feather\")\n",
    "dim_dates = None"
   ]
  },
  {
   "cell_type": "code",
   "execution_count": 28,
   "metadata": {},
   "outputs": [],
   "source": [
    "dim_device = pd.DataFrame(pd.read_sql_query(\"\"\"SELECT * FROM v_dim_device\"\"\", conn))\n",
    "dim_device.to_feather(\"../data/raw/dim_device.feather\")\n",
    "dim_device = None"
   ]
  },
  {
   "cell_type": "code",
   "execution_count": 29,
   "metadata": {},
   "outputs": [],
   "source": [
    "dim_donation = pd.DataFrame(pd.read_sql_query(\"\"\"SELECT * FROM v_dim_donation\"\"\", conn))\n",
    "dim_donation.to_feather(\"../data/raw/dim_donation.feather\")\n",
    "dim_donation = None"
   ]
  },
  {
   "cell_type": "code",
   "execution_count": 30,
   "metadata": {},
   "outputs": [],
   "source": [
    "dim_exception = pd.DataFrame(pd.read_sql_query(\"\"\"SELECT * FROM v_dim_exception\"\"\", conn))\n",
    "dim_exception.to_feather(\"../data/raw/dim_exception.feather\")\n",
    "dim_exception = None"
   ]
  },
  {
   "cell_type": "code",
   "execution_count": 31,
   "metadata": {},
   "outputs": [],
   "source": [
    "dim_facility = pd.DataFrame(pd.read_sql_query(\"\"\"SELECT * FROM v_dim_facility\"\"\", conn))\n",
    "dim_facility.to_feather(\"../data/raw/dim_facility.feather\")\n",
    "dim_facility = None"
   ]
  },
  {
   "cell_type": "code",
   "execution_count": 32,
   "metadata": {},
   "outputs": [],
   "source": [
    "dim_operator = pd.DataFrame(pd.read_sql_query(\"\"\"SELECT * FROM v_dim_operator\"\"\", conn))\n",
    "dim_operator.to_feather(\"../data/raw/dim_operator.feather\")\n",
    "dim_operator = None"
   ]
  },
  {
   "cell_type": "code",
   "execution_count": 34,
   "metadata": {},
   "outputs": [],
   "source": [
    "dim_run = pd.DataFrame(pd.read_sql_query(\"\"\"SELECT * FROM v_dim_run\"\"\", conn))\n",
    "dim_run.to_feather(\"../data/raw/dim_run.feather\")\n",
    "dim_run = None"
   ]
  },
  {
   "cell_type": "code",
   "execution_count": 20,
   "metadata": {},
   "outputs": [],
   "source": [
    "fact_blood_product = pd.DataFrame(pd.read_sql_query(\"\"\"SELECT * FROM v_fact_blood_product\"\"\", conn))\n",
    "fact_blood_product.to_feather(\"../data/raw/fact_blood_product.feather\")\n",
    "fact_blood_product = None"
   ]
  },
  {
   "cell_type": "code",
   "execution_count": 21,
   "metadata": {},
   "outputs": [],
   "source": [
    "fact_donation = pd.DataFrame(pd.read_sql_query(\"\"\"SELECT * FROM v_fact_donation\"\"\", conn))\n",
    "fact_donation.to_feather(\"../data/raw/fact_donation.feather\")\n",
    "fact_donation = None"
   ]
  },
  {
   "cell_type": "code",
   "execution_count": 22,
   "metadata": {},
   "outputs": [],
   "source": [
    "fact_exception = pd.DataFrame(pd.read_sql_query(\"\"\"SELECT * FROM v_fact_exception\"\"\", conn))\n",
    "fact_exception.to_feather(\"../data/raw/fact_exception.feather\")\n",
    "fact_exception = None"
   ]
  },
  {
   "cell_type": "code",
   "execution_count": 23,
   "metadata": {},
   "outputs": [],
   "source": [
    "fact_run = pd.DataFrame(pd.read_sql_query(\"\"\"SELECT * FROM v_fact_run\"\"\", conn))\n",
    "fact_run.to_feather(\"../data/raw/fact_run.feather\")\n",
    "fact_run = None"
   ]
  },
  {
   "cell_type": "code",
   "execution_count": null,
   "metadata": {},
   "outputs": [],
   "source": []
  }
 ],
 "metadata": {
  "kernelspec": {
   "display_name": "Python 3",
   "language": "python",
   "name": "python3"
  },
  "language_info": {
   "codemirror_mode": {
    "name": "ipython",
    "version": 3
   },
   "file_extension": ".py",
   "mimetype": "text/x-python",
   "name": "python",
   "nbconvert_exporter": "python",
   "pygments_lexer": "ipython3",
   "version": "3.8.6"
  }
 },
 "nbformat": 4,
 "nbformat_minor": 4
}
