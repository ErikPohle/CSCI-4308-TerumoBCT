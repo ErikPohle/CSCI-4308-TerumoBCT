{
 "cells": [
  {
   "cell_type": "code",
   "execution_count": 2,
   "metadata": {},
   "outputs": [],
   "source": [
    "import pyodbc\n",
    "import pandas as pd"
   ]
  },
  {
   "cell_type": "code",
   "execution_count": 3,
   "metadata": {},
   "outputs": [
    {
     "data": {
      "text/html": [
       "<div>\n",
       "<style scoped>\n",
       "    .dataframe tbody tr th:only-of-type {\n",
       "        vertical-align: middle;\n",
       "    }\n",
       "\n",
       "    .dataframe tbody tr th {\n",
       "        vertical-align: top;\n",
       "    }\n",
       "\n",
       "    .dataframe thead th {\n",
       "        text-align: right;\n",
       "    }\n",
       "</style>\n",
       "<table border=\"1\" class=\"dataframe\">\n",
       "  <thead>\n",
       "    <tr style=\"text-align: right;\">\n",
       "      <th></th>\n",
       "      <th>dim_blood_product_id</th>\n",
       "      <th>blood_product_type</th>\n",
       "    </tr>\n",
       "  </thead>\n",
       "  <tbody>\n",
       "    <tr>\n",
       "      <th>0</th>\n",
       "      <td>328B6294-4726-EB11-80C7-005056AF16E2</td>\n",
       "      <td>Buffy_Coat_Volume</td>\n",
       "    </tr>\n",
       "    <tr>\n",
       "      <th>1</th>\n",
       "      <td>338B6294-4726-EB11-80C7-005056AF16E2</td>\n",
       "      <td>Leukocyte_Volume</td>\n",
       "    </tr>\n",
       "    <tr>\n",
       "      <th>2</th>\n",
       "      <td>348B6294-4726-EB11-80C7-005056AF16E2</td>\n",
       "      <td>Plasma_Volume</td>\n",
       "    </tr>\n",
       "    <tr>\n",
       "      <th>3</th>\n",
       "      <td>358B6294-4726-EB11-80C7-005056AF16E2</td>\n",
       "      <td>Platelet_Volume</td>\n",
       "    </tr>\n",
       "    <tr>\n",
       "      <th>4</th>\n",
       "      <td>368B6294-4726-EB11-80C7-005056AF16E2</td>\n",
       "      <td>Platelet_Yield_Index</td>\n",
       "    </tr>\n",
       "    <tr>\n",
       "      <th>5</th>\n",
       "      <td>378B6294-4726-EB11-80C7-005056AF16E2</td>\n",
       "      <td>Rbc_Prefilter_Volume</td>\n",
       "    </tr>\n",
       "    <tr>\n",
       "      <th>6</th>\n",
       "      <td>388B6294-4726-EB11-80C7-005056AF16E2</td>\n",
       "      <td>Whole_Blood_Volume</td>\n",
       "    </tr>\n",
       "  </tbody>\n",
       "</table>\n",
       "</div>"
      ],
      "text/plain": [
       "                   dim_blood_product_id    blood_product_type\n",
       "0  328B6294-4726-EB11-80C7-005056AF16E2     Buffy_Coat_Volume\n",
       "1  338B6294-4726-EB11-80C7-005056AF16E2      Leukocyte_Volume\n",
       "2  348B6294-4726-EB11-80C7-005056AF16E2         Plasma_Volume\n",
       "3  358B6294-4726-EB11-80C7-005056AF16E2       Platelet_Volume\n",
       "4  368B6294-4726-EB11-80C7-005056AF16E2  Platelet_Yield_Index\n",
       "5  378B6294-4726-EB11-80C7-005056AF16E2  Rbc_Prefilter_Volume\n",
       "6  388B6294-4726-EB11-80C7-005056AF16E2    Whole_Blood_Volume"
      ]
     },
     "execution_count": 3,
     "metadata": {},
     "output_type": "execute_result"
    }
   ],
   "source": [
    "conn = pyodbc.connect('DRIVER={ODBC Driver 17 for SQL Server};SERVER=10.183.135.105\\SQLEXPRESS;DATABASE=RSM_DDB_DB;UID=cu_user_3;PWD=?X#/bjwVcfAw2J/c')\n",
    "sql_query = pd.read_sql_query(\"\"\"SELECT * FROM v_dim_blood_product\"\"\", conn)\n",
    "df = pd.DataFrame(sql_query)\n",
    "df"
   ]
  },
  {
   "cell_type": "code",
   "execution_count": null,
   "metadata": {},
   "outputs": [],
   "source": []
  }
 ],
 "metadata": {
  "kernelspec": {
   "display_name": "Python 3",
   "language": "python",
   "name": "python3"
  },
  "language_info": {
   "codemirror_mode": {
    "name": "ipython",
    "version": 3
   },
   "file_extension": ".py",
   "mimetype": "text/x-python",
   "name": "python",
   "nbconvert_exporter": "python",
   "pygments_lexer": "ipython3",
   "version": "3.7.7"
  }
 },
 "nbformat": 4,
 "nbformat_minor": 4
}
