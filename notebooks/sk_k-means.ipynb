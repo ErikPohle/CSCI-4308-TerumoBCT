{
 "cells": [
  {
   "cell_type": "code",
   "execution_count": 1,
   "id": "personalized-peter",
   "metadata": {},
   "outputs": [],
   "source": [
    "import pandas as pd\n",
    "from functools import reduce\n",
    "import numpy as np\n",
    "import gc\n",
    "import matplotlib.pyplot as plt\n",
    "import numpy as np\n",
    "from sklearn.cluster import KMeans\n",
    "from sklearn.metrics import classification_report, confusion_matrix\n",
    "from sklearn.model_selection import train_test_split\n",
    "pd.set_option('display.max_columns', None)"
   ]
  },
  {
   "cell_type": "code",
   "execution_count": 2,
   "id": "express-compilation",
   "metadata": {},
   "outputs": [],
   "source": [
    "data = pd.read_feather(\"../data/finaldata/fact_data.feather\")"
   ]
  },
  {
   "cell_type": "code",
   "execution_count": 3,
   "id": "straight-suggestion",
   "metadata": {},
   "outputs": [
    {
     "data": {
      "text/html": [
       "<div>\n",
       "<style scoped>\n",
       "    .dataframe tbody tr th:only-of-type {\n",
       "        vertical-align: middle;\n",
       "    }\n",
       "\n",
       "    .dataframe tbody tr th {\n",
       "        vertical-align: top;\n",
       "    }\n",
       "\n",
       "    .dataframe thead th {\n",
       "        text-align: right;\n",
       "    }\n",
       "</style>\n",
       "<table border=\"1\" class=\"dataframe\">\n",
       "  <thead>\n",
       "    <tr style=\"text-align: right;\">\n",
       "      <th></th>\n",
       "      <th>product_volume</th>\n",
       "      <th>number_of_blood_product_units_processed</th>\n",
       "      <th>number_of_donation_units_processed</th>\n",
       "      <th>number_of_duplicated_donation_units</th>\n",
       "      <th>number_of_skipped_donation_barcodes</th>\n",
       "      <th>number_of_donation_alarms</th>\n",
       "      <th>number_of_alerts</th>\n",
       "      <th>number_of_duplicated_exception_units</th>\n",
       "      <th>number_of_reprocessed_units</th>\n",
       "      <th>number_of_inconclusive_sealed_units</th>\n",
       "      <th>number_of_unrecognized_barcodes</th>\n",
       "      <th>number_of_skipped_exception_barcodes</th>\n",
       "      <th>number_of_temp_out_of_range_exceptions</th>\n",
       "      <th>number_of_exception_alarms</th>\n",
       "      <th>procedure_duration_minutes</th>\n",
       "      <th>idle_time_duration_minutes</th>\n",
       "      <th>load_duration_minutes</th>\n",
       "      <th>unload_duration_minutes</th>\n",
       "      <th>load_idle_time_duration_minutes</th>\n",
       "      <th>run_duration_minutes</th>\n",
       "      <th>barcode_scan_duration_minutes</th>\n",
       "      <th>number_of_procedures</th>\n",
       "      <th>number_of_dummy_bags</th>\n",
       "      <th>number_of_barcode_scans</th>\n",
       "      <th>number_of_skipped_run_barcodes</th>\n",
       "      <th>start_basin_temperature</th>\n",
       "      <th>end_basin_temperature</th>\n",
       "      <th>max_basin_temperature</th>\n",
       "      <th>min_basin_temperature</th>\n",
       "      <th>run_number</th>\n",
       "    </tr>\n",
       "  </thead>\n",
       "  <tbody>\n",
       "    <tr>\n",
       "      <th>0</th>\n",
       "      <td>94</td>\n",
       "      <td>1</td>\n",
       "      <td>1</td>\n",
       "      <td>1</td>\n",
       "      <td>0</td>\n",
       "      <td>0</td>\n",
       "      <td>0</td>\n",
       "      <td>0</td>\n",
       "      <td>0</td>\n",
       "      <td>0</td>\n",
       "      <td>0</td>\n",
       "      <td>0</td>\n",
       "      <td>0</td>\n",
       "      <td>0</td>\n",
       "      <td>56.837234</td>\n",
       "      <td>0.0</td>\n",
       "      <td>32.056816</td>\n",
       "      <td>0.416667</td>\n",
       "      <td>0.671117</td>\n",
       "      <td>21.049999</td>\n",
       "      <td>6.171717</td>\n",
       "      <td>1</td>\n",
       "      <td>0</td>\n",
       "      <td>9</td>\n",
       "      <td>0</td>\n",
       "      <td>19.975</td>\n",
       "      <td>20.605</td>\n",
       "      <td>22.698999</td>\n",
       "      <td>19.961</td>\n",
       "      <td>1577.0</td>\n",
       "    </tr>\n",
       "    <tr>\n",
       "      <th>1</th>\n",
       "      <td>64</td>\n",
       "      <td>1</td>\n",
       "      <td>1</td>\n",
       "      <td>1</td>\n",
       "      <td>0</td>\n",
       "      <td>0</td>\n",
       "      <td>0</td>\n",
       "      <td>0</td>\n",
       "      <td>0</td>\n",
       "      <td>0</td>\n",
       "      <td>0</td>\n",
       "      <td>0</td>\n",
       "      <td>0</td>\n",
       "      <td>0</td>\n",
       "      <td>56.837234</td>\n",
       "      <td>0.0</td>\n",
       "      <td>32.056816</td>\n",
       "      <td>0.416667</td>\n",
       "      <td>0.671117</td>\n",
       "      <td>21.049999</td>\n",
       "      <td>6.171717</td>\n",
       "      <td>1</td>\n",
       "      <td>0</td>\n",
       "      <td>9</td>\n",
       "      <td>0</td>\n",
       "      <td>19.975</td>\n",
       "      <td>20.605</td>\n",
       "      <td>22.698999</td>\n",
       "      <td>19.961</td>\n",
       "      <td>1577.0</td>\n",
       "    </tr>\n",
       "    <tr>\n",
       "      <th>2</th>\n",
       "      <td>9</td>\n",
       "      <td>1</td>\n",
       "      <td>1</td>\n",
       "      <td>1</td>\n",
       "      <td>0</td>\n",
       "      <td>0</td>\n",
       "      <td>0</td>\n",
       "      <td>0</td>\n",
       "      <td>0</td>\n",
       "      <td>0</td>\n",
       "      <td>0</td>\n",
       "      <td>0</td>\n",
       "      <td>0</td>\n",
       "      <td>0</td>\n",
       "      <td>56.837234</td>\n",
       "      <td>0.0</td>\n",
       "      <td>32.056816</td>\n",
       "      <td>0.416667</td>\n",
       "      <td>0.671117</td>\n",
       "      <td>21.049999</td>\n",
       "      <td>6.171717</td>\n",
       "      <td>1</td>\n",
       "      <td>0</td>\n",
       "      <td>9</td>\n",
       "      <td>0</td>\n",
       "      <td>19.975</td>\n",
       "      <td>20.605</td>\n",
       "      <td>22.698999</td>\n",
       "      <td>19.961</td>\n",
       "      <td>1577.0</td>\n",
       "    </tr>\n",
       "    <tr>\n",
       "      <th>3</th>\n",
       "      <td>180</td>\n",
       "      <td>1</td>\n",
       "      <td>1</td>\n",
       "      <td>1</td>\n",
       "      <td>0</td>\n",
       "      <td>0</td>\n",
       "      <td>0</td>\n",
       "      <td>0</td>\n",
       "      <td>0</td>\n",
       "      <td>0</td>\n",
       "      <td>0</td>\n",
       "      <td>0</td>\n",
       "      <td>0</td>\n",
       "      <td>0</td>\n",
       "      <td>56.837234</td>\n",
       "      <td>0.0</td>\n",
       "      <td>32.056816</td>\n",
       "      <td>0.416667</td>\n",
       "      <td>0.671117</td>\n",
       "      <td>21.049999</td>\n",
       "      <td>6.171717</td>\n",
       "      <td>1</td>\n",
       "      <td>0</td>\n",
       "      <td>9</td>\n",
       "      <td>0</td>\n",
       "      <td>19.975</td>\n",
       "      <td>20.605</td>\n",
       "      <td>22.698999</td>\n",
       "      <td>19.961</td>\n",
       "      <td>1577.0</td>\n",
       "    </tr>\n",
       "    <tr>\n",
       "      <th>4</th>\n",
       "      <td>68</td>\n",
       "      <td>1</td>\n",
       "      <td>1</td>\n",
       "      <td>1</td>\n",
       "      <td>0</td>\n",
       "      <td>0</td>\n",
       "      <td>0</td>\n",
       "      <td>0</td>\n",
       "      <td>0</td>\n",
       "      <td>0</td>\n",
       "      <td>0</td>\n",
       "      <td>0</td>\n",
       "      <td>0</td>\n",
       "      <td>0</td>\n",
       "      <td>56.837234</td>\n",
       "      <td>0.0</td>\n",
       "      <td>32.056816</td>\n",
       "      <td>0.416667</td>\n",
       "      <td>0.671117</td>\n",
       "      <td>21.049999</td>\n",
       "      <td>6.171717</td>\n",
       "      <td>1</td>\n",
       "      <td>0</td>\n",
       "      <td>9</td>\n",
       "      <td>0</td>\n",
       "      <td>19.975</td>\n",
       "      <td>20.605</td>\n",
       "      <td>22.698999</td>\n",
       "      <td>19.961</td>\n",
       "      <td>1577.0</td>\n",
       "    </tr>\n",
       "  </tbody>\n",
       "</table>\n",
       "</div>"
      ],
      "text/plain": [
       "   product_volume  number_of_blood_product_units_processed  \\\n",
       "0              94                                        1   \n",
       "1              64                                        1   \n",
       "2               9                                        1   \n",
       "3             180                                        1   \n",
       "4              68                                        1   \n",
       "\n",
       "   number_of_donation_units_processed  number_of_duplicated_donation_units  \\\n",
       "0                                   1                                    1   \n",
       "1                                   1                                    1   \n",
       "2                                   1                                    1   \n",
       "3                                   1                                    1   \n",
       "4                                   1                                    1   \n",
       "\n",
       "   number_of_skipped_donation_barcodes  number_of_donation_alarms  \\\n",
       "0                                    0                          0   \n",
       "1                                    0                          0   \n",
       "2                                    0                          0   \n",
       "3                                    0                          0   \n",
       "4                                    0                          0   \n",
       "\n",
       "   number_of_alerts  number_of_duplicated_exception_units  \\\n",
       "0                 0                                     0   \n",
       "1                 0                                     0   \n",
       "2                 0                                     0   \n",
       "3                 0                                     0   \n",
       "4                 0                                     0   \n",
       "\n",
       "   number_of_reprocessed_units  number_of_inconclusive_sealed_units  \\\n",
       "0                            0                                    0   \n",
       "1                            0                                    0   \n",
       "2                            0                                    0   \n",
       "3                            0                                    0   \n",
       "4                            0                                    0   \n",
       "\n",
       "   number_of_unrecognized_barcodes  number_of_skipped_exception_barcodes  \\\n",
       "0                                0                                     0   \n",
       "1                                0                                     0   \n",
       "2                                0                                     0   \n",
       "3                                0                                     0   \n",
       "4                                0                                     0   \n",
       "\n",
       "   number_of_temp_out_of_range_exceptions  number_of_exception_alarms  \\\n",
       "0                                       0                           0   \n",
       "1                                       0                           0   \n",
       "2                                       0                           0   \n",
       "3                                       0                           0   \n",
       "4                                       0                           0   \n",
       "\n",
       "   procedure_duration_minutes  idle_time_duration_minutes  \\\n",
       "0                   56.837234                         0.0   \n",
       "1                   56.837234                         0.0   \n",
       "2                   56.837234                         0.0   \n",
       "3                   56.837234                         0.0   \n",
       "4                   56.837234                         0.0   \n",
       "\n",
       "   load_duration_minutes  unload_duration_minutes  \\\n",
       "0              32.056816                 0.416667   \n",
       "1              32.056816                 0.416667   \n",
       "2              32.056816                 0.416667   \n",
       "3              32.056816                 0.416667   \n",
       "4              32.056816                 0.416667   \n",
       "\n",
       "   load_idle_time_duration_minutes  run_duration_minutes  \\\n",
       "0                         0.671117             21.049999   \n",
       "1                         0.671117             21.049999   \n",
       "2                         0.671117             21.049999   \n",
       "3                         0.671117             21.049999   \n",
       "4                         0.671117             21.049999   \n",
       "\n",
       "   barcode_scan_duration_minutes  number_of_procedures  number_of_dummy_bags  \\\n",
       "0                       6.171717                     1                     0   \n",
       "1                       6.171717                     1                     0   \n",
       "2                       6.171717                     1                     0   \n",
       "3                       6.171717                     1                     0   \n",
       "4                       6.171717                     1                     0   \n",
       "\n",
       "   number_of_barcode_scans  number_of_skipped_run_barcodes  \\\n",
       "0                        9                               0   \n",
       "1                        9                               0   \n",
       "2                        9                               0   \n",
       "3                        9                               0   \n",
       "4                        9                               0   \n",
       "\n",
       "   start_basin_temperature  end_basin_temperature  max_basin_temperature  \\\n",
       "0                   19.975                 20.605              22.698999   \n",
       "1                   19.975                 20.605              22.698999   \n",
       "2                   19.975                 20.605              22.698999   \n",
       "3                   19.975                 20.605              22.698999   \n",
       "4                   19.975                 20.605              22.698999   \n",
       "\n",
       "   min_basin_temperature  run_number  \n",
       "0                 19.961      1577.0  \n",
       "1                 19.961      1577.0  \n",
       "2                 19.961      1577.0  \n",
       "3                 19.961      1577.0  \n",
       "4                 19.961      1577.0  "
      ]
     },
     "execution_count": 3,
     "metadata": {},
     "output_type": "execute_result"
    }
   ],
   "source": [
    "tmp_data = data._get_numeric_data()\n",
    "tmp_data = tmp_data.fillna(0)\n",
    "tmp_data.head()"
   ]
  },
  {
   "cell_type": "code",
   "execution_count": 36,
   "id": "entertaining-princess",
   "metadata": {},
   "outputs": [
    {
     "data": {
      "text/plain": [
       "count    2.192149e+07\n",
       "mean     2.131516e+01\n",
       "std      2.265117e+00\n",
       "min      0.000000e+00\n",
       "25%      2.107900e+01\n",
       "50%      2.170100e+01\n",
       "75%      2.201600e+01\n",
       "max      5.500000e+01\n",
       "Name: end_basin_temperature, dtype: float64"
      ]
     },
     "execution_count": 36,
     "metadata": {},
     "output_type": "execute_result"
    }
   ],
   "source": [
    "tmp_data['end_basin_temperature'].describe()"
   ]
  },
  {
   "cell_type": "code",
   "execution_count": 37,
   "id": "dietary-click",
   "metadata": {},
   "outputs": [
    {
     "data": {
      "text/plain": [
       "count    2.192149e+07\n",
       "mean     2.093417e+01\n",
       "std      2.332670e+00\n",
       "min      0.000000e+00\n",
       "25%      2.035200e+01\n",
       "50%      2.139700e+01\n",
       "75%      2.196000e+01\n",
       "max      5.500000e+01\n",
       "Name: start_basin_temperature, dtype: float64"
      ]
     },
     "execution_count": 37,
     "metadata": {},
     "output_type": "execute_result"
    }
   ],
   "source": [
    "tmp_data['start_basin_temperature'].describe()"
   ]
  },
  {
   "cell_type": "code",
   "execution_count": 38,
   "id": "massive-pixel",
   "metadata": {},
   "outputs": [
    {
     "data": {
      "text/plain": [
       "count    2.192149e+07\n",
       "mean     2.257268e+01\n",
       "std      2.317299e+00\n",
       "min      0.000000e+00\n",
       "25%      2.258400e+01\n",
       "50%      2.276400e+01\n",
       "75%      2.295400e+01\n",
       "max      5.500000e+01\n",
       "Name: max_basin_temperature, dtype: float64"
      ]
     },
     "execution_count": 38,
     "metadata": {},
     "output_type": "execute_result"
    }
   ],
   "source": [
    "tmp_data['max_basin_temperature'].describe()"
   ]
  },
  {
   "cell_type": "markdown",
   "id": "judicial-innocent",
   "metadata": {},
   "source": [
    "## K Means with number of alerts and max temperature"
   ]
  },
  {
   "cell_type": "code",
   "execution_count": 19,
   "id": "cleared-trader",
   "metadata": {},
   "outputs": [],
   "source": [
    "simpleData = tmp_data.filter(['number_of_alerts', 'max_basin_temperature'])"
   ]
  },
  {
   "cell_type": "code",
   "execution_count": 7,
   "id": "frequent-anthony",
   "metadata": {},
   "outputs": [],
   "source": [
    "train_data, test_data = train_test_split(simpleData, test_size=0.5)"
   ]
  },
  {
   "cell_type": "code",
   "execution_count": 8,
   "id": "visible-malta",
   "metadata": {},
   "outputs": [
    {
     "data": {
      "text/html": [
       "<div>\n",
       "<style scoped>\n",
       "    .dataframe tbody tr th:only-of-type {\n",
       "        vertical-align: middle;\n",
       "    }\n",
       "\n",
       "    .dataframe tbody tr th {\n",
       "        vertical-align: top;\n",
       "    }\n",
       "\n",
       "    .dataframe thead th {\n",
       "        text-align: right;\n",
       "    }\n",
       "</style>\n",
       "<table border=\"1\" class=\"dataframe\">\n",
       "  <thead>\n",
       "    <tr style=\"text-align: right;\">\n",
       "      <th></th>\n",
       "      <th>number_of_alerts</th>\n",
       "      <th>max_basin_temperature</th>\n",
       "    </tr>\n",
       "  </thead>\n",
       "  <tbody>\n",
       "    <tr>\n",
       "      <th>18304952</th>\n",
       "      <td>1</td>\n",
       "      <td>22.660000</td>\n",
       "    </tr>\n",
       "    <tr>\n",
       "      <th>21035398</th>\n",
       "      <td>0</td>\n",
       "      <td>22.863001</td>\n",
       "    </tr>\n",
       "    <tr>\n",
       "      <th>1847118</th>\n",
       "      <td>0</td>\n",
       "      <td>22.959999</td>\n",
       "    </tr>\n",
       "    <tr>\n",
       "      <th>18971586</th>\n",
       "      <td>1</td>\n",
       "      <td>22.295000</td>\n",
       "    </tr>\n",
       "    <tr>\n",
       "      <th>9983346</th>\n",
       "      <td>1</td>\n",
       "      <td>22.830999</td>\n",
       "    </tr>\n",
       "    <tr>\n",
       "      <th>13744639</th>\n",
       "      <td>0</td>\n",
       "      <td>23.087000</td>\n",
       "    </tr>\n",
       "    <tr>\n",
       "      <th>2471237</th>\n",
       "      <td>0</td>\n",
       "      <td>22.480000</td>\n",
       "    </tr>\n",
       "    <tr>\n",
       "      <th>17616679</th>\n",
       "      <td>0</td>\n",
       "      <td>22.454000</td>\n",
       "    </tr>\n",
       "    <tr>\n",
       "      <th>20428212</th>\n",
       "      <td>0</td>\n",
       "      <td>22.466999</td>\n",
       "    </tr>\n",
       "    <tr>\n",
       "      <th>14346729</th>\n",
       "      <td>0</td>\n",
       "      <td>22.576000</td>\n",
       "    </tr>\n",
       "  </tbody>\n",
       "</table>\n",
       "</div>"
      ],
      "text/plain": [
       "          number_of_alerts  max_basin_temperature\n",
       "18304952                 1              22.660000\n",
       "21035398                 0              22.863001\n",
       "1847118                  0              22.959999\n",
       "18971586                 1              22.295000\n",
       "9983346                  1              22.830999\n",
       "13744639                 0              23.087000\n",
       "2471237                  0              22.480000\n",
       "17616679                 0              22.454000\n",
       "20428212                 0              22.466999\n",
       "14346729                 0              22.576000"
      ]
     },
     "execution_count": 8,
     "metadata": {},
     "output_type": "execute_result"
    }
   ],
   "source": [
    "train_data.head(10)"
   ]
  },
  {
   "cell_type": "code",
   "execution_count": 14,
   "id": "psychological-latter",
   "metadata": {},
   "outputs": [],
   "source": [
    "kmeans = KMeans(n_clusters=5, random_state=0).fit(train_data)"
   ]
  },
  {
   "cell_type": "code",
   "execution_count": 15,
   "id": "common-television",
   "metadata": {},
   "outputs": [],
   "source": [
    "labels = kmeans.labels_"
   ]
  },
  {
   "cell_type": "code",
   "execution_count": 16,
   "id": "substantial-growth",
   "metadata": {},
   "outputs": [],
   "source": [
    "kmeans.fit(train_data['max_basin_temperature'].values.reshape(-1, 1).astype('float'))\n",
    "y_kmeans = kmeans.predict(train_data['max_basin_temperature'].values.reshape(-1, 1).astype('float'))"
   ]
  },
  {
   "cell_type": "code",
   "execution_count": 17,
   "id": "practical-account",
   "metadata": {},
   "outputs": [
    {
     "name": "stdout",
     "output_type": "stream",
     "text": [
      "[[2.30455943e+01]\n",
      " [4.08355867e-04]\n",
      " [2.26090165e+01]\n",
      " [2.40689469e+01]\n",
      " [2.08179254e+01]]\n"
     ]
    },
    {
     "data": {
      "text/plain": [
       "<matplotlib.collections.PathCollection at 0x7fa9b965ded0>"
      ]
     },
     "execution_count": 17,
     "metadata": {},
     "output_type": "execute_result"
    },
    {
     "data": {
      "image/png": "[encoded data removed]",
      "text/plain": [
       "<Figure size 432x288 with 1 Axes>"
      ]
     },
     "metadata": {
      "needs_background": "light"
     },
     "output_type": "display_data"
    }
   ],
   "source": [
    "centers = kmeans.cluster_centers_\n",
    "print(centers)\n",
    "plt.scatter(centers, centers, c='black', s=200, alpha=0.5)\n",
    "plt.scatter(train_data['max_basin_temperature'], train_data['number_of_alerts'], c=y_kmeans, s=50, cmap='viridis')\n",
    "\n"
   ]
  },
  {
   "cell_type": "markdown",
   "id": "recognized-design",
   "metadata": {},
   "source": [
    "## K Means with number of alerts and run duration"
   ]
  },
  {
   "cell_type": "code",
   "execution_count": 32,
   "id": "brief-dollar",
   "metadata": {},
   "outputs": [],
   "source": [
    "simpleData2 = tmp_data.filter(['number_of_alerts', 'run_duration_minutes'])"
   ]
  },
  {
   "cell_type": "code",
   "execution_count": 33,
   "id": "tutorial-backing",
   "metadata": {},
   "outputs": [],
   "source": [
    "train_data2, test_data2 = train_test_split(simpleData2, test_size=0.5)"
   ]
  },
  {
   "cell_type": "code",
   "execution_count": 34,
   "id": "gorgeous-indication",
   "metadata": {},
   "outputs": [
    {
     "data": {
      "text/html": [
       "<div>\n",
       "<style scoped>\n",
       "    .dataframe tbody tr th:only-of-type {\n",
       "        vertical-align: middle;\n",
       "    }\n",
       "\n",
       "    .dataframe tbody tr th {\n",
       "        vertical-align: top;\n",
       "    }\n",
       "\n",
       "    .dataframe thead th {\n",
       "        text-align: right;\n",
       "    }\n",
       "</style>\n",
       "<table border=\"1\" class=\"dataframe\">\n",
       "  <thead>\n",
       "    <tr style=\"text-align: right;\">\n",
       "      <th></th>\n",
       "      <th>number_of_alerts</th>\n",
       "      <th>run_duration_minutes</th>\n",
       "    </tr>\n",
       "  </thead>\n",
       "  <tbody>\n",
       "    <tr>\n",
       "      <th>8213297</th>\n",
       "      <td>0</td>\n",
       "      <td>19.315016</td>\n",
       "    </tr>\n",
       "    <tr>\n",
       "      <th>11327160</th>\n",
       "      <td>0</td>\n",
       "      <td>13.500000</td>\n",
       "    </tr>\n",
       "    <tr>\n",
       "      <th>8320730</th>\n",
       "      <td>0</td>\n",
       "      <td>21.799999</td>\n",
       "    </tr>\n",
       "    <tr>\n",
       "      <th>398585</th>\n",
       "      <td>3</td>\n",
       "      <td>10.916667</td>\n",
       "    </tr>\n",
       "    <tr>\n",
       "      <th>16759355</th>\n",
       "      <td>0</td>\n",
       "      <td>22.083334</td>\n",
       "    </tr>\n",
       "    <tr>\n",
       "      <th>14172468</th>\n",
       "      <td>0</td>\n",
       "      <td>18.400000</td>\n",
       "    </tr>\n",
       "    <tr>\n",
       "      <th>13036911</th>\n",
       "      <td>4</td>\n",
       "      <td>19.883333</td>\n",
       "    </tr>\n",
       "    <tr>\n",
       "      <th>13777926</th>\n",
       "      <td>0</td>\n",
       "      <td>11.700000</td>\n",
       "    </tr>\n",
       "    <tr>\n",
       "      <th>9857964</th>\n",
       "      <td>0</td>\n",
       "      <td>22.333334</td>\n",
       "    </tr>\n",
       "    <tr>\n",
       "      <th>15593147</th>\n",
       "      <td>1</td>\n",
       "      <td>20.116667</td>\n",
       "    </tr>\n",
       "  </tbody>\n",
       "</table>\n",
       "</div>"
      ],
      "text/plain": [
       "          number_of_alerts  run_duration_minutes\n",
       "8213297                  0             19.315016\n",
       "11327160                 0             13.500000\n",
       "8320730                  0             21.799999\n",
       "398585                   3             10.916667\n",
       "16759355                 0             22.083334\n",
       "14172468                 0             18.400000\n",
       "13036911                 4             19.883333\n",
       "13777926                 0             11.700000\n",
       "9857964                  0             22.333334\n",
       "15593147                 1             20.116667"
      ]
     },
     "execution_count": 34,
     "metadata": {},
     "output_type": "execute_result"
    }
   ],
   "source": [
    "train_data2.head(10)"
   ]
  },
  {
   "cell_type": "code",
   "execution_count": 35,
   "id": "brutal-foster",
   "metadata": {},
   "outputs": [],
   "source": [
    "kmeans2 = KMeans(n_clusters=4, random_state=0).fit(train_data2)"
   ]
  },
  {
   "cell_type": "code",
   "execution_count": 39,
   "id": "opened-bible",
   "metadata": {},
   "outputs": [],
   "source": [
    "labels2 = kmeans2.labels_"
   ]
  },
  {
   "cell_type": "code",
   "execution_count": 41,
   "id": "final-kingston",
   "metadata": {},
   "outputs": [],
   "source": [
    "kmeans2.fit(train_data2['run_duration_minutes'].values.reshape(-1, 1).astype('float'))\n",
    "y_kmeans2 = kmeans2.predict(train_data2['run_duration_minutes'].values.reshape(-1, 1).astype('float'))"
   ]
  },
  {
   "cell_type": "code",
   "execution_count": 42,
   "id": "eligible-retention",
   "metadata": {},
   "outputs": [
    {
     "name": "stdout",
     "output_type": "stream",
     "text": [
      "[[  19.57041907]\n",
      " [3259.36248537]\n",
      " [1366.14447343]\n",
      " [6521.64591319]]\n"
     ]
    },
    {
     "data": {
      "text/plain": [
       "<matplotlib.collections.PathCollection at 0x7faa0e306090>"
      ]
     },
     "execution_count": 42,
     "metadata": {},
     "output_type": "execute_result"
    },
    {
     "data": {
      "image/png": "[encoded data removed]",
      "text/plain": [
       "<Figure size 432x288 with 1 Axes>"
      ]
     },
     "metadata": {
      "needs_background": "light"
     },
     "output_type": "display_data"
    }
   ],
   "source": [
    "centers2 = kmeans2.cluster_centers_\n",
    "print(centers2)\n",
    "#plt.scatter(centers2, centers2, c='black', s=200, alpha=0.5)\n",
    "plt.scatter(train_data2['run_duration_minutes'], train_data2['number_of_alerts'], c=y_kmeans2, s=50, cmap='viridis')\n",
    "\n"
   ]
  },
  {
   "cell_type": "code",
   "execution_count": null,
   "id": "reserved-greene",
   "metadata": {},
   "outputs": [],
   "source": []
  }
 ],
 "metadata": {
  "kernelspec": {
   "display_name": "Python 3",
   "language": "python",
   "name": "python3"
  },
  "language_info": {
   "codemirror_mode": {
    "name": "ipython",
    "version": 3
   },
   "file_extension": ".py",
   "mimetype": "text/x-python",
   "name": "python",
   "nbconvert_exporter": "python",
   "pygments_lexer": "ipython3",
   "version": "3.7.4"
  }
 },
 "nbformat": 4,
 "nbformat_minor": 5
}
