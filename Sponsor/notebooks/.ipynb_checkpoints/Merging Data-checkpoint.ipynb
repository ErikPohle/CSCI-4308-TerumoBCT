{
 "cells": [
  {
   "cell_type": "code",
   "execution_count": 1,
   "metadata": {},
   "outputs": [],
   "source": [
    "import pandas as pd\n",
    "from functools import reduce\n",
    "import numpy as np\n",
    "import gc"
   ]
  },
  {
   "cell_type": "markdown",
   "metadata": {},
   "source": [
    "The pandas dataframes we are working with are very large, to make them easier to work with we will do a variety of tricks to shrink their memory footprint."
   ]
  },
  {
   "cell_type": "code",
   "execution_count": 2,
   "metadata": {},
   "outputs": [],
   "source": [
    "def mem_usage(pandas_obj):\n",
    "    if isinstance(pandas_obj,pd.DataFrame):\n",
    "        usage_b = pandas_obj.memory_usage(deep=True).sum()\n",
    "    else: # we assume if not a df it's a series\n",
    "        usage_b = pandas_obj.memory_usage(deep=True)\n",
    "    usage_mb = usage_b / 1024 ** 2 # convert bytes to megabytes\n",
    "    return \"{:03.2f} MB\".format(usage_mb)"
   ]
  },
  {
   "cell_type": "code",
   "execution_count": 38,
   "metadata": {},
   "outputs": [],
   "source": [
    "def reduce_mem_usage(df, make_sparse=False):\n",
    "    start_mem_usg = df.memory_usage().sum() / 1024**2 \n",
    "    print(\"Memory usage of dataframe is :\",start_mem_usg,\" MB\")\n",
    "    # First drop empty columns\n",
    "    df.dropna(axis=1,how='all', inplace=True)\n",
    "    for col in df.columns:\n",
    "        # Print current column type\n",
    "        print(\"******************************\")\n",
    "        print(\"Column: \",col)\n",
    "        print(\"dtype before: \",df[col].dtype)\n",
    "        if str(df[col].dtype) in [\"object\", \"string\"]:\n",
    "            print(df[col].nunique(), len(df[col]), (df[col].nunique() / len(df[col])))\n",
    "            if (df[col].nunique() / len(df[col])) < 0.5:\n",
    "                df.loc[:,col] = df[col].astype('category')\n",
    "        elif str(df[col].dtype).lower() == \"int64\": \n",
    "            # Make Integer/unsigned Integer datatypes\n",
    "            mx = df[col].max()\n",
    "            mn = df[col].min()\n",
    "            try:\n",
    "                if mn >= 0:\n",
    "                    if mx < 255:\n",
    "                        df[col] = df[col].astype(np.uint8)\n",
    "                    elif mx < 65535:\n",
    "                        df[col] = df[col].astype(np.uint16)\n",
    "                    elif mx < 4294967295:\n",
    "                        df[col] = df[col].astype(np.uint32)\n",
    "                    else:\n",
    "                        df[col] = df[col].astype(np.uint64)\n",
    "                else:\n",
    "                    if mn > np.iinfo(np.int8).min and mx < np.iinfo(np.int8).max:\n",
    "                        df[col] = df[col].astype(np.int8)\n",
    "                    elif mn > np.iinfo(np.int16).min and mx < np.iinfo(np.int16).max:\n",
    "                        df[col] = df[col].astype(np.int16)\n",
    "                    elif mn > np.iinfo(np.int32).min and mx < np.iinfo(np.int32).max:\n",
    "                        df[col] = df[col].astype(np.int32)\n",
    "                    elif mn > np.iinfo(np.int64).min and mx < np.iinfo(np.int64).max:\n",
    "                        df[col] = df[col].astype(np.int64)\n",
    "            except ValueError:\n",
    "                df[col] = df[col].astype(\"Int64\")\n",
    "                # Make float datatypes 32 bit\n",
    "        elif str(df[col].dtype) == \"float64\":\n",
    "            df[col] = df[col].astype(np.float32)\n",
    "            \n",
    "        if (len(df[col].dropna()) / len(df[col]) < 0.25) and make_sparse:\n",
    "            df[col] = pd.arrays.SparseArray(df[col], dtype = df[col].dtype)\n",
    "        # Print new column type\n",
    "        print(\"dtype after: \",df[col].dtype)\n",
    "        print(\"******************************\")\n",
    "    \n",
    "    # Print final result\n",
    "    print(\"___MEMORY USAGE AFTER COMPLETION:___\")\n",
    "    mem_usg = df.memory_usage().sum() / 1024**2 \n",
    "    print(\"Memory usage is: \",mem_usg,\" MB\")\n",
    "    print(\"This is \",100 * mem_usg / start_mem_usg,\"% of the initial size\")\n",
    "    return df"
   ]
  },
  {
   "cell_type": "markdown",
   "metadata": {},
   "source": [
    "## Fact Data\n",
    "Some previous data exploration, checking for nans, num unique values, etc. has been omitted for brevity."
   ]
  },
  {
   "cell_type": "code",
   "execution_count": 39,
   "metadata": {},
   "outputs": [],
   "source": [
    "# Load all the raw data queried from the db\n",
    "fact_blood_product = pd.read_feather(\"../data/raw/fact_blood_product.feather\")\n",
    "fact_donation = pd.read_feather(\"../data/raw/fact_donation.feather\")\n",
    "fact_exception = pd.read_feather(\"../data/raw/fact_exception.feather\")\n",
    "fact_run = pd.read_feather(\"../data/raw/fact_run.feather\")"
   ]
  },
  {
   "cell_type": "markdown",
   "metadata": {},
   "source": [
    "As of right now we don't know if some columns that share a name represent the same information.\n",
    "So for now going to rename the columns to keep the information seperate."
   ]
  },
  {
   "cell_type": "code",
   "execution_count": 40,
   "metadata": {},
   "outputs": [],
   "source": [
    "fact_blood_product.rename(columns={\n",
    "    \"number_of_units_processed\":\"number_of_blood_product_units_processed\"}, inplace=True)\n",
    "fact_donation.rename(columns={\n",
    "    \"number_of_units_processed\":\"number_of_donation_units_processed\",\n",
    "    \"number_of_duplicated_units\":\"number_of_duplicated_donation_units\",\n",
    "    \"number_of_skipped_barcodes\":\"number_of_skipped_donation_barcodes\",\n",
    "    \"number_of_alarms\":\"number_of_donation_alarms\",}, inplace=True)\n",
    "fact_exception.rename(columns={\n",
    "    \"number_of_units_processed\":\"number_of_donation_units_processed\",\n",
    "    \"number_of_duplicated_units\":\"number_of_duplicated_exception_units\",\n",
    "    \"number_of_skipped_barcodes\":\"number_of_skipped_exception_barcodes\",\n",
    "    \"number_of_alarms\":\"number_of_exception_alarms\",}, inplace=True)\n",
    "fact_run.rename(columns={\n",
    "    \"number_of_barcodes_skipped\":\"number_of_skipped_run_barcodes\"}, inplace=True)"
   ]
  },
  {
   "cell_type": "markdown",
   "metadata": {},
   "source": [
    "### fact_blood_product & dim_blood_product"
   ]
  },
  {
   "cell_type": "code",
   "execution_count": 41,
   "metadata": {},
   "outputs": [
    {
     "name": "stdout",
     "output_type": "stream",
     "text": [
      "<class 'pandas.core.frame.DataFrame'>\n",
      "RangeIndex: 17971048 entries, 0 to 17971047\n",
      "Data columns (total 11 columns):\n",
      " #   Column                                   Non-Null Count     Dtype \n",
      "---  ------                                   --------------     ----- \n",
      " 0   dim_run_date                             17971048 non-null  object\n",
      " 1   dim_device_id                            17971048 non-null  string\n",
      " 2   dim_donation_id                          17971048 non-null  string\n",
      " 3   dim_custom_data_id                       0 non-null         object\n",
      " 4   dim_run_id                               17971048 non-null  string\n",
      " 5   dim_facility_id                          17971048 non-null  string\n",
      " 6   dim_configuration_id                     17971048 non-null  string\n",
      " 7   dim_operator_id                          15730738 non-null  string\n",
      " 8   dim_blood_product_id                     17971048 non-null  string\n",
      " 9   product_volume                           17971048 non-null  Int64 \n",
      " 10  number_of_blood_product_units_processed  17971048 non-null  Int64 \n",
      "dtypes: Int64(2), object(2), string(7)\n",
      "memory usage: 1.5+ GB\n"
     ]
    }
   ],
   "source": [
    "fact_blood_product = fact_blood_product.convert_dtypes()\n",
    "fact_blood_product.info(verbose=True, null_counts=True)"
   ]
  },
  {
   "cell_type": "code",
   "execution_count": 42,
   "metadata": {},
   "outputs": [],
   "source": [
    "# fact_blood_product has a column with all NaNs get rid of it\n",
    "fact_blood_product.dropna(axis=1,how='all', inplace=True)"
   ]
  },
  {
   "cell_type": "markdown",
   "metadata": {},
   "source": [
    "Now lets replace the dim_blood_product_id with the actuall blood products, this is essentially just a string replacement."
   ]
  },
  {
   "cell_type": "code",
   "execution_count": 43,
   "metadata": {},
   "outputs": [
    {
     "data": {
      "text/plain": [
       "106"
      ]
     },
     "execution_count": 43,
     "metadata": {},
     "output_type": "execute_result"
    }
   ],
   "source": [
    "dim_blood_product = pd.read_feather(\"../data/raw/dim_blood_product.feather\")\n",
    "blood_products = dim_blood_product.set_index('dim_blood_product_id')['blood_product_type'].to_dict()\n",
    "fact_blood_product[\"blood_product\"] = fact_blood_product[\"dim_blood_product_id\"].replace(blood_products)\n",
    "fact_blood_product.drop(columns=['dim_blood_product_id'], inplace = True)\n",
    "del dim_blood_product\n",
    "gc.collect()"
   ]
  },
  {
   "cell_type": "code",
   "execution_count": 44,
   "metadata": {},
   "outputs": [
    {
     "data": {
      "text/html": [
       "<div>\n",
       "<style scoped>\n",
       "    .dataframe tbody tr th:only-of-type {\n",
       "        vertical-align: middle;\n",
       "    }\n",
       "\n",
       "    .dataframe tbody tr th {\n",
       "        vertical-align: top;\n",
       "    }\n",
       "\n",
       "    .dataframe thead th {\n",
       "        text-align: right;\n",
       "    }\n",
       "</style>\n",
       "<table border=\"1\" class=\"dataframe\">\n",
       "  <thead>\n",
       "    <tr style=\"text-align: right;\">\n",
       "      <th></th>\n",
       "      <th>dim_run_date</th>\n",
       "      <th>dim_device_id</th>\n",
       "      <th>dim_donation_id</th>\n",
       "      <th>dim_run_id</th>\n",
       "      <th>dim_facility_id</th>\n",
       "      <th>dim_configuration_id</th>\n",
       "      <th>dim_operator_id</th>\n",
       "      <th>product_volume</th>\n",
       "      <th>number_of_blood_product_units_processed</th>\n",
       "      <th>blood_product</th>\n",
       "    </tr>\n",
       "  </thead>\n",
       "  <tbody>\n",
       "    <tr>\n",
       "      <th>0</th>\n",
       "      <td>2015-01-19</td>\n",
       "      <td>9C412C1A-1127-EB11-80C7-005056AF16E2</td>\n",
       "      <td>5726EF30-1127-EB11-80C7-005056AF16E2</td>\n",
       "      <td>7C3DF18D-1127-EB11-80C7-005056AF16E2</td>\n",
       "      <td>290D989C-1127-EB11-80C7-005056AF16E2</td>\n",
       "      <td>DD0F989C-1127-EB11-80C7-005056AF16E2</td>\n",
       "      <td>C9B35BA5-1127-EB11-80C7-005056AF16E2</td>\n",
       "      <td>94</td>\n",
       "      <td>1</td>\n",
       "      <td>Platelet_Yield_Index</td>\n",
       "    </tr>\n",
       "    <tr>\n",
       "      <th>1</th>\n",
       "      <td>2015-01-19</td>\n",
       "      <td>9C412C1A-1127-EB11-80C7-005056AF16E2</td>\n",
       "      <td>5726EF30-1127-EB11-80C7-005056AF16E2</td>\n",
       "      <td>7C3DF18D-1127-EB11-80C7-005056AF16E2</td>\n",
       "      <td>290D989C-1127-EB11-80C7-005056AF16E2</td>\n",
       "      <td>DD0F989C-1127-EB11-80C7-005056AF16E2</td>\n",
       "      <td>C9B35BA5-1127-EB11-80C7-005056AF16E2</td>\n",
       "      <td>64</td>\n",
       "      <td>1</td>\n",
       "      <td>Platelet_Volume</td>\n",
       "    </tr>\n",
       "    <tr>\n",
       "      <th>2</th>\n",
       "      <td>2015-01-19</td>\n",
       "      <td>9C412C1A-1127-EB11-80C7-005056AF16E2</td>\n",
       "      <td>5726EF30-1127-EB11-80C7-005056AF16E2</td>\n",
       "      <td>7C3DF18D-1127-EB11-80C7-005056AF16E2</td>\n",
       "      <td>290D989C-1127-EB11-80C7-005056AF16E2</td>\n",
       "      <td>DD0F989C-1127-EB11-80C7-005056AF16E2</td>\n",
       "      <td>C9B35BA5-1127-EB11-80C7-005056AF16E2</td>\n",
       "      <td>9</td>\n",
       "      <td>1</td>\n",
       "      <td>Leukocyte_Volume</td>\n",
       "    </tr>\n",
       "    <tr>\n",
       "      <th>3</th>\n",
       "      <td>2015-01-19</td>\n",
       "      <td>9C412C1A-1127-EB11-80C7-005056AF16E2</td>\n",
       "      <td>5726EF30-1127-EB11-80C7-005056AF16E2</td>\n",
       "      <td>7C3DF18D-1127-EB11-80C7-005056AF16E2</td>\n",
       "      <td>290D989C-1127-EB11-80C7-005056AF16E2</td>\n",
       "      <td>DD0F989C-1127-EB11-80C7-005056AF16E2</td>\n",
       "      <td>C9B35BA5-1127-EB11-80C7-005056AF16E2</td>\n",
       "      <td>180</td>\n",
       "      <td>1</td>\n",
       "      <td>Plasma_Volume</td>\n",
       "    </tr>\n",
       "    <tr>\n",
       "      <th>4</th>\n",
       "      <td>2015-01-22</td>\n",
       "      <td>9C412C1A-1127-EB11-80C7-005056AF16E2</td>\n",
       "      <td>3E272D31-1127-EB11-80C7-005056AF16E2</td>\n",
       "      <td>75347281-1127-EB11-80C7-005056AF16E2</td>\n",
       "      <td>290D989C-1127-EB11-80C7-005056AF16E2</td>\n",
       "      <td>DD0F989C-1127-EB11-80C7-005056AF16E2</td>\n",
       "      <td>BAB75BA5-1127-EB11-80C7-005056AF16E2</td>\n",
       "      <td>9</td>\n",
       "      <td>1</td>\n",
       "      <td>Leukocyte_Volume</td>\n",
       "    </tr>\n",
       "  </tbody>\n",
       "</table>\n",
       "</div>"
      ],
      "text/plain": [
       "  dim_run_date                         dim_device_id  \\\n",
       "0   2015-01-19  9C412C1A-1127-EB11-80C7-005056AF16E2   \n",
       "1   2015-01-19  9C412C1A-1127-EB11-80C7-005056AF16E2   \n",
       "2   2015-01-19  9C412C1A-1127-EB11-80C7-005056AF16E2   \n",
       "3   2015-01-19  9C412C1A-1127-EB11-80C7-005056AF16E2   \n",
       "4   2015-01-22  9C412C1A-1127-EB11-80C7-005056AF16E2   \n",
       "\n",
       "                        dim_donation_id                            dim_run_id  \\\n",
       "0  5726EF30-1127-EB11-80C7-005056AF16E2  7C3DF18D-1127-EB11-80C7-005056AF16E2   \n",
       "1  5726EF30-1127-EB11-80C7-005056AF16E2  7C3DF18D-1127-EB11-80C7-005056AF16E2   \n",
       "2  5726EF30-1127-EB11-80C7-005056AF16E2  7C3DF18D-1127-EB11-80C7-005056AF16E2   \n",
       "3  5726EF30-1127-EB11-80C7-005056AF16E2  7C3DF18D-1127-EB11-80C7-005056AF16E2   \n",
       "4  3E272D31-1127-EB11-80C7-005056AF16E2  75347281-1127-EB11-80C7-005056AF16E2   \n",
       "\n",
       "                        dim_facility_id                  dim_configuration_id  \\\n",
       "0  290D989C-1127-EB11-80C7-005056AF16E2  DD0F989C-1127-EB11-80C7-005056AF16E2   \n",
       "1  290D989C-1127-EB11-80C7-005056AF16E2  DD0F989C-1127-EB11-80C7-005056AF16E2   \n",
       "2  290D989C-1127-EB11-80C7-005056AF16E2  DD0F989C-1127-EB11-80C7-005056AF16E2   \n",
       "3  290D989C-1127-EB11-80C7-005056AF16E2  DD0F989C-1127-EB11-80C7-005056AF16E2   \n",
       "4  290D989C-1127-EB11-80C7-005056AF16E2  DD0F989C-1127-EB11-80C7-005056AF16E2   \n",
       "\n",
       "                        dim_operator_id  product_volume  \\\n",
       "0  C9B35BA5-1127-EB11-80C7-005056AF16E2              94   \n",
       "1  C9B35BA5-1127-EB11-80C7-005056AF16E2              64   \n",
       "2  C9B35BA5-1127-EB11-80C7-005056AF16E2               9   \n",
       "3  C9B35BA5-1127-EB11-80C7-005056AF16E2             180   \n",
       "4  BAB75BA5-1127-EB11-80C7-005056AF16E2               9   \n",
       "\n",
       "   number_of_blood_product_units_processed         blood_product  \n",
       "0                                        1  Platelet_Yield_Index  \n",
       "1                                        1       Platelet_Volume  \n",
       "2                                        1      Leukocyte_Volume  \n",
       "3                                        1         Plasma_Volume  \n",
       "4                                        1      Leukocyte_Volume  "
      ]
     },
     "execution_count": 44,
     "metadata": {},
     "output_type": "execute_result"
    }
   ],
   "source": [
    "fact_blood_product.head()"
   ]
  },
  {
   "cell_type": "markdown",
   "metadata": {},
   "source": [
    "Now lets clean up the datatypes"
   ]
  },
  {
   "cell_type": "code",
   "execution_count": 45,
   "metadata": {
    "scrolled": true
   },
   "outputs": [
    {
     "name": "stdout",
     "output_type": "stream",
     "text": [
      "Memory usage of dataframe is : 1405.3593292236328  MB\n",
      "******************************\n",
      "Column:  dim_run_date\n",
      "dtype before:  object\n",
      "2756 17971048 0.00015335777857807735\n",
      "dtype after:  category\n",
      "******************************\n",
      "******************************\n",
      "Column:  dim_device_id\n",
      "dtype before:  string\n",
      "1595 17971048 8.87538667750484e-05\n",
      "dtype after:  category\n",
      "******************************\n",
      "******************************\n",
      "Column:  dim_donation_id\n",
      "dtype before:  string\n",
      "4907126 17971048 0.2730573086221794\n",
      "dtype after:  category\n",
      "******************************\n",
      "******************************\n",
      "Column:  dim_run_id\n",
      "dtype before:  string\n",
      "1307580 17971048 0.07276036433712714\n",
      "dtype after:  category\n",
      "******************************\n",
      "******************************\n",
      "Column:  dim_facility_id\n",
      "dtype before:  string\n",
      "329 17971048 1.8307223930401832e-05\n",
      "dtype after:  category\n",
      "******************************\n",
      "******************************\n",
      "Column:  dim_configuration_id\n",
      "dtype before:  string\n",
      "4145 17971048 0.0002306487635000474\n",
      "dtype after:  category\n",
      "******************************\n",
      "******************************\n",
      "Column:  dim_operator_id\n",
      "dtype before:  string\n",
      "3189 17971048 0.00017745208849255758\n",
      "dtype after:  category\n",
      "******************************\n",
      "******************************\n",
      "Column:  product_volume\n",
      "dtype before:  Int64\n",
      "dtype after:  uint16\n",
      "******************************\n",
      "******************************\n",
      "Column:  number_of_blood_product_units_processed\n",
      "dtype before:  Int64\n",
      "dtype after:  uint8\n",
      "******************************\n",
      "******************************\n",
      "Column:  blood_product\n",
      "dtype before:  object\n",
      "7 17971048 3.895154027745071e-07\n",
      "dtype after:  category\n",
      "******************************\n",
      "___MEMORY USAGE AFTER COMPLETION:___\n",
      "Memory usage is:  625.0326919555664  MB\n",
      "This is  44.47493811428677 % of the initial size\n"
     ]
    }
   ],
   "source": [
    "fact_blood_product = reduce_mem_usage(fact_blood_product)"
   ]
  },
  {
   "cell_type": "code",
   "execution_count": 46,
   "metadata": {},
   "outputs": [
    {
     "name": "stdout",
     "output_type": "stream",
     "text": [
      "<class 'pandas.core.frame.DataFrame'>\n",
      "RangeIndex: 17971048 entries, 0 to 17971047\n",
      "Data columns (total 10 columns):\n",
      " #   Column                                   Non-Null Count     Dtype   \n",
      "---  ------                                   --------------     -----   \n",
      " 0   dim_run_date                             17971048 non-null  category\n",
      " 1   dim_device_id                            17971048 non-null  category\n",
      " 2   dim_donation_id                          17971048 non-null  category\n",
      " 3   dim_run_id                               17971048 non-null  category\n",
      " 4   dim_facility_id                          17971048 non-null  category\n",
      " 5   dim_configuration_id                     17971048 non-null  category\n",
      " 6   dim_operator_id                          15730738 non-null  category\n",
      " 7   product_volume                           17971048 non-null  uint16  \n",
      " 8   number_of_blood_product_units_processed  17971048 non-null  uint8   \n",
      " 9   blood_product                            17971048 non-null  category\n",
      "dtypes: category(8), uint16(1), uint8(1)\n",
      "memory usage: 625.0 MB\n"
     ]
    }
   ],
   "source": [
    "fact_blood_product.info(verbose=True, null_counts=True)"
   ]
  },
  {
   "cell_type": "code",
   "execution_count": 47,
   "metadata": {},
   "outputs": [],
   "source": [
    "fact_blood_product.to_feather(\"../data/interim/fact_blood_product.feather\")"
   ]
  },
  {
   "cell_type": "markdown",
   "metadata": {},
   "source": [
    "## fact_donation"
   ]
  },
  {
   "cell_type": "code",
   "execution_count": 49,
   "metadata": {},
   "outputs": [
    {
     "name": "stdout",
     "output_type": "stream",
     "text": [
      "<class 'pandas.core.frame.DataFrame'>\n",
      "RangeIndex: 5318940 entries, 0 to 5318939\n",
      "Data columns (total 13 columns):\n",
      " #   Column                               Non-Null Count    Dtype \n",
      "---  ------                               --------------    ----- \n",
      " 0   dim_run_date                         5318940 non-null  object\n",
      " 1   dim_device_id                        5318940 non-null  string\n",
      " 2   dim_donation_id                      5318940 non-null  string\n",
      " 3   dim_custom_data_id                   5283316 non-null  string\n",
      " 4   dim_run_id                           5318940 non-null  string\n",
      " 5   dim_facility_id                      5318940 non-null  string\n",
      " 6   dim_configuration_id                 5318940 non-null  string\n",
      " 7   dim_operator_id                      4635496 non-null  string\n",
      " 8   number_of_donation_units_processed   5318940 non-null  Int64 \n",
      " 9   number_of_duplicated_donation_units  5318940 non-null  Int64 \n",
      " 10  number_of_skipped_donation_barcodes  5318940 non-null  Int64 \n",
      " 11  number_of_donation_alarms            5318940 non-null  Int64 \n",
      " 12  number_of_alerts                     5318940 non-null  Int64 \n",
      "dtypes: Int64(5), object(1), string(7)\n",
      "memory usage: 552.9+ MB\n"
     ]
    }
   ],
   "source": [
    "fact_donation = fact_donation.convert_dtypes()\n",
    "fact_donation.info(verbose=True, null_counts=True)"
   ]
  },
  {
   "cell_type": "code",
   "execution_count": 50,
   "metadata": {
    "scrolled": true
   },
   "outputs": [
    {
     "name": "stdout",
     "output_type": "stream",
     "text": [
      "Memory usage of dataframe is : 552.9065971374512  MB\n",
      "******************************\n",
      "Column:  dim_run_date\n",
      "dtype before:  object\n",
      "2779 5318940 0.0005224725227206924\n",
      "dtype after:  category\n",
      "******************************\n",
      "******************************\n",
      "Column:  dim_device_id\n",
      "dtype before:  string\n",
      "2014 5318940 0.00037864687324918125\n",
      "dtype after:  category\n",
      "******************************\n",
      "******************************\n",
      "Column:  dim_donation_id\n",
      "dtype before:  string\n",
      "5318940 5318940 1.0\n",
      "dtype after:  string\n",
      "******************************\n",
      "******************************\n",
      "Column:  dim_custom_data_id\n",
      "dtype before:  string\n",
      "5283316 5318940 0.9933024249192508\n",
      "dtype after:  string\n",
      "******************************\n",
      "******************************\n",
      "Column:  dim_run_id\n",
      "dtype before:  string\n",
      "1329735 5318940 0.25\n",
      "dtype after:  category\n",
      "******************************\n",
      "******************************\n",
      "Column:  dim_facility_id\n",
      "dtype before:  string\n",
      "353 5318940 6.636660688031826e-05\n",
      "dtype after:  category\n",
      "******************************\n",
      "******************************\n",
      "Column:  dim_configuration_id\n",
      "dtype before:  string\n",
      "5747 5318940 0.00108047844119317\n",
      "dtype after:  category\n",
      "******************************\n",
      "******************************\n",
      "Column:  dim_operator_id\n",
      "dtype before:  string\n",
      "3245 5318940 0.0006100839640981098\n",
      "dtype after:  category\n",
      "******************************\n",
      "******************************\n",
      "Column:  number_of_donation_units_processed\n",
      "dtype before:  Int64\n",
      "dtype after:  uint8\n",
      "******************************\n",
      "******************************\n",
      "Column:  number_of_duplicated_donation_units\n",
      "dtype before:  Int64\n",
      "dtype after:  uint8\n",
      "******************************\n",
      "******************************\n",
      "Column:  number_of_skipped_donation_barcodes\n",
      "dtype before:  Int64\n",
      "dtype after:  uint8\n",
      "******************************\n",
      "******************************\n",
      "Column:  number_of_donation_alarms\n",
      "dtype before:  Int64\n",
      "dtype after:  uint8\n",
      "******************************\n",
      "******************************\n",
      "Column:  number_of_alerts\n",
      "dtype before:  Int64\n",
      "dtype after:  uint8\n",
      "******************************\n",
      "___MEMORY USAGE AFTER COMPLETION:___\n",
      "Memory usage is:  228.2703514099121  MB\n",
      "This is  41.28551776949854 % of the initial size\n"
     ]
    }
   ],
   "source": [
    "fact_donation = reduce_mem_usage(fact_donation)"
   ]
  },
  {
   "cell_type": "code",
   "execution_count": 51,
   "metadata": {},
   "outputs": [
    {
     "name": "stdout",
     "output_type": "stream",
     "text": [
      "<class 'pandas.core.frame.DataFrame'>\n",
      "RangeIndex: 5318940 entries, 0 to 5318939\n",
      "Data columns (total 13 columns):\n",
      " #   Column                               Non-Null Count    Dtype   \n",
      "---  ------                               --------------    -----   \n",
      " 0   dim_run_date                         5318940 non-null  category\n",
      " 1   dim_device_id                        5318940 non-null  category\n",
      " 2   dim_donation_id                      5318940 non-null  string  \n",
      " 3   dim_custom_data_id                   5283316 non-null  string  \n",
      " 4   dim_run_id                           5318940 non-null  category\n",
      " 5   dim_facility_id                      5318940 non-null  category\n",
      " 6   dim_configuration_id                 5318940 non-null  category\n",
      " 7   dim_operator_id                      4635496 non-null  category\n",
      " 8   number_of_donation_units_processed   5318940 non-null  uint8   \n",
      " 9   number_of_duplicated_donation_units  5318940 non-null  uint8   \n",
      " 10  number_of_skipped_donation_barcodes  5318940 non-null  uint8   \n",
      " 11  number_of_donation_alarms            5318940 non-null  uint8   \n",
      " 12  number_of_alerts                     5318940 non-null  uint8   \n",
      "dtypes: category(6), string(2), uint8(5)\n",
      "memory usage: 228.3 MB\n"
     ]
    }
   ],
   "source": [
    "fact_donation.info(verbose=True, null_counts=True)"
   ]
  },
  {
   "cell_type": "code",
   "execution_count": 52,
   "metadata": {},
   "outputs": [],
   "source": [
    "fact_donation.to_feather(\"../data/interim/fact_donation.feather\")"
   ]
  },
  {
   "cell_type": "markdown",
   "metadata": {},
   "source": [
    "## fact_exception"
   ]
  },
  {
   "cell_type": "code",
   "execution_count": 53,
   "metadata": {},
   "outputs": [
    {
     "name": "stdout",
     "output_type": "stream",
     "text": [
      "<class 'pandas.core.frame.DataFrame'>\n",
      "RangeIndex: 599267 entries, 0 to 599266\n",
      "Data columns (total 14 columns):\n",
      " #   Column                                  Non-Null Count   Dtype \n",
      "---  ------                                  --------------   ----- \n",
      " 0   dim_run_date                            599267 non-null  object\n",
      " 1   dim_device_id                           599267 non-null  string\n",
      " 2   dim_run_id                              599267 non-null  string\n",
      " 3   dim_facility_id                         599267 non-null  string\n",
      " 4   dim_configuration_id                    599267 non-null  string\n",
      " 5   dim_operator_id                         477562 non-null  string\n",
      " 6   dim_exception_id                        599267 non-null  string\n",
      " 7   number_of_duplicated_exception_units    599267 non-null  Int64 \n",
      " 8   number_of_reprocessed_units             599267 non-null  Int64 \n",
      " 9   number_of_inconclusive_sealed_units     599267 non-null  Int64 \n",
      " 10  number_of_unrecognized_barcodes         599267 non-null  Int64 \n",
      " 11  number_of_skipped_exception_barcodes    599267 non-null  Int64 \n",
      " 12  number_of_temp_out_of_range_exceptions  599267 non-null  Int64 \n",
      " 13  number_of_exception_alarms              599267 non-null  Int64 \n",
      "dtypes: Int64(7), object(1), string(6)\n",
      "memory usage: 68.0+ MB\n"
     ]
    }
   ],
   "source": [
    "fact_exception = fact_exception.convert_dtypes()\n",
    "fact_exception.info(verbose=True, null_counts=True)"
   ]
  },
  {
   "cell_type": "code",
   "execution_count": 54,
   "metadata": {
    "scrolled": true
   },
   "outputs": [
    {
     "name": "stdout",
     "output_type": "stream",
     "text": [
      "Memory usage of dataframe is : 68.00928211212158  MB\n",
      "******************************\n",
      "Column:  dim_run_date\n",
      "dtype before:  object\n",
      "2775 599267 0.004630657119447591\n",
      "dtype after:  category\n",
      "******************************\n",
      "******************************\n",
      "Column:  dim_device_id\n",
      "dtype before:  string\n",
      "1946 599267 0.003247300452052257\n",
      "dtype after:  category\n",
      "******************************\n",
      "******************************\n",
      "Column:  dim_run_id\n",
      "dtype before:  string\n",
      "314787 599267 0.5252867252827204\n",
      "dtype after:  string\n",
      "******************************\n",
      "******************************\n",
      "Column:  dim_facility_id\n",
      "dtype before:  string\n",
      "348 599267 0.000580709433357752\n",
      "dtype after:  category\n",
      "******************************\n",
      "******************************\n",
      "Column:  dim_configuration_id\n",
      "dtype before:  string\n",
      "4955 599267 0.008268434604274889\n",
      "dtype after:  category\n",
      "******************************\n",
      "******************************\n",
      "Column:  dim_operator_id\n",
      "dtype before:  string\n",
      "2796 599267 0.00466569993008125\n",
      "dtype after:  category\n",
      "******************************\n",
      "******************************\n",
      "Column:  dim_exception_id\n",
      "dtype before:  string\n",
      "599267 599267 1.0\n",
      "dtype after:  string\n",
      "******************************\n",
      "******************************\n",
      "Column:  number_of_duplicated_exception_units\n",
      "dtype before:  Int64\n",
      "dtype after:  uint8\n",
      "******************************\n",
      "******************************\n",
      "Column:  number_of_reprocessed_units\n",
      "dtype before:  Int64\n",
      "dtype after:  uint8\n",
      "******************************\n",
      "******************************\n",
      "Column:  number_of_inconclusive_sealed_units\n",
      "dtype before:  Int64\n",
      "dtype after:  uint8\n",
      "******************************\n",
      "******************************\n",
      "Column:  number_of_unrecognized_barcodes\n",
      "dtype before:  Int64\n",
      "dtype after:  uint8\n",
      "******************************\n",
      "******************************\n",
      "Column:  number_of_skipped_exception_barcodes\n",
      "dtype before:  Int64\n",
      "dtype after:  uint8\n",
      "******************************\n",
      "******************************\n",
      "Column:  number_of_temp_out_of_range_exceptions\n",
      "dtype before:  Int64\n",
      "dtype after:  uint8\n",
      "******************************\n",
      "******************************\n",
      "Column:  number_of_exception_alarms\n",
      "dtype before:  Int64\n",
      "dtype after:  uint8\n",
      "******************************\n",
      "___MEMORY USAGE AFTER COMPLETION:___\n",
      "Memory usage is:  19.358004570007324  MB\n",
      "This is  28.463768428099705 % of the initial size\n"
     ]
    }
   ],
   "source": [
    "fact_exception = reduce_mem_usage(fact_exception)"
   ]
  },
  {
   "cell_type": "code",
   "execution_count": 55,
   "metadata": {},
   "outputs": [
    {
     "name": "stdout",
     "output_type": "stream",
     "text": [
      "<class 'pandas.core.frame.DataFrame'>\n",
      "RangeIndex: 599267 entries, 0 to 599266\n",
      "Data columns (total 14 columns):\n",
      " #   Column                                  Non-Null Count   Dtype   \n",
      "---  ------                                  --------------   -----   \n",
      " 0   dim_run_date                            599267 non-null  category\n",
      " 1   dim_device_id                           599267 non-null  category\n",
      " 2   dim_run_id                              599267 non-null  string  \n",
      " 3   dim_facility_id                         599267 non-null  category\n",
      " 4   dim_configuration_id                    599267 non-null  category\n",
      " 5   dim_operator_id                         477562 non-null  category\n",
      " 6   dim_exception_id                        599267 non-null  string  \n",
      " 7   number_of_duplicated_exception_units    599267 non-null  uint8   \n",
      " 8   number_of_reprocessed_units             599267 non-null  uint8   \n",
      " 9   number_of_inconclusive_sealed_units     599267 non-null  uint8   \n",
      " 10  number_of_unrecognized_barcodes         599267 non-null  uint8   \n",
      " 11  number_of_skipped_exception_barcodes    599267 non-null  uint8   \n",
      " 12  number_of_temp_out_of_range_exceptions  599267 non-null  uint8   \n",
      " 13  number_of_exception_alarms              599267 non-null  uint8   \n",
      "dtypes: category(5), string(2), uint8(7)\n",
      "memory usage: 19.4 MB\n"
     ]
    }
   ],
   "source": [
    "fact_exception.info(verbose=True, null_counts=True)"
   ]
  },
  {
   "cell_type": "code",
   "execution_count": 56,
   "metadata": {},
   "outputs": [],
   "source": [
    "fact_exception.to_feather(\"../data/interim/fact_exception.feather\")"
   ]
  },
  {
   "cell_type": "markdown",
   "metadata": {},
   "source": [
    "## fact_run"
   ]
  },
  {
   "cell_type": "code",
   "execution_count": 57,
   "metadata": {},
   "outputs": [
    {
     "name": "stdout",
     "output_type": "stream",
     "text": [
      "<class 'pandas.core.frame.DataFrame'>\n",
      "RangeIndex: 1329735 entries, 0 to 1329734\n",
      "Data columns (total 21 columns):\n",
      " #   Column                           Non-Null Count    Dtype  \n",
      "---  ------                           --------------    -----  \n",
      " 0   dim_run_date                     1329735 non-null  object \n",
      " 1   dim_device_id                    1329735 non-null  string \n",
      " 2   dim_run_id                       1329735 non-null  string \n",
      " 3   dim_facility_id                  1329735 non-null  string \n",
      " 4   dim_configuration_id             1329735 non-null  string \n",
      " 5   dim_operator_id                  1158874 non-null  string \n",
      " 6   procedure_duration_minutes       1329735 non-null  float64\n",
      " 7   idle_time_duration_minutes       1329735 non-null  float64\n",
      " 8   load_duration_minutes            1329735 non-null  float64\n",
      " 9   unload_duration_minutes          1329735 non-null  float64\n",
      " 10  load_idle_time_duration_minutes  1329735 non-null  float64\n",
      " 11  run_duration_minutes             1329735 non-null  float64\n",
      " 12  barcode_scan_duration_minutes    1329735 non-null  float64\n",
      " 13  number_of_procedures             1329735 non-null  Int64  \n",
      " 14  number_of_dummy_bags             1329735 non-null  Int64  \n",
      " 15  number_of_barcode_scans          1329735 non-null  Int64  \n",
      " 16  number_of_skipped_run_barcodes   1329735 non-null  Int64  \n",
      " 17  start_basin_temperature          1327856 non-null  float64\n",
      " 18  end_basin_temperature            1327856 non-null  float64\n",
      " 19  max_basin_temperature            1327856 non-null  float64\n",
      " 20  min_basin_temperature            1327856 non-null  float64\n",
      "dtypes: Int64(4), float64(11), object(1), string(5)\n",
      "memory usage: 218.1+ MB\n"
     ]
    }
   ],
   "source": [
    "fact_run = fact_run.convert_dtypes()\n",
    "fact_run.info(verbose=True, null_counts=True)"
   ]
  },
  {
   "cell_type": "code",
   "execution_count": 58,
   "metadata": {
    "scrolled": true
   },
   "outputs": [
    {
     "name": "stdout",
     "output_type": "stream",
     "text": [
      "Memory usage of dataframe is : 218.11919021606445  MB\n",
      "******************************\n",
      "Column:  dim_run_date\n",
      "dtype before:  object\n",
      "2779 1329735 0.0020898900908827697\n",
      "dtype after:  category\n",
      "******************************\n",
      "******************************\n",
      "Column:  dim_device_id\n",
      "dtype before:  string\n",
      "2014 1329735 0.001514587492996725\n",
      "dtype after:  category\n",
      "******************************\n",
      "******************************\n",
      "Column:  dim_run_id\n",
      "dtype before:  string\n",
      "1329735 1329735 1.0\n",
      "dtype after:  string\n",
      "******************************\n",
      "******************************\n",
      "Column:  dim_facility_id\n",
      "dtype before:  string\n",
      "353 1329735 0.00026546642752127306\n",
      "dtype after:  category\n",
      "******************************\n",
      "******************************\n",
      "Column:  dim_configuration_id\n",
      "dtype before:  string\n",
      "5747 1329735 0.00432191376477268\n",
      "dtype after:  category\n",
      "******************************\n",
      "******************************\n",
      "Column:  dim_operator_id\n",
      "dtype before:  string\n",
      "3245 1329735 0.0024403358563924392\n",
      "dtype after:  category\n",
      "******************************\n",
      "******************************\n",
      "Column:  procedure_duration_minutes\n",
      "dtype before:  float64\n",
      "dtype after:  float32\n",
      "******************************\n",
      "******************************\n",
      "Column:  idle_time_duration_minutes\n",
      "dtype before:  float64\n",
      "dtype after:  float32\n",
      "******************************\n",
      "******************************\n",
      "Column:  load_duration_minutes\n",
      "dtype before:  float64\n",
      "dtype after:  float32\n",
      "******************************\n",
      "******************************\n",
      "Column:  unload_duration_minutes\n",
      "dtype before:  float64\n",
      "dtype after:  float32\n",
      "******************************\n",
      "******************************\n",
      "Column:  load_idle_time_duration_minutes\n",
      "dtype before:  float64\n",
      "dtype after:  float32\n",
      "******************************\n",
      "******************************\n",
      "Column:  run_duration_minutes\n",
      "dtype before:  float64\n",
      "dtype after:  float32\n",
      "******************************\n",
      "******************************\n",
      "Column:  barcode_scan_duration_minutes\n",
      "dtype before:  float64\n",
      "dtype after:  float32\n",
      "******************************\n",
      "******************************\n",
      "Column:  number_of_procedures\n",
      "dtype before:  Int64\n",
      "dtype after:  uint8\n",
      "******************************\n",
      "******************************\n",
      "Column:  number_of_dummy_bags\n",
      "dtype before:  Int64\n",
      "dtype after:  uint8\n",
      "******************************\n",
      "******************************\n",
      "Column:  number_of_barcode_scans\n",
      "dtype before:  Int64\n",
      "dtype after:  uint8\n",
      "******************************\n",
      "******************************\n",
      "Column:  number_of_skipped_run_barcodes\n",
      "dtype before:  Int64\n",
      "dtype after:  uint8\n",
      "******************************\n",
      "******************************\n",
      "Column:  start_basin_temperature\n",
      "dtype before:  float64\n",
      "dtype after:  float32\n",
      "******************************\n",
      "******************************\n",
      "Column:  end_basin_temperature\n",
      "dtype before:  float64\n",
      "dtype after:  float32\n",
      "******************************\n",
      "******************************\n",
      "Column:  max_basin_temperature\n",
      "dtype before:  float64\n",
      "dtype after:  float32\n",
      "******************************\n",
      "******************************\n",
      "Column:  min_basin_temperature\n",
      "dtype before:  float64\n",
      "dtype after:  float32\n",
      "******************************\n",
      "___MEMORY USAGE AFTER COMPLETION:___\n",
      "Memory usage is:  84.28335380554199  MB\n",
      "This is  38.640962183131435 % of the initial size\n"
     ]
    }
   ],
   "source": [
    "fact_run = reduce_mem_usage(fact_run)"
   ]
  },
  {
   "cell_type": "code",
   "execution_count": 59,
   "metadata": {
    "scrolled": true
   },
   "outputs": [
    {
     "name": "stdout",
     "output_type": "stream",
     "text": [
      "<class 'pandas.core.frame.DataFrame'>\n",
      "RangeIndex: 1329735 entries, 0 to 1329734\n",
      "Data columns (total 21 columns):\n",
      " #   Column                           Non-Null Count    Dtype   \n",
      "---  ------                           --------------    -----   \n",
      " 0   dim_run_date                     1329735 non-null  category\n",
      " 1   dim_device_id                    1329735 non-null  category\n",
      " 2   dim_run_id                       1329735 non-null  string  \n",
      " 3   dim_facility_id                  1329735 non-null  category\n",
      " 4   dim_configuration_id             1329735 non-null  category\n",
      " 5   dim_operator_id                  1158874 non-null  category\n",
      " 6   procedure_duration_minutes       1329735 non-null  float32 \n",
      " 7   idle_time_duration_minutes       1329735 non-null  float32 \n",
      " 8   load_duration_minutes            1329735 non-null  float32 \n",
      " 9   unload_duration_minutes          1329735 non-null  float32 \n",
      " 10  load_idle_time_duration_minutes  1329735 non-null  float32 \n",
      " 11  run_duration_minutes             1329735 non-null  float32 \n",
      " 12  barcode_scan_duration_minutes    1329735 non-null  float32 \n",
      " 13  number_of_procedures             1329735 non-null  uint8   \n",
      " 14  number_of_dummy_bags             1329735 non-null  uint8   \n",
      " 15  number_of_barcode_scans          1329735 non-null  uint8   \n",
      " 16  number_of_skipped_run_barcodes   1329735 non-null  uint8   \n",
      " 17  start_basin_temperature          1327856 non-null  float32 \n",
      " 18  end_basin_temperature            1327856 non-null  float32 \n",
      " 19  max_basin_temperature            1327856 non-null  float32 \n",
      " 20  min_basin_temperature            1327856 non-null  float32 \n",
      "dtypes: category(5), float32(11), string(1), uint8(4)\n",
      "memory usage: 84.3 MB\n"
     ]
    }
   ],
   "source": [
    "fact_run.info(verbose=True, null_counts=True)"
   ]
  },
  {
   "cell_type": "code",
   "execution_count": 60,
   "metadata": {},
   "outputs": [],
   "source": [
    "fact_run.to_feather(\"../data/interim/fact_run.feather\")"
   ]
  },
  {
   "cell_type": "markdown",
   "metadata": {},
   "source": [
    "## Merging fact data"
   ]
  },
  {
   "cell_type": "code",
   "execution_count": 63,
   "metadata": {},
   "outputs": [
    {
     "data": {
      "text/plain": [
       "90"
      ]
     },
     "execution_count": 63,
     "metadata": {},
     "output_type": "execute_result"
    }
   ],
   "source": [
    "interim_fact_data_1 = pd.merge(fact_blood_product, fact_donation, how='outer',\n",
    "                    left_on = ['dim_run_date', 'dim_device_id', 'dim_donation_id', 'dim_run_id', 'dim_facility_id', 'dim_configuration_id', 'dim_operator_id'], \n",
    "                    right_on = ['dim_run_date', 'dim_device_id', 'dim_donation_id', 'dim_run_id', 'dim_facility_id', 'dim_configuration_id', 'dim_operator_id']) \n",
    "\n",
    "del fact_blood_product\n",
    "del fact_donation\n",
    "gc.collect()"
   ]
  },
  {
   "cell_type": "code",
   "execution_count": 64,
   "metadata": {},
   "outputs": [
    {
     "data": {
      "text/plain": [
       "15"
      ]
     },
     "execution_count": 64,
     "metadata": {},
     "output_type": "execute_result"
    }
   ],
   "source": [
    "interim_fact_data_2 = pd.merge(fact_exception, fact_run, how='outer',\n",
    "                    left_on = ['dim_run_date', 'dim_device_id', 'dim_run_id', 'dim_facility_id', 'dim_configuration_id', 'dim_operator_id'], \n",
    "                    right_on = ['dim_run_date', 'dim_device_id', 'dim_run_id', 'dim_facility_id', 'dim_configuration_id', 'dim_operator_id']) \n",
    "\n",
    "del fact_exception\n",
    "del fact_run\n",
    "gc.collect()"
   ]
  },
  {
   "cell_type": "code",
   "execution_count": 65,
   "metadata": {},
   "outputs": [
    {
     "data": {
      "text/plain": [
       "15"
      ]
     },
     "execution_count": 65,
     "metadata": {},
     "output_type": "execute_result"
    }
   ],
   "source": [
    "fact_data = pd.merge(interim_fact_data_1, interim_fact_data_2, how='outer',\n",
    "                    left_on = ['dim_run_date', 'dim_device_id', 'dim_run_id', 'dim_facility_id', 'dim_configuration_id', 'dim_operator_id'], \n",
    "                    right_on = ['dim_run_date', 'dim_device_id', 'dim_run_id', 'dim_facility_id', 'dim_configuration_id', 'dim_operator_id']) \n",
    "\n",
    "del interim_fact_data_1\n",
    "del interim_fact_data_2\n",
    "gc.collect()"
   ]
  },
  {
   "cell_type": "code",
   "execution_count": 67,
   "metadata": {},
   "outputs": [
    {
     "name": "stdout",
     "output_type": "stream",
     "text": [
      "<class 'pandas.core.frame.DataFrame'>\n",
      "Int64Index: 21732284 entries, 0 to 21732283\n",
      "Data columns (total 39 columns):\n",
      " #   Column                                   Non-Null Count     Dtype         \n",
      "---  ------                                   --------------     -----         \n",
      " 0   dim_run_date                             21732284 non-null  datetime64[ns]\n",
      " 1   dim_device_id                            21732284 non-null  string        \n",
      " 2   dim_donation_id                          21732284 non-null  string        \n",
      " 3   dim_run_id                               21732284 non-null  string        \n",
      " 4   dim_facility_id                          21732284 non-null  string        \n",
      " 5   dim_configuration_id                     21732284 non-null  string        \n",
      " 6   dim_operator_id                          18741299 non-null  string        \n",
      " 7   product_volume                           21027193 non-null  Int64         \n",
      " 8   number_of_blood_product_units_processed  21027193 non-null  Int64         \n",
      " 9   blood_product                            21027193 non-null  category      \n",
      " 10  dim_custom_data_id                       21534762 non-null  string        \n",
      " 11  number_of_donation_units_processed       21732284 non-null  UInt8         \n",
      " 12  number_of_duplicated_donation_units      21732284 non-null  UInt8         \n",
      " 13  number_of_skipped_donation_barcodes      21732284 non-null  UInt8         \n",
      " 14  number_of_donation_alarms                21732284 non-null  UInt8         \n",
      " 15  number_of_alerts                         21732284 non-null  UInt8         \n",
      " 16  dim_exception_id                         7442102 non-null   string        \n",
      " 17  number_of_duplicated_exception_units     7442102 non-null   Int64         \n",
      " 18  number_of_reprocessed_units              7442102 non-null   Int64         \n",
      " 19  number_of_inconclusive_sealed_units      7442102 non-null   Int64         \n",
      " 20  number_of_unrecognized_barcodes          7442102 non-null   Int64         \n",
      " 21  number_of_skipped_exception_barcodes     7442102 non-null   Int64         \n",
      " 22  number_of_temp_out_of_range_exceptions   7442102 non-null   Int64         \n",
      " 23  number_of_exception_alarms               7442102 non-null   Int64         \n",
      " 24  procedure_duration_minutes               21732284 non-null  float32       \n",
      " 25  idle_time_duration_minutes               21732284 non-null  float32       \n",
      " 26  load_duration_minutes                    21732284 non-null  float32       \n",
      " 27  unload_duration_minutes                  21732284 non-null  float32       \n",
      " 28  load_idle_time_duration_minutes          21732284 non-null  float32       \n",
      " 29  run_duration_minutes                     21732284 non-null  float32       \n",
      " 30  barcode_scan_duration_minutes            21732284 non-null  float32       \n",
      " 31  number_of_procedures                     21732284 non-null  UInt8         \n",
      " 32  number_of_dummy_bags                     21732284 non-null  UInt8         \n",
      " 33  number_of_barcode_scans                  21732284 non-null  UInt8         \n",
      " 34  number_of_skipped_run_barcodes           21732284 non-null  UInt8         \n",
      " 35  start_basin_temperature                  21701000 non-null  float32       \n",
      " 36  end_basin_temperature                    21701000 non-null  float32       \n",
      " 37  max_basin_temperature                    21701000 non-null  float32       \n",
      " 38  min_basin_temperature                    21701000 non-null  float32       \n",
      "dtypes: Int64(9), UInt8(9), category(1), datetime64[ns](1), float32(11), string(8)\n",
      "memory usage: 4.5 GB\n"
     ]
    }
   ],
   "source": [
    "fact_data = fact_data.convert_dtypes()\n",
    "fact_data.info(verbose=True, null_counts=True)"
   ]
  },
  {
   "cell_type": "code",
   "execution_count": 68,
   "metadata": {},
   "outputs": [
    {
     "name": "stdout",
     "output_type": "stream",
     "text": [
      "Memory usage of dataframe is : 4642.5170822143555  MB\n",
      "******************************\n",
      "Column:  dim_run_date\n",
      "dtype before:  datetime64[ns]\n",
      "dtype after:  datetime64[ns]\n",
      "******************************\n",
      "******************************\n",
      "Column:  dim_device_id\n",
      "dtype before:  string\n",
      "2014 21732284 9.267318612254469e-05\n",
      "dtype after:  category\n",
      "******************************\n",
      "******************************\n",
      "Column:  dim_donation_id\n",
      "dtype before:  string\n",
      "5318940 21732284 0.24474832005692546\n",
      "dtype after:  category\n",
      "******************************\n",
      "******************************\n",
      "Column:  dim_run_id\n",
      "dtype before:  string\n",
      "1329735 21732284 0.061187080014231364\n",
      "dtype after:  category\n",
      "******************************\n",
      "******************************\n",
      "Column:  dim_facility_id\n",
      "dtype before:  string\n",
      "353 21732284 1.6243115541836285e-05\n",
      "dtype after:  category\n",
      "******************************\n",
      "******************************\n",
      "Column:  dim_configuration_id\n",
      "dtype before:  string\n",
      "5747 21732284 0.0002644452833397539\n",
      "dtype after:  category\n",
      "******************************\n",
      "******************************\n",
      "Column:  dim_operator_id\n",
      "dtype before:  string\n",
      "3245 21732284 0.00014931702530668198\n",
      "dtype after:  category\n",
      "******************************\n",
      "******************************\n",
      "Column:  product_volume\n",
      "dtype before:  Int64\n",
      "dtype after:  Int64\n",
      "******************************\n",
      "******************************\n",
      "Column:  number_of_blood_product_units_processed\n",
      "dtype before:  Int64\n",
      "dtype after:  Int64\n",
      "******************************\n",
      "******************************\n",
      "Column:  blood_product\n",
      "dtype before:  category\n",
      "dtype after:  category\n",
      "******************************\n",
      "******************************\n",
      "Column:  dim_custom_data_id\n",
      "dtype before:  string\n",
      "5283316 21732284 0.24310909980745696\n",
      "dtype after:  category\n",
      "******************************\n",
      "******************************\n",
      "Column:  number_of_donation_units_processed\n",
      "dtype before:  UInt8\n",
      "dtype after:  UInt8\n",
      "******************************\n",
      "******************************\n",
      "Column:  number_of_duplicated_donation_units\n",
      "dtype before:  UInt8\n",
      "dtype after:  UInt8\n",
      "******************************\n",
      "******************************\n",
      "Column:  number_of_skipped_donation_barcodes\n",
      "dtype before:  UInt8\n",
      "dtype after:  UInt8\n",
      "******************************\n",
      "******************************\n",
      "Column:  number_of_donation_alarms\n",
      "dtype before:  UInt8\n",
      "dtype after:  UInt8\n",
      "******************************\n",
      "******************************\n",
      "Column:  number_of_alerts\n",
      "dtype before:  UInt8\n",
      "dtype after:  UInt8\n",
      "******************************\n",
      "******************************\n",
      "Column:  dim_exception_id\n",
      "dtype before:  string\n",
      "599267 21732284 0.027574966349602277\n",
      "dtype after:  category\n",
      "******************************\n",
      "******************************\n",
      "Column:  number_of_duplicated_exception_units\n",
      "dtype before:  Int64\n",
      "dtype after:  Int64\n",
      "******************************\n",
      "******************************\n",
      "Column:  number_of_reprocessed_units\n",
      "dtype before:  Int64\n",
      "dtype after:  Int64\n",
      "******************************\n",
      "******************************\n",
      "Column:  number_of_inconclusive_sealed_units\n",
      "dtype before:  Int64\n",
      "dtype after:  Int64\n",
      "******************************\n",
      "******************************\n",
      "Column:  number_of_unrecognized_barcodes\n",
      "dtype before:  Int64\n",
      "dtype after:  Int64\n",
      "******************************\n",
      "******************************\n",
      "Column:  number_of_skipped_exception_barcodes\n",
      "dtype before:  Int64\n",
      "dtype after:  Int64\n",
      "******************************\n",
      "******************************\n",
      "Column:  number_of_temp_out_of_range_exceptions\n",
      "dtype before:  Int64\n",
      "dtype after:  Int64\n",
      "******************************\n",
      "******************************\n",
      "Column:  number_of_exception_alarms\n",
      "dtype before:  Int64\n",
      "dtype after:  Int64\n",
      "******************************\n",
      "******************************\n",
      "Column:  procedure_duration_minutes\n",
      "dtype before:  float32\n",
      "dtype after:  float32\n",
      "******************************\n",
      "******************************\n",
      "Column:  idle_time_duration_minutes\n",
      "dtype before:  float32\n",
      "dtype after:  float32\n",
      "******************************\n",
      "******************************\n",
      "Column:  load_duration_minutes\n",
      "dtype before:  float32\n",
      "dtype after:  float32\n",
      "******************************\n",
      "******************************\n",
      "Column:  unload_duration_minutes\n",
      "dtype before:  float32\n",
      "dtype after:  float32\n",
      "******************************\n",
      "******************************\n",
      "Column:  load_idle_time_duration_minutes\n",
      "dtype before:  float32\n",
      "dtype after:  float32\n",
      "******************************\n",
      "******************************\n",
      "Column:  run_duration_minutes\n",
      "dtype before:  float32\n",
      "dtype after:  float32\n",
      "******************************\n",
      "******************************\n",
      "Column:  barcode_scan_duration_minutes\n",
      "dtype before:  float32\n",
      "dtype after:  float32\n",
      "******************************\n",
      "******************************\n",
      "Column:  number_of_procedures\n",
      "dtype before:  UInt8\n",
      "dtype after:  UInt8\n",
      "******************************\n",
      "******************************\n",
      "Column:  number_of_dummy_bags\n",
      "dtype before:  UInt8\n",
      "dtype after:  UInt8\n",
      "******************************\n",
      "******************************\n",
      "Column:  number_of_barcode_scans\n",
      "dtype before:  UInt8\n",
      "dtype after:  UInt8\n",
      "******************************\n",
      "******************************\n",
      "Column:  number_of_skipped_run_barcodes\n",
      "dtype before:  UInt8\n",
      "dtype after:  UInt8\n",
      "******************************\n",
      "******************************\n",
      "Column:  start_basin_temperature\n",
      "dtype before:  float32\n",
      "dtype after:  float32\n",
      "******************************\n",
      "******************************\n",
      "Column:  end_basin_temperature\n",
      "dtype before:  float32\n",
      "dtype after:  float32\n",
      "******************************\n",
      "******************************\n",
      "Column:  max_basin_temperature\n",
      "dtype before:  float32\n",
      "dtype after:  float32\n",
      "******************************\n",
      "******************************\n",
      "Column:  min_basin_temperature\n",
      "dtype before:  float32\n",
      "dtype after:  float32\n",
      "******************************\n",
      "___MEMORY USAGE AFTER COMPLETION:___\n",
      "Memory usage is:  4289.589202880859  MB\n",
      "This is  92.39791963963741 % of the initial size\n"
     ]
    }
   ],
   "source": [
    "fact_data = reduce_mem_usage(fact_data)\n",
    "fact_data.to_feather(\"../data/interim/fact_data.feather\")"
   ]
  },
  {
   "cell_type": "code",
   "execution_count": 69,
   "metadata": {},
   "outputs": [
    {
     "name": "stdout",
     "output_type": "stream",
     "text": [
      "<class 'pandas.core.frame.DataFrame'>\n",
      "Int64Index: 21732284 entries, 0 to 21732283\n",
      "Data columns (total 39 columns):\n",
      " #   Column                                   Non-Null Count     Dtype         \n",
      "---  ------                                   --------------     -----         \n",
      " 0   dim_run_date                             21732284 non-null  datetime64[ns]\n",
      " 1   dim_device_id                            21732284 non-null  category      \n",
      " 2   dim_donation_id                          21732284 non-null  category      \n",
      " 3   dim_run_id                               21732284 non-null  category      \n",
      " 4   dim_facility_id                          21732284 non-null  category      \n",
      " 5   dim_configuration_id                     21732284 non-null  category      \n",
      " 6   dim_operator_id                          18741299 non-null  category      \n",
      " 7   product_volume                           21027193 non-null  Int64         \n",
      " 8   number_of_blood_product_units_processed  21027193 non-null  Int64         \n",
      " 9   blood_product                            21027193 non-null  category      \n",
      " 10  dim_custom_data_id                       21534762 non-null  category      \n",
      " 11  number_of_donation_units_processed       21732284 non-null  UInt8         \n",
      " 12  number_of_duplicated_donation_units      21732284 non-null  UInt8         \n",
      " 13  number_of_skipped_donation_barcodes      21732284 non-null  UInt8         \n",
      " 14  number_of_donation_alarms                21732284 non-null  UInt8         \n",
      " 15  number_of_alerts                         21732284 non-null  UInt8         \n",
      " 16  dim_exception_id                         7442102 non-null   category      \n",
      " 17  number_of_duplicated_exception_units     7442102 non-null   Int64         \n",
      " 18  number_of_reprocessed_units              7442102 non-null   Int64         \n",
      " 19  number_of_inconclusive_sealed_units      7442102 non-null   Int64         \n",
      " 20  number_of_unrecognized_barcodes          7442102 non-null   Int64         \n",
      " 21  number_of_skipped_exception_barcodes     7442102 non-null   Int64         \n",
      " 22  number_of_temp_out_of_range_exceptions   7442102 non-null   Int64         \n",
      " 23  number_of_exception_alarms               7442102 non-null   Int64         \n",
      " 24  procedure_duration_minutes               21732284 non-null  float32       \n",
      " 25  idle_time_duration_minutes               21732284 non-null  float32       \n",
      " 26  load_duration_minutes                    21732284 non-null  float32       \n",
      " 27  unload_duration_minutes                  21732284 non-null  float32       \n",
      " 28  load_idle_time_duration_minutes          21732284 non-null  float32       \n",
      " 29  run_duration_minutes                     21732284 non-null  float32       \n",
      " 30  barcode_scan_duration_minutes            21732284 non-null  float32       \n",
      " 31  number_of_procedures                     21732284 non-null  UInt8         \n",
      " 32  number_of_dummy_bags                     21732284 non-null  UInt8         \n",
      " 33  number_of_barcode_scans                  21732284 non-null  UInt8         \n",
      " 34  number_of_skipped_run_barcodes           21732284 non-null  UInt8         \n",
      " 35  start_basin_temperature                  21701000 non-null  float32       \n",
      " 36  end_basin_temperature                    21701000 non-null  float32       \n",
      " 37  max_basin_temperature                    21701000 non-null  float32       \n",
      " 38  min_basin_temperature                    21701000 non-null  float32       \n",
      "dtypes: Int64(9), UInt8(9), category(9), datetime64[ns](1), float32(11)\n",
      "memory usage: 4.2 GB\n"
     ]
    }
   ],
   "source": [
    "fact_data.info(verbose=True, null_counts=True)"
   ]
  },
  {
   "cell_type": "markdown",
   "metadata": {},
   "source": [
    "## Restart Kernal\n",
    "Do this to free up memory"
   ]
  },
  {
   "cell_type": "code",
   "execution_count": null,
   "metadata": {},
   "outputs": [],
   "source": [
    "fact_data = pd.read_feather(\"../data/interim/fact_data.feather\")"
   ]
  },
  {
   "cell_type": "markdown",
   "metadata": {},
   "source": [
    "## dim_configuration"
   ]
  },
  {
   "cell_type": "code",
   "execution_count": null,
   "metadata": {},
   "outputs": [],
   "source": [
    "dim_configuration = pd.read_feather(\"../data/raw/dim_configuration.feather\")\n",
    "dim_configuration[\"configuration_status\"] = dim_configuration[\"configuration_status\"].astype(\"category\")\n",
    "dim_configuration.info()"
   ]
  },
  {
   "cell_type": "code",
   "execution_count": null,
   "metadata": {},
   "outputs": [],
   "source": [
    "fact_data = fact_data.merge(dim_configuration, how='outer',\n",
    "                    left_on = ['dim_configuration_id'], \n",
    "                    right_on = ['dim_configuration_id']) \n",
    "fact_data.drop(columns=['dim_configuration_id'], inplace = True)"
   ]
  },
  {
   "cell_type": "code",
   "execution_count": null,
   "metadata": {},
   "outputs": [],
   "source": [
    "fact_data.info()"
   ]
  },
  {
   "cell_type": "markdown",
   "metadata": {},
   "source": [
    "## dim_device"
   ]
  },
  {
   "cell_type": "code",
   "execution_count": null,
   "metadata": {},
   "outputs": [],
   "source": [
    "dim_device = pd.read_feather(\"../data/raw/dim_device.feather\")\n",
    "# drop device_serial_number, device_name, and device_type_name(which is only 'REVEOS') I don't imagine they contain anything useful.\n",
    "dim_device.drop(columns=['device_serial_number', 'device_name', 'device_type_name'], inplace = True)\n",
    "dim_device[\"device_software_version\"] = dim_device[\"device_software_version\"].astype(\"category\")\n",
    "dim_device[\"device_language_name\"] = dim_device[\"device_language_name\"].astype(\"category\")\n",
    "dim_device.info()"
   ]
  },
  {
   "cell_type": "code",
   "execution_count": null,
   "metadata": {},
   "outputs": [],
   "source": [
    "fact_data = fact_data.merge(dim_device, how='outer',\n",
    "                    left_on = ['dim_device_id'], \n",
    "                    right_on = ['dim_device_id']) \n",
    "fact_data.drop(columns=['dim_device_id'], inplace = True)\n",
    "fact_data.info()"
   ]
  },
  {
   "cell_type": "markdown",
   "metadata": {},
   "source": [
    "## dim_donation"
   ]
  },
  {
   "cell_type": "code",
   "execution_count": null,
   "metadata": {},
   "outputs": [],
   "source": [
    "dim_donation = pd.read_feather(\"../data/raw/dim_donation.feather\")\n",
    "dim_donation[\"donation_status\"] = dim_donation[\"donation_status\"].astype(\"category\")\n",
    "#dim_donation[\"bucket_number\"] = dim_donation[\"bucket_number\"].astype(\"category\")\n",
    "dim_donation[\"unit_number_lifetime_status\"] = dim_donation[\"unit_number_lifetime_status\"].astype(\"category\")\n",
    "dim_donation[\"welding_status\"] = dim_donation[\"welding_status\"].astype(\"category\")\n",
    "dim_donation.info()"
   ]
  },
  {
   "cell_type": "code",
   "execution_count": null,
   "metadata": {},
   "outputs": [],
   "source": [
    "fact_data = fact_data.merge(dim_donation, how='outer',\n",
    "                    left_on = ['dim_donation_id'], \n",
    "                    right_on = ['dim_donation_id']) \n",
    "fact_data.drop(columns=['dim_donation_id'], inplace = True)\n",
    "fact_data.info()"
   ]
  },
  {
   "cell_type": "markdown",
   "metadata": {},
   "source": [
    "## dim_exception"
   ]
  },
  {
   "cell_type": "code",
   "execution_count": null,
   "metadata": {},
   "outputs": [],
   "source": [
    "dim_exception = pd.read_feather(\"../data/raw/dim_exception.feather\")\n",
    "#dim_exception[\"bucket_number\"] = dim_exception[\"bucket_number\"].astype(\"category\")\n",
    "dim_exception[\"exception_type\"] = dim_exception[\"exception_type\"].astype(\"category\")\n",
    "dim_exception[\"exception_state\"] = dim_exception[\"exception_state\"].astype(\"category\")\n",
    "dim_exception.drop(columns=['run_data_message_entry_id'], inplace = True)\n",
    "dim_exception.info()"
   ]
  },
  {
   "cell_type": "code",
   "execution_count": null,
   "metadata": {},
   "outputs": [],
   "source": [
    "fact_data = fact_data.merge(dim_exception, how='outer',\n",
    "                    left_on = ['dim_exception_id', 'bucket_number', 'run_datetime'], \n",
    "                    right_on = ['dim_exception_id', 'bucket_number', 'run_datetime']) \n",
    "fact_data.drop(columns=['dim_exception_id'], inplace = True)\n",
    "fact_data.info()"
   ]
  },
  {
   "cell_type": "markdown",
   "metadata": {},
   "source": [
    "## dim_facility\n",
    "I am omitting this for now, facility names are almost unique and I don't see them being more helpful than the dim_faciliy_id. Also not sure what the facility time_zone will add."
   ]
  },
  {
   "cell_type": "markdown",
   "metadata": {},
   "source": [
    "## dim_operator"
   ]
  },
  {
   "cell_type": "code",
   "execution_count": null,
   "metadata": {},
   "outputs": [],
   "source": [
    "dim_operator = pd.read_feather(\"../data/raw/dim_operator.feather\")\n",
    "dim_operator.info()"
   ]
  },
  {
   "cell_type": "code",
   "execution_count": null,
   "metadata": {},
   "outputs": [],
   "source": [
    "fact_data = fact_data.merge(dim_operator, how='outer',\n",
    "                    left_on = ['dim_operator_id', 'operator_id'], \n",
    "                    right_on = ['dim_operator_id', 'operator_id']) \n",
    "fact_data.drop(columns=['dim_operator_id'], inplace = True)\n",
    "fact_data.info()"
   ]
  },
  {
   "cell_type": "markdown",
   "metadata": {},
   "source": [
    "## dim_run"
   ]
  },
  {
   "cell_type": "code",
   "execution_count": null,
   "metadata": {},
   "outputs": [],
   "source": [
    "dim_run = pd.read_feather(\"../data/raw/dim_run.feather\")\n",
    "# dim_run has a column with all NaNs get rid of it\n",
    "dim_run.dropna(axis=1,how='all', inplace=True)\n",
    "dim_run.drop(columns=['file_name'], inplace = True)\n",
    "dim_run.info()"
   ]
  },
  {
   "cell_type": "code",
   "execution_count": null,
   "metadata": {},
   "outputs": [],
   "source": [
    "fact_data = fact_data.merge(dim_run, how='outer',\n",
    "                    left_on = ['dim_run_id', 'operator_id'], \n",
    "                    right_on = ['dim_run_id', 'operator_id']) \n",
    "fact_data.drop(columns=['dim_run_id'], inplace = True)\n",
    "fact_data.info()"
   ]
  },
  {
   "cell_type": "markdown",
   "metadata": {},
   "source": [
    "Fix some remaining datatypes and general cleanup of the dataframe"
   ]
  },
  {
   "cell_type": "code",
   "execution_count": null,
   "metadata": {},
   "outputs": [],
   "source": [
    "fact_data[\"bucket_number\"] = fact_data[\"bucket_number\"].astype('category')"
   ]
  },
  {
   "cell_type": "code",
   "execution_count": null,
   "metadata": {},
   "outputs": [],
   "source": [
    "fact_data = reduce_mem_usage(fact_data)"
   ]
  },
  {
   "cell_type": "code",
   "execution_count": null,
   "metadata": {},
   "outputs": [],
   "source": [
    "fact_data.to_feather(\"../data/interim/fact_data.feather\")"
   ]
  },
  {
   "cell_type": "markdown",
   "metadata": {},
   "source": [
    "## Restart Kernal"
   ]
  },
  {
   "cell_type": "code",
   "execution_count": null,
   "metadata": {},
   "outputs": [],
   "source": [
    "dim_custom_data_01 = pd.read_feather(\"../data/raw/dim_custom_data_01.feather\")\n",
    "dim_custom_data_02 = pd.read_feather(\"../data/raw/dim_custom_data_02.feather\")\n",
    "dim_custom_data_03 = pd.read_feather(\"../data/raw/dim_custom_data_03.feather\")\n",
    "dim_custom_data_04 = pd.read_feather(\"../data/raw/dim_custom_data_04.feather\")\n",
    "dim_custom_flag = pd.read_feather(\"../data/raw/dim_custom_flag.feather\")"
   ]
  },
  {
   "cell_type": "code",
   "execution_count": null,
   "metadata": {
    "scrolled": true
   },
   "outputs": [],
   "source": [
    "dim_custom_data_01.iloc[:,2:] = dim_custom_data_01.iloc[:,2:].apply(pd.to_numeric, errors='raise')\n",
    "dim_custom_data_01 = dim_custom_data_01.convert_dtypes()\n",
    "dim_custom_data_01 = reduce_mem_usage(dim_custom_data_01)"
   ]
  },
  {
   "cell_type": "code",
   "execution_count": null,
   "metadata": {
    "scrolled": true
   },
   "outputs": [],
   "source": [
    "dim_custom_data_02.iloc[:,2:] = dim_custom_data_02.iloc[:,2:].apply(pd.to_numeric, errors='raise')\n",
    "dim_custom_data_02 = dim_custom_data_02.convert_dtypes()\n",
    "dim_custom_data_02 = reduce_mem_usage(dim_custom_data_02)"
   ]
  },
  {
   "cell_type": "code",
   "execution_count": null,
   "metadata": {},
   "outputs": [],
   "source": [
    "dim_custom_data_03.iloc[:,2:] = dim_custom_data_03.iloc[:,2:].apply(pd.to_numeric, errors='raise')\n",
    "dim_custom_data_03 = dim_custom_data_03.convert_dtypes()\n",
    "dim_custom_data_03 = reduce_mem_usage(dim_custom_data_03)"
   ]
  },
  {
   "cell_type": "code",
   "execution_count": null,
   "metadata": {},
   "outputs": [],
   "source": [
    "dim_custom_data_04.iloc[:,2:] = dim_custom_data_04.iloc[:,2:].apply(pd.to_numeric, errors='raise')\n",
    "dim_custom_data_04 = dim_custom_data_04.convert_dtypes()\n",
    "dim_custom_data_04 = reduce_mem_usage(dim_custom_data_04)"
   ]
  },
  {
   "cell_type": "code",
   "execution_count": null,
   "metadata": {},
   "outputs": [],
   "source": [
    "dim_custom_flag.iloc[:,2:] = dim_custom_flag.iloc[:,2:].apply(pd.to_numeric, errors='raise')\n",
    "dim_custom_flag = dim_custom_flag.convert_dtypes()\n",
    "dim_custom_flag = reduce_mem_usage(dim_custom_flag)"
   ]
  },
  {
   "cell_type": "code",
   "execution_count": null,
   "metadata": {},
   "outputs": [],
   "source": [
    "custom_data = reduce(\n",
    "                lambda x, y: pd.merge(\n",
    "                    x, \n",
    "                    y,\n",
    "                    how='outer',\n",
    "                    left_on = ['run_data_donation_id', 'dim_custom_data_id'], \n",
    "                    right_on = ['run_data_donation_id', 'dim_custom_data_id']), \n",
    "                    [dim_custom_data_01, dim_custom_data_02, dim_custom_data_03, dim_custom_data_04, dim_custom_flag]\n",
    "                )\n",
    "custom_data.drop(columns=['run_data_donation_id'], inplace = True)\n",
    "custom_data = reduce_mem_usage(custom_data)\n",
    "custom_data.to_feather(\"../data/interim/custom_data.feather\")"
   ]
  },
  {
   "cell_type": "markdown",
   "metadata": {},
   "source": [
    "### Restart Kernel"
   ]
  },
  {
   "cell_type": "markdown",
   "metadata": {},
   "source": [
    "Next lets merge *all* the data. We need to make the dataframes as small as possible because they will be huge in memory when pandas tries to merge them. To that end we're going to make everything a sparse category data type. We will go back and fix them after the merge."
   ]
  },
  {
   "cell_type": "code",
   "execution_count": null,
   "metadata": {},
   "outputs": [],
   "source": [
    "custom_data = pd.read_feather(\"../data/interim/custom_data.feather\")\n",
    "fact_data = pd.read_feather(\"../data/interim/fact_data.feather\")"
   ]
  },
  {
   "cell_type": "code",
   "execution_count": null,
   "metadata": {},
   "outputs": [],
   "source": [
    "for col in custom_data.columns[1:]:\n",
    "    custom_data[col] = custom_data[col].astype('category')"
   ]
  },
  {
   "cell_type": "code",
   "execution_count": null,
   "metadata": {},
   "outputs": [],
   "source": [
    "for col in fact_data.columns:\n",
    "    if col != \"dim_custom_data_id\":\n",
    "        fact_data[col] = fact_data[col].astype('category')"
   ]
  },
  {
   "cell_type": "code",
   "execution_count": null,
   "metadata": {},
   "outputs": [],
   "source": [
    "final_data = pd.merge(fact_data, custom_data, how='outer',\n",
    "                    left_on = ['dim_custom_data_id'], \n",
    "                    right_on = ['dim_custom_data_id']) \n",
    "final_data.drop(columns=['dim_custom_data_id'], inplace = True)\n",
    "fact_data = None\n",
    "cusomtom_data = None"
   ]
  },
  {
   "cell_type": "code",
   "execution_count": null,
   "metadata": {},
   "outputs": [],
   "source": [
    "final_data.to_feather(\"../data/interim/fact_and_custom_data.feather\")"
   ]
  },
  {
   "cell_type": "code",
   "execution_count": null,
   "metadata": {},
   "outputs": [],
   "source": [
    "final_data.info(verbose=True)"
   ]
  },
  {
   "cell_type": "code",
   "execution_count": null,
   "metadata": {},
   "outputs": [],
   "source": [
    "final_data[\"product_volume\"].describe()"
   ]
  },
  {
   "cell_type": "code",
   "execution_count": null,
   "metadata": {},
   "outputs": [],
   "source": [
    "final_data[\"product_volume\"].unique()"
   ]
  },
  {
   "cell_type": "code",
   "execution_count": null,
   "metadata": {},
   "outputs": [],
   "source": [
    "np.array_equal(final_data[\"product_volume\"].astype(float), final_data[\"product_volume\"].astype(\"Int64\"))"
   ]
  },
  {
   "cell_type": "code",
   "execution_count": null,
   "metadata": {},
   "outputs": [],
   "source": [
    "63314271 / final_data.shape[0]"
   ]
  },
  {
   "cell_type": "code",
   "execution_count": null,
   "metadata": {},
   "outputs": [],
   "source": [
    "final_data[\"run_date\"] = pd.to_datetime(final_data[\"dim_run_date\"], infer_datetime_format=True)\n",
    "final_data.drop(columns=['dim_run_date'], inplace = True)"
   ]
  },
  {
   "cell_type": "code",
   "execution_count": null,
   "metadata": {},
   "outputs": [],
   "source": [
    "final_data[\"run_date\"] = pd.arrays.SparseArray(final_data[\"run_date\"], dtype = final_data[\"run_date\"].dtype)"
   ]
  },
  {
   "cell_type": "code",
   "execution_count": null,
   "metadata": {},
   "outputs": [],
   "source": [
    "final_data.convert_dtypes()"
   ]
  },
  {
   "cell_type": "code",
   "execution_count": null,
   "metadata": {},
   "outputs": [],
   "source": [
    "final_data.head()"
   ]
  }
 ],
 "metadata": {
  "kernelspec": {
   "display_name": "Python 3",
   "language": "python",
   "name": "python3"
  },
  "language_info": {
   "codemirror_mode": {
    "name": "ipython",
    "version": 3
   },
   "file_extension": ".py",
   "mimetype": "text/x-python",
   "name": "python",
   "nbconvert_exporter": "python",
   "pygments_lexer": "ipython3",
   "version": "3.8.6"
  }
 },
 "nbformat": 4,
 "nbformat_minor": 4
}
