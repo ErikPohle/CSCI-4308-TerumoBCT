{
 "cells": [
  {
   "cell_type": "code",
   "execution_count": 1,
   "id": "after-driving",
   "metadata": {},
   "outputs": [],
   "source": [
    "import pandas as pd\n",
    "from functools import reduce\n",
    "import numpy as np\n",
    "import gc\n",
    "import matplotlib.pyplot as plt\n",
    "import numpy as np\n",
    "from sklearn.cluster import KMeans\n",
    "from sklearn.metrics import classification_report, confusion_matrix\n",
    "from sklearn.model_selection import train_test_split\n",
    "pd.set_option('display.max_columns', None)"
   ]
  },
  {
   "cell_type": "markdown",
   "id": "e638edef",
   "metadata": {},
   "source": [
    "### Read data from a feather binary file with Pandas"
   ]
  },
  {
   "cell_type": "code",
   "execution_count": 2,
   "id": "documented-collect",
   "metadata": {},
   "outputs": [
    {
     "ename": "ImportError",
     "evalue": "Missing optional dependency 'pyarrow'.  Use pip or conda to install pyarrow.",
     "output_type": "error",
     "traceback": [
      "\u001b[0;31m---------------------------------------------------------------------------\u001b[0m",
      "\u001b[0;31mImportError\u001b[0m                               Traceback (most recent call last)",
      "\u001b[0;32m<ipython-input-2-72b1bc8d3412>\u001b[0m in \u001b[0;36m<module>\u001b[0;34m\u001b[0m\n\u001b[0;32m----> 1\u001b[0;31m \u001b[0mdata\u001b[0m \u001b[0;34m=\u001b[0m \u001b[0mpd\u001b[0m\u001b[0;34m.\u001b[0m\u001b[0mread_feather\u001b[0m\u001b[0;34m(\u001b[0m\u001b[0;34m\"../data/finaldata/fact_data.feather\"\u001b[0m\u001b[0;34m)\u001b[0m\u001b[0;34m\u001b[0m\u001b[0;34m\u001b[0m\u001b[0m\n\u001b[0m",
      "\u001b[0;32m~/anaconda3/lib/python3.7/site-packages/pandas/io/feather_format.py\u001b[0m in \u001b[0;36mread_feather\u001b[0;34m(path, columns, use_threads, storage_options)\u001b[0m\n\u001b[1;32m    118\u001b[0m     \u001b[0mtype\u001b[0m \u001b[0mof\u001b[0m \u001b[0mobject\u001b[0m \u001b[0mstored\u001b[0m \u001b[0;32min\u001b[0m \u001b[0mfile\u001b[0m\u001b[0;34m\u001b[0m\u001b[0;34m\u001b[0m\u001b[0m\n\u001b[1;32m    119\u001b[0m     \"\"\"\n\u001b[0;32m--> 120\u001b[0;31m     \u001b[0mimport_optional_dependency\u001b[0m\u001b[0;34m(\u001b[0m\u001b[0;34m\"pyarrow\"\u001b[0m\u001b[0;34m)\u001b[0m\u001b[0;34m\u001b[0m\u001b[0;34m\u001b[0m\u001b[0m\n\u001b[0m\u001b[1;32m    121\u001b[0m     \u001b[0;32mfrom\u001b[0m \u001b[0mpyarrow\u001b[0m \u001b[0;32mimport\u001b[0m \u001b[0mfeather\u001b[0m\u001b[0;34m\u001b[0m\u001b[0;34m\u001b[0m\u001b[0m\n\u001b[1;32m    122\u001b[0m \u001b[0;34m\u001b[0m\u001b[0m\n",
      "\u001b[0;32m~/anaconda3/lib/python3.7/site-packages/pandas/compat/_optional.py\u001b[0m in \u001b[0;36mimport_optional_dependency\u001b[0;34m(name, extra, raise_on_missing, on_version)\u001b[0m\n\u001b[1;32m    107\u001b[0m     \u001b[0;32mexcept\u001b[0m \u001b[0mImportError\u001b[0m\u001b[0;34m:\u001b[0m\u001b[0;34m\u001b[0m\u001b[0;34m\u001b[0m\u001b[0m\n\u001b[1;32m    108\u001b[0m         \u001b[0;32mif\u001b[0m \u001b[0mraise_on_missing\u001b[0m\u001b[0;34m:\u001b[0m\u001b[0;34m\u001b[0m\u001b[0;34m\u001b[0m\u001b[0m\n\u001b[0;32m--> 109\u001b[0;31m             \u001b[0;32mraise\u001b[0m \u001b[0mImportError\u001b[0m\u001b[0;34m(\u001b[0m\u001b[0mmsg\u001b[0m\u001b[0;34m)\u001b[0m \u001b[0;32mfrom\u001b[0m \u001b[0;32mNone\u001b[0m\u001b[0;34m\u001b[0m\u001b[0;34m\u001b[0m\u001b[0m\n\u001b[0m\u001b[1;32m    110\u001b[0m         \u001b[0;32melse\u001b[0m\u001b[0;34m:\u001b[0m\u001b[0;34m\u001b[0m\u001b[0;34m\u001b[0m\u001b[0m\n\u001b[1;32m    111\u001b[0m             \u001b[0;32mreturn\u001b[0m \u001b[0;32mNone\u001b[0m\u001b[0;34m\u001b[0m\u001b[0;34m\u001b[0m\u001b[0m\n",
      "\u001b[0;31mImportError\u001b[0m: Missing optional dependency 'pyarrow'.  Use pip or conda to install pyarrow."
     ]
    }
   ],
   "source": [
    "data = pd.read_feather(\"../data/finaldata/fact_data.feather\")"
   ]
  },
  {
   "cell_type": "markdown",
   "id": "bc6721c0",
   "metadata": {},
   "source": [
    "### Find all numeric columns and fill all NA/NAN values with zeros"
   ]
  },
  {
   "cell_type": "code",
   "execution_count": null,
   "id": "comic-startup",
   "metadata": {},
   "outputs": [],
   "source": [
    "tmp_data = data._get_numeric_data()\n",
    "tmp_data = tmp_data.fillna(0)\n",
    "tmp_data.head()"
   ]
  },
  {
   "cell_type": "markdown",
   "id": "b7aa701e",
   "metadata": {},
   "source": [
    "### Split the whole dataset into a training set (50%) and a testing set (50%)."
   ]
  },
  {
   "cell_type": "code",
   "execution_count": null,
   "id": "vertical-makeup",
   "metadata": {},
   "outputs": [],
   "source": [
    "train_data, test_data = train_test_split(tmp_data, test_size=0.5)"
   ]
  },
  {
   "cell_type": "markdown",
   "id": "ba766a32",
   "metadata": {},
   "source": [
    "### Train the K-means model with n_clusters=2 with the training set"
   ]
  },
  {
   "cell_type": "code",
   "execution_count": null,
   "id": "intended-fisher",
   "metadata": {},
   "outputs": [],
   "source": [
    "kmeans = KMeans(n_clusters=2, random_state=0).fit(train_data)"
   ]
  },
  {
   "cell_type": "markdown",
   "id": "de752967",
   "metadata": {},
   "source": [
    "### Collect the clustering labels"
   ]
  },
  {
   "cell_type": "code",
   "execution_count": null,
   "id": "furnished-circulation",
   "metadata": {},
   "outputs": [],
   "source": [
    "labels = kmeans.labels_"
   ]
  },
  {
   "cell_type": "markdown",
   "id": "40c138d0",
   "metadata": {},
   "source": [
    "### Train the K-means model with n_clusters=2 with the run_duration_minutes column of the training set, and collect the clustering result."
   ]
  },
  {
   "cell_type": "code",
   "execution_count": null,
   "id": "patent-optimum",
   "metadata": {},
   "outputs": [],
   "source": [
    "kmeans.fit(train_data['run_duration_minutes'].values.reshape(-1, 1).astype('int'))\n",
    "y_kmeans = kmeans.predict(train_data['run_duration_minutes'].values.reshape(-1, 1).astype('int'))"
   ]
  },
  {
   "cell_type": "markdown",
   "id": "4b05cc89",
   "metadata": {},
   "source": [
    "### Collect clustering centers and draw centers and training data on the figure"
   ]
  },
  {
   "cell_type": "code",
   "execution_count": null,
   "id": "competitive-glass",
   "metadata": {},
   "outputs": [],
   "source": [
    "centers = kmeans.cluster_centers_\n",
    "print(centers)\n",
    "plt.scatter(centers, centers, c='black', s=200, alpha=0.5)\n",
    "plt.scatter(train_data['run_duration_minutes'], train_data['run_duration_minutes'], c=y_kmeans, s=50, cmap='viridis')"
   ]
  },
  {
   "cell_type": "markdown",
   "id": "d7bfc08d",
   "metadata": {},
   "source": [
    "### Compute the opposite of the value of X on the K-means objective."
   ]
  },
  {
   "cell_type": "code",
   "execution_count": null,
   "id": "specialized-missouri",
   "metadata": {},
   "outputs": [],
   "source": [
    "kmeans.score(train_data['run_duration_minutes'].values.reshape(-1, 1).astype('int'), train_data['number_of_alerts'].astype('int'))"
   ]
  },
  {
   "cell_type": "markdown",
   "id": "90d5a1ff",
   "metadata": {},
   "source": [
    "### Train the K-means model with n_clusters=4 and draw the data and clustering centers on the figure."
   ]
  },
  {
   "cell_type": "code",
   "execution_count": null,
   "id": "found-nebraska",
   "metadata": {},
   "outputs": [],
   "source": [
    "kmeans = KMeans(n_clusters=4, init='k-means++', max_iter=300, n_init=10, random_state=0)\n",
    "pred_y = kmeans.fit_predict(train_data['run_duration_minutes'].values.reshape(-1, 1).astype('int'))\n",
    "plt.scatter(train_data['run_duration_minutes'].values.reshape(-1, 1).astype('int')[:,0], train_data['run_duration_minutes'].values.reshape(-1, 1).astype('int')[:,1])\n",
    "plt.scatter(kmeans.cluster_centers_[:, 0], kmeans.cluster_centers_[:, 1], s=300, c='red')\n",
    "plt.show()"
   ]
  },
  {
   "cell_type": "markdown",
   "id": "495b13d3",
   "metadata": {},
   "source": [
    "### Use the trained K-means model to predict on the training set"
   ]
  },
  {
   "cell_type": "code",
   "execution_count": null,
   "id": "disciplinary-european",
   "metadata": {},
   "outputs": [],
   "source": [
    "kmeans.predict(train_data['run_duration_minutes'].values.reshape(-1, 1).astype('int'))"
   ]
  },
  {
   "cell_type": "markdown",
   "id": "3afa63ff",
   "metadata": {},
   "source": [
    "### Draw K-means clustering centers on the figure"
   ]
  },
  {
   "cell_type": "code",
   "execution_count": null,
   "id": "satisfactory-necessity",
   "metadata": {},
   "outputs": [],
   "source": [
    "# Plot init seeds along side sample data\n",
    "plt.figure(1)\n",
    "colors = ['#4EACC5', '#FF9C34', '#4E9A06', 'm']\n",
    "\n",
    "for k, col in enumerate(colors):\n",
    "    cluster_data = y_true == k\n",
    "    plt.scatter(X[cluster_data, 0], X[cluster_data, 1],\n",
    "                c=col, marker='.', s=10)\n",
    "\n",
    "plt.scatter(centers_init[:, 0], centers_init[:, 1], c='b', s=50)\n",
    "plt.title(\"K-Means++ Initialization\")\n",
    "plt.xticks([])\n",
    "plt.yticks([])\n",
    "plt.show()"
   ]
  },
  {
   "cell_type": "markdown",
   "id": "51fad822",
   "metadata": {},
   "source": [
    "### Print the K-means model parameters"
   ]
  },
  {
   "cell_type": "code",
   "execution_count": null,
   "id": "recorded-classic",
   "metadata": {},
   "outputs": [],
   "source": [
    "model.get_params()"
   ]
  },
  {
   "cell_type": "markdown",
   "id": "fbbe413e",
   "metadata": {},
   "source": [
    "### Print the training score of the K-means model"
   ]
  },
  {
   "cell_type": "code",
   "execution_count": null,
   "id": "cleared-grant",
   "metadata": {},
   "outputs": [],
   "source": [
    "model.score(train_data['run_duration_minutes'].values.reshape(-1, 1).astype('int'), train_data['number_of_alerts'].astype('int'))"
   ]
  }
 ],
 "metadata": {
  "kernelspec": {
   "display_name": "Python 3",
   "language": "python",
   "name": "python3"
  },
  "language_info": {
   "codemirror_mode": {
    "name": "ipython",
    "version": 3
   },
   "file_extension": ".py",
   "mimetype": "text/x-python",
   "name": "python",
   "nbconvert_exporter": "python",
   "pygments_lexer": "ipython3",
   "version": "3.7.10"
  }
 },
 "nbformat": 4,
 "nbformat_minor": 5
}
