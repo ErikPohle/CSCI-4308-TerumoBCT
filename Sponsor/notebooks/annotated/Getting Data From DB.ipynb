{
 "cells": [
  {
   "cell_type": "code",
   "execution_count": null,
   "metadata": {},
   "outputs": [],
   "source": [
    "import pyodbc\n",
    "import pandas as pd\n",
    "import gc"
   ]
  },
  {
   "cell_type": "markdown",
   "metadata": {},
   "source": [
    "First establish connection with database."
   ]
  },
  {
   "cell_type": "code",
   "execution_count": null,
   "metadata": {},
   "outputs": [],
   "source": [
    "conn = pyodbc.connect('DRIVER={ODBC Driver 17 for SQL Server};SERVER=10.183.135.105\\SQLEXPRESS;DATABASE=RSM_DDB_DB;UID=cu_user_3;PWD=?X#/bjwVcfAw2J/c')"
   ]
  },
  {
   "cell_type": "markdown",
   "metadata": {},
   "source": [
    "Now fetch all tables and save local copies of them. Be patient this will take a while, potentially >30 minutes.\n",
    "\n",
    "You can expect total disk space usage to be ~5.5 GB"
   ]
  },
  {
   "cell_type": "markdown",
   "metadata": {},
   "source": [
    "### The following code blocks read different feather binary files as data frames and print the last few rows of the frames. All code blocks are doing the similar things, so it could be better to define a python function and reuse the code."
   ]
  },
  {
   "cell_type": "code",
   "execution_count": null,
   "metadata": {},
   "outputs": [],
   "source": [
    "dim_blood_product = pd.DataFrame()\n",
    "readFrame = pd.read_feather(\"../data/raw/dim_blood_product.feather\")\n",
    "readFrame.tail()\n",
    "#del dim_blood_product\n",
    "#gc.collect()"
   ]
  },
  {
   "cell_type": "code",
   "execution_count": null,
   "metadata": {},
   "outputs": [],
   "source": [
    "dim_config = pd.DataFrame()\n",
    "dim_config = pd.read_feather(\"../data/raw/dim_configuration.feather\")\n",
    "dim_config.tail()"
   ]
  },
  {
   "cell_type": "code",
   "execution_count": null,
   "metadata": {},
   "outputs": [],
   "source": [
    "dim_custom_data_01 = pd.DataFrame()\n",
    "dim_custom_data_01 = pd.read_feather(\"../data/raw/dim_custom_data_01.feather\")\n",
    "dim_custom_data_01.tail()"
   ]
  },
  {
   "cell_type": "code",
   "execution_count": null,
   "metadata": {},
   "outputs": [],
   "source": [
    "dim_custom_data_02 = pd.DataFrame()\n",
    "dim_custom_data_02 = pd.read_feather(\"../data/raw/dim_custom_data_02.feather\")\n",
    "dim_custom_data_02.tail()"
   ]
  },
  {
   "cell_type": "code",
   "execution_count": null,
   "metadata": {
    "scrolled": true
   },
   "outputs": [],
   "source": [
    "dim_custom_data_03 = pd.DataFrame()\n",
    "dim_custom_data_03 = pd.read_feather(\"../data/raw/dim_custom_data_03.feather\")\n",
    "dim_custom_data_03.tail()"
   ]
  },
  {
   "cell_type": "code",
   "execution_count": null,
   "metadata": {},
   "outputs": [],
   "source": [
    "dim_custom_data_04 = pd.DataFrame()\n",
    "dim_custom_data_04 = pd.read_feather(\"../data/raw/dim_custom_data_04.feather\")\n",
    "dim_custom_data_04.tail()"
   ]
  },
  {
   "cell_type": "code",
   "execution_count": null,
   "metadata": {},
   "outputs": [],
   "source": [
    "dim_run = pd.DataFrame()\n",
    "dim_run = pd.read_feather(\"../data/raw/dim_run.feather\")\n",
    "dim_run.tail()"
   ]
  },
  {
   "cell_type": "code",
   "execution_count": null,
   "metadata": {},
   "outputs": [],
   "source": [
    "dim_operator = pd.DataFrame()\n",
    "dim_operator = pd.read_feather(\"../data/raw/dim_operator.feather\")\n",
    "dim_operator.tail()"
   ]
  },
  {
   "cell_type": "code",
   "execution_count": null,
   "metadata": {},
   "outputs": [],
   "source": [
    "dim_donation = pd.DataFrame()\n",
    "dim_donation = pd.read_feather(\"../data/raw/dim_donation.feather\")\n",
    "dim_donation.tail()"
   ]
  },
  {
   "cell_type": "code",
   "execution_count": null,
   "metadata": {},
   "outputs": [],
   "source": [
    "dim_exception = pd.DataFrame()\n",
    "dim_exception = pd.read_feather(\"../data/raw/dim_exception.feather\")\n",
    "dim_exception.tail()"
   ]
  },
  {
   "cell_type": "code",
   "execution_count": null,
   "metadata": {},
   "outputs": [],
   "source": [
    "dim_facility = pd.DataFrame()\n",
    "dim_facility = pd.read_feather(\"../data/raw/dim_facility.feather\")\n",
    "dim_facility.tail()"
   ]
  },
  {
   "cell_type": "code",
   "execution_count": null,
   "metadata": {},
   "outputs": [],
   "source": [
    "dim_operator = pd.DataFrame()\n",
    "dim_operator = pd.read_feather(\"../data/raw/dim_operator.feather\")\n",
    "dim_operator.tail()"
   ]
  },
  {
   "cell_type": "code",
   "execution_count": null,
   "metadata": {},
   "outputs": [],
   "source": [
    "dim_run = pd.DataFrame()\n",
    "dim_run = pd.read_feather(\"../data/raw/dim_run.feather\")\n",
    "dim_run.tail()"
   ]
  },
  {
   "cell_type": "code",
   "execution_count": null,
   "metadata": {},
   "outputs": [],
   "source": [
    "fact_blood_product = pd.DataFrame()\n",
    "fact_blood_product = pd.read_feather(\"../data/raw/fact_blood_product.feather\")\n",
    "fact_blood_product.tail()"
   ]
  },
  {
   "cell_type": "code",
   "execution_count": null,
   "metadata": {},
   "outputs": [],
   "source": [
    "fact_donation = pd.DataFrame()\n",
    "fact_donation = pd.read_feather(\"../data/raw/fact_donation.feather\")\n",
    "fact_donation.tail()"
   ]
  },
  {
   "cell_type": "code",
   "execution_count": null,
   "metadata": {},
   "outputs": [],
   "source": [
    "fact_exception = pd.DataFrame()\n",
    "fact_exception = pd.read_feather(\"../data/raw/fact_exception.feather\")\n",
    "fact_exception.tail()"
   ]
  },
  {
   "cell_type": "code",
   "execution_count": null,
   "metadata": {},
   "outputs": [],
   "source": [
    "fact_run = pd.DataFrame()\n",
    "fact_run = pd.read_feather(\"../data/raw/fact_run.feather\")\n",
    "fact_run.tail()"
   ]
  },
  {
   "cell_type": "code",
   "execution_count": null,
   "metadata": {},
   "outputs": [],
   "source": []
  }
 ],
 "metadata": {
  "kernelspec": {
   "display_name": "Python 3",
   "language": "python",
   "name": "python3"
  },
  "language_info": {
   "codemirror_mode": {
    "name": "ipython",
    "version": 3
   },
   "file_extension": ".py",
   "mimetype": "text/x-python",
   "name": "python",
   "nbconvert_exporter": "python",
   "pygments_lexer": "ipython3",
   "version": "3.7.10"
  }
 },
 "nbformat": 4,
 "nbformat_minor": 4
}
