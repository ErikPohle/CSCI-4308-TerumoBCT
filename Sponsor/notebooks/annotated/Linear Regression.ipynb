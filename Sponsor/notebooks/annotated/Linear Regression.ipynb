{
 "cells": [
  {
   "cell_type": "code",
   "execution_count": 1,
   "id": "automated-angle",
   "metadata": {},
   "outputs": [],
   "source": [
    "import pandas as pd\n",
    "from functools import reduce\n",
    "import numpy as np\n",
    "import gc\n",
    "import matplotlib.pyplot as plt\n",
    "import numpy as np\n",
    "from sklearn.linear_model import LinearRegression\n",
    "from sklearn.metrics import classification_report, confusion_matrix\n",
    "from sklearn.model_selection import train_test_split\n",
    "pd.set_option('display.max_columns', None)"
   ]
  },
  {
   "cell_type": "markdown",
   "id": "fb3b533a",
   "metadata": {},
   "source": [
    "### Read data from a feather binary file with Pandas"
   ]
  },
  {
   "cell_type": "code",
   "execution_count": 2,
   "id": "extended-sheet",
   "metadata": {},
   "outputs": [
    {
     "ename": "ImportError",
     "evalue": "Missing optional dependency 'pyarrow'.  Use pip or conda to install pyarrow.",
     "output_type": "error",
     "traceback": [
      "\u001b[0;31m---------------------------------------------------------------------------\u001b[0m",
      "\u001b[0;31mImportError\u001b[0m                               Traceback (most recent call last)",
      "\u001b[0;32m<ipython-input-2-72b1bc8d3412>\u001b[0m in \u001b[0;36m<module>\u001b[0;34m\u001b[0m\n\u001b[0;32m----> 1\u001b[0;31m \u001b[0mdata\u001b[0m \u001b[0;34m=\u001b[0m \u001b[0mpd\u001b[0m\u001b[0;34m.\u001b[0m\u001b[0mread_feather\u001b[0m\u001b[0;34m(\u001b[0m\u001b[0;34m\"../data/finaldata/fact_data.feather\"\u001b[0m\u001b[0;34m)\u001b[0m\u001b[0;34m\u001b[0m\u001b[0;34m\u001b[0m\u001b[0m\n\u001b[0m",
      "\u001b[0;32m~/anaconda3/lib/python3.7/site-packages/pandas/io/feather_format.py\u001b[0m in \u001b[0;36mread_feather\u001b[0;34m(path, columns, use_threads, storage_options)\u001b[0m\n\u001b[1;32m    118\u001b[0m     \u001b[0mtype\u001b[0m \u001b[0mof\u001b[0m \u001b[0mobject\u001b[0m \u001b[0mstored\u001b[0m \u001b[0;32min\u001b[0m \u001b[0mfile\u001b[0m\u001b[0;34m\u001b[0m\u001b[0;34m\u001b[0m\u001b[0m\n\u001b[1;32m    119\u001b[0m     \"\"\"\n\u001b[0;32m--> 120\u001b[0;31m     \u001b[0mimport_optional_dependency\u001b[0m\u001b[0;34m(\u001b[0m\u001b[0;34m\"pyarrow\"\u001b[0m\u001b[0;34m)\u001b[0m\u001b[0;34m\u001b[0m\u001b[0;34m\u001b[0m\u001b[0m\n\u001b[0m\u001b[1;32m    121\u001b[0m     \u001b[0;32mfrom\u001b[0m \u001b[0mpyarrow\u001b[0m \u001b[0;32mimport\u001b[0m \u001b[0mfeather\u001b[0m\u001b[0;34m\u001b[0m\u001b[0;34m\u001b[0m\u001b[0m\n\u001b[1;32m    122\u001b[0m \u001b[0;34m\u001b[0m\u001b[0m\n",
      "\u001b[0;32m~/anaconda3/lib/python3.7/site-packages/pandas/compat/_optional.py\u001b[0m in \u001b[0;36mimport_optional_dependency\u001b[0;34m(name, extra, raise_on_missing, on_version)\u001b[0m\n\u001b[1;32m    107\u001b[0m     \u001b[0;32mexcept\u001b[0m \u001b[0mImportError\u001b[0m\u001b[0;34m:\u001b[0m\u001b[0;34m\u001b[0m\u001b[0;34m\u001b[0m\u001b[0m\n\u001b[1;32m    108\u001b[0m         \u001b[0;32mif\u001b[0m \u001b[0mraise_on_missing\u001b[0m\u001b[0;34m:\u001b[0m\u001b[0;34m\u001b[0m\u001b[0;34m\u001b[0m\u001b[0m\n\u001b[0;32m--> 109\u001b[0;31m             \u001b[0;32mraise\u001b[0m \u001b[0mImportError\u001b[0m\u001b[0;34m(\u001b[0m\u001b[0mmsg\u001b[0m\u001b[0;34m)\u001b[0m \u001b[0;32mfrom\u001b[0m \u001b[0;32mNone\u001b[0m\u001b[0;34m\u001b[0m\u001b[0;34m\u001b[0m\u001b[0m\n\u001b[0m\u001b[1;32m    110\u001b[0m         \u001b[0;32melse\u001b[0m\u001b[0;34m:\u001b[0m\u001b[0;34m\u001b[0m\u001b[0;34m\u001b[0m\u001b[0m\n\u001b[1;32m    111\u001b[0m             \u001b[0;32mreturn\u001b[0m \u001b[0;32mNone\u001b[0m\u001b[0;34m\u001b[0m\u001b[0;34m\u001b[0m\u001b[0m\n",
      "\u001b[0;31mImportError\u001b[0m: Missing optional dependency 'pyarrow'.  Use pip or conda to install pyarrow."
     ]
    }
   ],
   "source": [
    "data = pd.read_feather(\"../data/finaldata/fact_data.feather\")"
   ]
  },
  {
   "cell_type": "markdown",
   "id": "64c78f25",
   "metadata": {},
   "source": [
    "### Find all numeric columns and fill all NA/NAN values with zeros"
   ]
  },
  {
   "cell_type": "code",
   "execution_count": null,
   "id": "governmental-palestinian",
   "metadata": {},
   "outputs": [],
   "source": [
    "tmp_data = data._get_numeric_data()\n",
    "tmp_data = tmp_data.fillna(0)\n",
    "tmp_data.head()"
   ]
  },
  {
   "cell_type": "markdown",
   "id": "9918b719",
   "metadata": {},
   "source": [
    "### Split the whole dataset into a training set (50%) and a testing set (50%). Take the run_duration_minites as features and number_of_alerts as labels to train the linear regression classifier."
   ]
  },
  {
   "cell_type": "code",
   "execution_count": null,
   "id": "arranged-deadline",
   "metadata": {},
   "outputs": [],
   "source": [
    "train_data, test_data = train_test_split(tmp_data, test_size=0.5)\n",
    "model = LinearRegression().fit(train_data['run_duration_minutes'].values.reshape(-1,1).astype('int'), train_data['number_of_alerts'].astype('int'))"
   ]
  },
  {
   "cell_type": "markdown",
   "id": "38364941",
   "metadata": {},
   "source": [
    "### Compute the training accuracy"
   ]
  },
  {
   "cell_type": "code",
   "execution_count": null,
   "id": "promising-hammer",
   "metadata": {},
   "outputs": [],
   "source": [
    "print(\"Accuracy =\", model.score(train_data['run_duration_minutes'].values.reshape(-1, 1).astype('int'), train_data['number_of_alerts'].astype('int')))\n",
    "test_data.head()"
   ]
  },
  {
   "cell_type": "markdown",
   "id": "dcf4ddf8",
   "metadata": {},
   "source": [
    "### Compute predictions with the training data and plot the data in a figure"
   ]
  },
  {
   "cell_type": "code",
   "execution_count": null,
   "id": "treated-campaign",
   "metadata": {},
   "outputs": [],
   "source": [
    "y_pred_sk = model.predict(train_data['run_duration_minutes'].values.reshape(-1, 1).astype('int'))\n",
    "                          \n",
    "plt.clf()\n",
    "plt.scatter(train_data['run_duration_minutes'].values.reshape(-1, 1).astype('int'), train_data['number_of_alerts'].astype('int'))\n",
    "plt.scatter(test_data['run_duration_minutes'].values.reshape(-1, 1).astype('int'), y_pred_sk, c=\"red\")\n",
    "plt.xlabel(\"Run Duration Minutes\")\n",
    "plt.ylabel(\"Number of Alerts\")\n",
    "plt.show()"
   ]
  },
  {
   "cell_type": "markdown",
   "id": "827b17e3",
   "metadata": {},
   "source": [
    "### Print the linear regression model's parameters"
   ]
  },
  {
   "cell_type": "code",
   "execution_count": null,
   "id": "civilian-denmark",
   "metadata": {},
   "outputs": [],
   "source": [
    "model.get_params()"
   ]
  },
  {
   "cell_type": "markdown",
   "id": "6af0771e",
   "metadata": {},
   "source": [
    "### Print the training accuracy"
   ]
  },
  {
   "cell_type": "code",
   "execution_count": null,
   "id": "interior-capacity",
   "metadata": {},
   "outputs": [],
   "source": [
    "model.score(train_data['run_duration_minutes'].values.reshape(-1, 1).astype('int'), train_data['number_of_alerts'].astype('int'))"
   ]
  },
  {
   "cell_type": "code",
   "execution_count": null,
   "id": "awful-rebel",
   "metadata": {},
   "outputs": [],
   "source": []
  }
 ],
 "metadata": {
  "kernelspec": {
   "display_name": "Python 3",
   "language": "python",
   "name": "python3"
  },
  "language_info": {
   "codemirror_mode": {
    "name": "ipython",
    "version": 3
   },
   "file_extension": ".py",
   "mimetype": "text/x-python",
   "name": "python",
   "nbconvert_exporter": "python",
   "pygments_lexer": "ipython3",
   "version": "3.7.10"
  }
 },
 "nbformat": 4,
 "nbformat_minor": 5
}
