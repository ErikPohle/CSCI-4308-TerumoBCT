{
 "cells": [
  {
   "cell_type": "code",
   "execution_count": 1,
   "id": "strange-metadata",
   "metadata": {},
   "outputs": [],
   "source": [
    "import pandas as pd\n",
    "from functools import reduce\n",
    "import numpy as np\n",
    "import gc\n",
    "import matplotlib.pyplot as plt\n",
    "import numpy as np\n",
    "from sklearn.cluster import KMeans\n",
    "from sklearn.metrics import classification_report, confusion_matrix\n",
    "from sklearn.model_selection import train_test_split\n",
    "pd.set_option('display.max_columns', None)"
   ]
  },
  {
   "cell_type": "markdown",
   "id": "0d50cc4c",
   "metadata": {},
   "source": [
    "### Read data from a feather binary file with Pandas"
   ]
  },
  {
   "cell_type": "code",
   "execution_count": 2,
   "id": "under-ghana",
   "metadata": {},
   "outputs": [
    {
     "ename": "ImportError",
     "evalue": "Missing optional dependency 'pyarrow'.  Use pip or conda to install pyarrow.",
     "output_type": "error",
     "traceback": [
      "\u001b[0;31m---------------------------------------------------------------------------\u001b[0m",
      "\u001b[0;31mImportError\u001b[0m                               Traceback (most recent call last)",
      "\u001b[0;32m<ipython-input-2-72b1bc8d3412>\u001b[0m in \u001b[0;36m<module>\u001b[0;34m\u001b[0m\n\u001b[0;32m----> 1\u001b[0;31m \u001b[0mdata\u001b[0m \u001b[0;34m=\u001b[0m \u001b[0mpd\u001b[0m\u001b[0;34m.\u001b[0m\u001b[0mread_feather\u001b[0m\u001b[0;34m(\u001b[0m\u001b[0;34m\"../data/finaldata/fact_data.feather\"\u001b[0m\u001b[0;34m)\u001b[0m\u001b[0;34m\u001b[0m\u001b[0;34m\u001b[0m\u001b[0m\n\u001b[0m",
      "\u001b[0;32m~/anaconda3/lib/python3.7/site-packages/pandas/io/feather_format.py\u001b[0m in \u001b[0;36mread_feather\u001b[0;34m(path, columns, use_threads, storage_options)\u001b[0m\n\u001b[1;32m    118\u001b[0m     \u001b[0mtype\u001b[0m \u001b[0mof\u001b[0m \u001b[0mobject\u001b[0m \u001b[0mstored\u001b[0m \u001b[0;32min\u001b[0m \u001b[0mfile\u001b[0m\u001b[0;34m\u001b[0m\u001b[0;34m\u001b[0m\u001b[0m\n\u001b[1;32m    119\u001b[0m     \"\"\"\n\u001b[0;32m--> 120\u001b[0;31m     \u001b[0mimport_optional_dependency\u001b[0m\u001b[0;34m(\u001b[0m\u001b[0;34m\"pyarrow\"\u001b[0m\u001b[0;34m)\u001b[0m\u001b[0;34m\u001b[0m\u001b[0;34m\u001b[0m\u001b[0m\n\u001b[0m\u001b[1;32m    121\u001b[0m     \u001b[0;32mfrom\u001b[0m \u001b[0mpyarrow\u001b[0m \u001b[0;32mimport\u001b[0m \u001b[0mfeather\u001b[0m\u001b[0;34m\u001b[0m\u001b[0;34m\u001b[0m\u001b[0m\n\u001b[1;32m    122\u001b[0m \u001b[0;34m\u001b[0m\u001b[0m\n",
      "\u001b[0;32m~/anaconda3/lib/python3.7/site-packages/pandas/compat/_optional.py\u001b[0m in \u001b[0;36mimport_optional_dependency\u001b[0;34m(name, extra, raise_on_missing, on_version)\u001b[0m\n\u001b[1;32m    107\u001b[0m     \u001b[0;32mexcept\u001b[0m \u001b[0mImportError\u001b[0m\u001b[0;34m:\u001b[0m\u001b[0;34m\u001b[0m\u001b[0;34m\u001b[0m\u001b[0m\n\u001b[1;32m    108\u001b[0m         \u001b[0;32mif\u001b[0m \u001b[0mraise_on_missing\u001b[0m\u001b[0;34m:\u001b[0m\u001b[0;34m\u001b[0m\u001b[0;34m\u001b[0m\u001b[0m\n\u001b[0;32m--> 109\u001b[0;31m             \u001b[0;32mraise\u001b[0m \u001b[0mImportError\u001b[0m\u001b[0;34m(\u001b[0m\u001b[0mmsg\u001b[0m\u001b[0;34m)\u001b[0m \u001b[0;32mfrom\u001b[0m \u001b[0;32mNone\u001b[0m\u001b[0;34m\u001b[0m\u001b[0;34m\u001b[0m\u001b[0m\n\u001b[0m\u001b[1;32m    110\u001b[0m         \u001b[0;32melse\u001b[0m\u001b[0;34m:\u001b[0m\u001b[0;34m\u001b[0m\u001b[0;34m\u001b[0m\u001b[0m\n\u001b[1;32m    111\u001b[0m             \u001b[0;32mreturn\u001b[0m \u001b[0;32mNone\u001b[0m\u001b[0;34m\u001b[0m\u001b[0;34m\u001b[0m\u001b[0m\n",
      "\u001b[0;31mImportError\u001b[0m: Missing optional dependency 'pyarrow'.  Use pip or conda to install pyarrow."
     ]
    }
   ],
   "source": [
    "data = pd.read_feather(\"../data/finaldata/fact_data.feather\")"
   ]
  },
  {
   "cell_type": "markdown",
   "id": "dc5c3dff",
   "metadata": {},
   "source": [
    "### Find all numeric columns and fill all NA/NAN values with zeros"
   ]
  },
  {
   "cell_type": "code",
   "execution_count": null,
   "id": "exceptional-resource",
   "metadata": {},
   "outputs": [],
   "source": [
    "tmp_data = data._get_numeric_data()\n",
    "tmp_data = tmp_data.fillna(0)\n",
    "tmp_data.head()"
   ]
  },
  {
   "cell_type": "markdown",
   "id": "sharp-belgium",
   "metadata": {},
   "source": [
    "## K Means with number of alerts and product volume"
   ]
  },
  {
   "cell_type": "markdown",
   "id": "919958c0",
   "metadata": {},
   "source": [
    "### Print product_volume column's statistics"
   ]
  },
  {
   "cell_type": "code",
   "execution_count": null,
   "id": "lesser-aaron",
   "metadata": {},
   "outputs": [],
   "source": [
    "tmp_data['product_volume'].describe()"
   ]
  },
  {
   "cell_type": "markdown",
   "id": "226601bb",
   "metadata": {},
   "source": [
    "### Keep only number_of_alerts and product_volume columns"
   ]
  },
  {
   "cell_type": "code",
   "execution_count": null,
   "id": "christian-hindu",
   "metadata": {},
   "outputs": [],
   "source": [
    "simpleDataProdVolume = tmp_data.filter(['number_of_alerts', 'product_volume'])"
   ]
  },
  {
   "cell_type": "markdown",
   "id": "9a4d46e4",
   "metadata": {},
   "source": [
    "### Split the whole simple dataset into a training set (50%) and a testing set (50%)"
   ]
  },
  {
   "cell_type": "code",
   "execution_count": null,
   "id": "loving-gentleman",
   "metadata": {},
   "outputs": [],
   "source": [
    "train_data_prod_volume, test_data_prod_volume = train_test_split(simpleDataProdVolume, test_size=0.5)"
   ]
  },
  {
   "cell_type": "markdown",
   "id": "fdd700cc",
   "metadata": {},
   "source": [
    "### Run K-means clustering method with n_clusters=4 and collect predicted labels"
   ]
  },
  {
   "cell_type": "code",
   "execution_count": null,
   "id": "classified-occupation",
   "metadata": {},
   "outputs": [],
   "source": [
    "kmeans_prod_volume = KMeans(n_clusters=4, random_state=0).fit(train_data_prod_volume)\n",
    "labels_prod_volume = kmeans_prod_volume.labels_"
   ]
  },
  {
   "cell_type": "code",
   "execution_count": null,
   "id": "second-casting",
   "metadata": {},
   "outputs": [],
   "source": [
    "kmeans_prod_volume.fit(np.array(train_data_prod_volume['product_volume'].values).reshape(-1, 1).astype('int'))\n",
    "y_kmeans_prod_volume = kmeans_prod_volume.predict(np.array(train_data_prod_volume['product_volume'].values).reshape(-1, 1).astype('int'))\n"
   ]
  },
  {
   "cell_type": "markdown",
   "id": "6c067873",
   "metadata": {},
   "source": [
    "### Collect and print K-means centers. Draw the training data in the figure."
   ]
  },
  {
   "cell_type": "code",
   "execution_count": null,
   "id": "assumed-reporter",
   "metadata": {},
   "outputs": [],
   "source": [
    "centers_prod_volume = kmeans_prod_volume.cluster_centers_\n",
    "print(centers_prod_volume)\n",
    "#plt.scatter(centers_prod_volume, centers_prod_volume, c='black', s=200, alpha=0.5)\n",
    "plt.scatter(train_data_prod_volume['product_volume'], train_data_prod_volume['number_of_alerts'], c=y_kmeans_prod_volume, s=50, cmap='viridis')\n",
    "plt.xlabel('product_volume')\n",
    "plt.ylabel('number_of_alerts')\n",
    "plt.title('number_of_alerts versus product_volume')\n"
   ]
  },
  {
   "cell_type": "markdown",
   "id": "regional-adelaide",
   "metadata": {},
   "source": [
    "## K Means with number of alerts and min temperature\n",
    "\n",
    "### All steps are almost the same compared with previous code blocks, except that the traning data contains different columns. Note that the number of classes could be different based on which data column is used as label."
   ]
  },
  {
   "cell_type": "code",
   "execution_count": null,
   "id": "sought-turtle",
   "metadata": {},
   "outputs": [],
   "source": [
    "tmp_data['min_basin_temperature'].describe()"
   ]
  },
  {
   "cell_type": "code",
   "execution_count": null,
   "id": "discrete-syria",
   "metadata": {},
   "outputs": [],
   "source": [
    "simpleDataMinTemp = tmp_data.filter(['number_of_alerts', 'min_basin_temperature'])"
   ]
  },
  {
   "cell_type": "code",
   "execution_count": null,
   "id": "heard-bolivia",
   "metadata": {},
   "outputs": [],
   "source": [
    "train_data_min_temp, test_data_min_temp = train_test_split(simpleDataMinTemp, test_size=0.5)"
   ]
  },
  {
   "cell_type": "code",
   "execution_count": null,
   "id": "trained-lingerie",
   "metadata": {},
   "outputs": [],
   "source": [
    "kmeans_min_temp = KMeans(n_clusters=4, random_state=0).fit(train_data_min_temp)\n",
    "labels_min_temp = kmeans_min_temp.labels_"
   ]
  },
  {
   "cell_type": "code",
   "execution_count": null,
   "id": "cheap-merchant",
   "metadata": {},
   "outputs": [],
   "source": [
    "kmeans_min_temp.fit(train_data_min_temp['min_basin_temperature'].values.reshape(-1, 1).astype('float'))\n",
    "y_kmeans_min_temp = kmeans_min_temp.predict(train_data_min_temp['min_basin_temperature'].values.reshape(-1, 1).astype('float'))\n"
   ]
  },
  {
   "cell_type": "code",
   "execution_count": null,
   "id": "friendly-flavor",
   "metadata": {},
   "outputs": [],
   "source": [
    "centers_min_temp = kmeans_min_temp.cluster_centers_\n",
    "print(centers_min_temp)\n",
    "plt.scatter(centers_min_temp, centers_min_temp, c='black', s=200, alpha=0.5)\n",
    "plt.scatter(train_data_min_temp['min_basin_temperature'], train_data_min_temp['number_of_alerts'], c=y_kmeans_min_temp, s=50, cmap='viridis')\n",
    "plt.xlabel('min_basin_temperature')\n",
    "plt.ylabel('number_of_alerts')\n",
    "plt.title('number_of_alerts versus min_basin_temperature')\n"
   ]
  },
  {
   "cell_type": "markdown",
   "id": "extensive-victory",
   "metadata": {},
   "source": [
    "## K Means with number of alerts and max temperature\n",
    "\n",
    "### All steps are almost the same compared with previous code blocks, except that the traning data contains different columns. Note that the number of classes could be different based on which data column is used as label."
   ]
  },
  {
   "cell_type": "code",
   "execution_count": null,
   "id": "formal-harvey",
   "metadata": {},
   "outputs": [],
   "source": [
    "tmp_data['max_basin_temperature'].describe()"
   ]
  },
  {
   "cell_type": "code",
   "execution_count": null,
   "id": "front-commerce",
   "metadata": {},
   "outputs": [],
   "source": [
    "simpleDataMaxTemp = tmp_data.filter(['number_of_alerts', 'max_basin_temperature'])"
   ]
  },
  {
   "cell_type": "code",
   "execution_count": null,
   "id": "steady-drink",
   "metadata": {},
   "outputs": [],
   "source": [
    "train_data_max_temp, test_data_max_temp = train_test_split(simpleDataMaxTemp, test_size=0.5)"
   ]
  },
  {
   "cell_type": "code",
   "execution_count": null,
   "id": "competent-chile",
   "metadata": {},
   "outputs": [],
   "source": [
    "kmeans_max_temp = KMeans(n_clusters=5, random_state=0).fit(train_data_max_temp)\n",
    "labels_max_temp = kmeans_max_temp.labels_"
   ]
  },
  {
   "cell_type": "code",
   "execution_count": null,
   "id": "minute-expert",
   "metadata": {},
   "outputs": [],
   "source": [
    "kmeans_max_temp.fit(train_data_max_temp['max_basin_temperature'].values.reshape(-1, 1).astype('float'))\n",
    "y_kmeans_max_temp = kmeans_max_temp.predict(train_data_max_temp['max_basin_temperature'].values.reshape(-1, 1).astype('float'))"
   ]
  },
  {
   "cell_type": "code",
   "execution_count": null,
   "id": "developing-making",
   "metadata": {},
   "outputs": [],
   "source": [
    "centers_max_temp = kmeans_max_temp.cluster_centers_\n",
    "print(centers_max_temp)\n",
    "plt.scatter(centers_max_temp, centers_max_temp, c='black', s=200, alpha=0.5)\n",
    "plt.scatter(train_data_max_temp['max_basin_temperature'], train_data_max_temp['number_of_alerts'], c=y_kmeans_max_temp, s=50, cmap='viridis')\n",
    "plt.xlabel('max_basin_temperature')\n",
    "plt.ylabel('number_of_alerts')\n",
    "plt.title('number_of_alerts versus max_basin_temperature')\n",
    "\n"
   ]
  },
  {
   "cell_type": "markdown",
   "id": "apart-saskatchewan",
   "metadata": {},
   "source": [
    "## K Means with number of alerts and temp out of range exceptions\n",
    "\n",
    "### All steps are almost the same compared with previous code blocks, except that the traning data contains different columns. Note that the number of classes could be different based on which data column is used as label."
   ]
  },
  {
   "cell_type": "code",
   "execution_count": null,
   "id": "closing-title",
   "metadata": {},
   "outputs": [],
   "source": [
    "tmp_data['number_of_temp_out_of_range_exceptions'].describe()"
   ]
  },
  {
   "cell_type": "code",
   "execution_count": null,
   "id": "signal-trail",
   "metadata": {},
   "outputs": [],
   "source": [
    "simpleDataBadTemp = tmp_data.filter(['number_of_alerts', 'number_of_temp_out_of_range_exceptions'])"
   ]
  },
  {
   "cell_type": "code",
   "execution_count": null,
   "id": "seventh-cotton",
   "metadata": {},
   "outputs": [],
   "source": [
    "train_data_bad_temp, test_data_bad_temp = train_test_split(simpleDataBadTemp, test_size=0.5)"
   ]
  },
  {
   "cell_type": "code",
   "execution_count": null,
   "id": "unlimited-vitamin",
   "metadata": {},
   "outputs": [],
   "source": [
    "kmeans_bad_temp = KMeans(n_clusters=2, random_state=0).fit(train_data_bad_temp)\n",
    "labels_bad_temp = kmeans_bad_temp.labels_"
   ]
  },
  {
   "cell_type": "code",
   "execution_count": null,
   "id": "scheduled-fight",
   "metadata": {},
   "outputs": [],
   "source": [
    "kmeans_bad_temp.fit(np.array(train_data_bad_temp['number_of_temp_out_of_range_exceptions'].values).reshape(-1, 1).astype('float'))\n",
    "y_kmeans_bad_temp = kmeans_bad_temp.predict(np.array(train_data_bad_temp['number_of_temp_out_of_range_exceptions'].values).reshape(-1, 1).astype('float'))\n"
   ]
  },
  {
   "cell_type": "code",
   "execution_count": null,
   "id": "rental-knife",
   "metadata": {},
   "outputs": [],
   "source": [
    "centers_bad_temp = kmeans_bad_temp.cluster_centers_\n",
    "print(centers_bad_temp)\n",
    "plt.scatter(centers_bad_temp, centers_bad_temp, c='black', s=200, alpha=0.5)\n",
    "plt.scatter(train_data_bad_temp['number_of_temp_out_of_range_exceptions'], train_data_bad_temp['number_of_alerts'], c=y_kmeans_bad_temp, s=50, cmap='viridis')\n",
    "\n",
    "plt.xlabel('number_of_temp_out_of_range_exceptions')\n",
    "plt.ylabel('number_of_alerts')\n",
    "plt.title('number_of_alerts versus number_of_temp_out_of_range_exceptions')\n",
    "\n"
   ]
  },
  {
   "cell_type": "code",
   "execution_count": null,
   "id": "cognitive-peace",
   "metadata": {},
   "outputs": [],
   "source": []
  },
  {
   "cell_type": "markdown",
   "id": "optional-surge",
   "metadata": {},
   "source": [
    "## K Means with number of alerts and run duration\n",
    "\n",
    "### All steps are almost the same compared with previous code blocks, except that the traning data contains different columns. Note that the number of classes could be different based on which data column is used as label."
   ]
  },
  {
   "cell_type": "code",
   "execution_count": null,
   "id": "dietary-italy",
   "metadata": {},
   "outputs": [],
   "source": [
    "tmp_data['run_duration_minutes'].describe()"
   ]
  },
  {
   "cell_type": "code",
   "execution_count": null,
   "id": "stable-finder",
   "metadata": {},
   "outputs": [],
   "source": [
    "simpleDataRunDuration = tmp_data.filter(['number_of_alerts', 'run_duration_minutes'])"
   ]
  },
  {
   "cell_type": "code",
   "execution_count": null,
   "id": "dying-timothy",
   "metadata": {},
   "outputs": [],
   "source": [
    "train_data_run_duration, test_data_run_duration = train_test_split(simpleDataRunDuration, test_size=0.5)"
   ]
  },
  {
   "cell_type": "code",
   "execution_count": null,
   "id": "crazy-present",
   "metadata": {},
   "outputs": [],
   "source": [
    "train_data_run_duration.head(10)"
   ]
  },
  {
   "cell_type": "code",
   "execution_count": null,
   "id": "homeless-cameroon",
   "metadata": {},
   "outputs": [],
   "source": [
    "kmeans_run_duration = KMeans(n_clusters=7, random_state=0).fit(train_data_run_duration)"
   ]
  },
  {
   "cell_type": "code",
   "execution_count": null,
   "id": "informative-invalid",
   "metadata": {},
   "outputs": [],
   "source": [
    "labels_run_duration = kmeans_run_duration.labels_"
   ]
  },
  {
   "cell_type": "code",
   "execution_count": null,
   "id": "logical-muscle",
   "metadata": {},
   "outputs": [],
   "source": [
    "kmeans_run_duration.fit(train_data_run_duration['run_duration_minutes'].values.reshape(-1, 1).astype('float'))\n",
    "y_kmeans_run_duration = kmeans_run_duration.predict(train_data_run_duration['run_duration_minutes'].values.reshape(-1, 1).astype('float'))"
   ]
  },
  {
   "cell_type": "code",
   "execution_count": null,
   "id": "color-italic",
   "metadata": {},
   "outputs": [],
   "source": [
    "centers_run_duration = kmeans_run_duration.cluster_centers_\n",
    "print(centers_run_duration)\n",
    "#plt.scatter(centers2, centers2, c='black', s=200, alpha=0.5)\n",
    "plt.scatter(train_data_run_duration['run_duration_minutes'], train_data_run_duration['number_of_alerts'], c=y_kmeans_run_duration, s=50, cmap='viridis')\n",
    "\n",
    "\n",
    "plt.xlabel('run_duration_minutes')\n",
    "plt.ylabel('number_of_alerts')\n",
    "plt.title('number_of_alerts versus run_duration_minutes')\n",
    "\n"
   ]
  },
  {
   "cell_type": "markdown",
   "id": "derived-clarity",
   "metadata": {},
   "source": [
    "## K Means with number of alerts and procedure duration minutes\n",
    "\n",
    "### All steps are almost the same compared with previous code blocks, except that the traning data contains different columns. Note that the number of classes could be different based on which data column is used as label."
   ]
  },
  {
   "cell_type": "code",
   "execution_count": null,
   "id": "offensive-practice",
   "metadata": {},
   "outputs": [],
   "source": [
    "tmp_data['procedure_duration_minutes'].describe()"
   ]
  },
  {
   "cell_type": "code",
   "execution_count": null,
   "id": "accepting-alignment",
   "metadata": {},
   "outputs": [],
   "source": [
    "simpleDataProcedureDuration = tmp_data.filter(['number_of_alerts', 'procedure_duration_minutes'])"
   ]
  },
  {
   "cell_type": "code",
   "execution_count": null,
   "id": "bulgarian-vertex",
   "metadata": {},
   "outputs": [],
   "source": [
    "train_data_procedure_duration, test_data_procedure_duration = train_test_split(simpleDataProcedureDuration, test_size=0.5)"
   ]
  },
  {
   "cell_type": "code",
   "execution_count": null,
   "id": "ahead-algeria",
   "metadata": {},
   "outputs": [],
   "source": [
    "kmeans_procedure_duration = KMeans(n_clusters=3, random_state=0).fit(train_data_procedure_duration)"
   ]
  },
  {
   "cell_type": "code",
   "execution_count": null,
   "id": "right-pilot",
   "metadata": {},
   "outputs": [],
   "source": [
    "labels_procedure_duration = kmeans_procedure_duration.labels_"
   ]
  },
  {
   "cell_type": "code",
   "execution_count": null,
   "id": "organizational-contributor",
   "metadata": {},
   "outputs": [],
   "source": [
    "kmeans_procedure_duration.fit(test_data_procedure_duration['procedure_duration_minutes'].values.reshape(-1, 1).astype('float'))\n",
    "y_kmeans_procedure_duration = kmeans_procedure_duration.predict(test_data_procedure_duration['procedure_duration_minutes'].values.reshape(-1, 1).astype('float'))\n"
   ]
  },
  {
   "cell_type": "code",
   "execution_count": null,
   "id": "infectious-lindsay",
   "metadata": {},
   "outputs": [],
   "source": [
    "centers_procedure_duration = kmeans_procedure_duration.cluster_centers_\n",
    "print(centers_procedure_duration)\n",
    "plt.scatter(test_data_procedure_duration['procedure_duration_minutes'], test_data_procedure_duration['number_of_alerts'], c=y_kmeans_procedure_duration, s=50, cmap='viridis')\n",
    "\n",
    "plt.xlabel('procedure_duration_minutes')\n",
    "plt.ylabel('number_of_alerts')\n",
    "plt.title('number_of_alerts versus procedure_duration_minutes')\n",
    "\n"
   ]
  },
  {
   "cell_type": "code",
   "execution_count": null,
   "id": "streaming-aviation",
   "metadata": {},
   "outputs": [],
   "source": []
  },
  {
   "cell_type": "code",
   "execution_count": null,
   "id": "rising-repository",
   "metadata": {},
   "outputs": [],
   "source": []
  }
 ],
 "metadata": {
  "kernelspec": {
   "display_name": "Python 3",
   "language": "python",
   "name": "python3"
  },
  "language_info": {
   "codemirror_mode": {
    "name": "ipython",
    "version": 3
   },
   "file_extension": ".py",
   "mimetype": "text/x-python",
   "name": "python",
   "nbconvert_exporter": "python",
   "pygments_lexer": "ipython3",
   "version": "3.7.10"
  }
 },
 "nbformat": 4,
 "nbformat_minor": 5
}
