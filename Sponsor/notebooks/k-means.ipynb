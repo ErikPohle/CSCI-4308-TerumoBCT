{
 "cells": [
  {
   "cell_type": "code",
   "execution_count": 1,
   "id": "strange-metadata",
   "metadata": {},
   "outputs": [],
   "source": [
    "import pandas as pd\n",
    "from functools import reduce\n",
    "import numpy as np\n",
    "import gc\n",
    "import matplotlib.pyplot as plt\n",
    "import numpy as np\n",
    "from sklearn.cluster import KMeans\n",
    "from sklearn.metrics import classification_report, confusion_matrix\n",
    "from sklearn.model_selection import train_test_split\n",
    "pd.set_option('display.max_columns', None)"
   ]
  },
  {
   "cell_type": "code",
   "execution_count": 2,
   "id": "under-ghana",
   "metadata": {},
   "outputs": [],
   "source": [
    "data = pd.read_feather(\"../data/finaldata/fact_data.feather\")"
   ]
  },
  {
   "cell_type": "code",
   "execution_count": 3,
   "id": "exceptional-resource",
   "metadata": {},
   "outputs": [
    {
     "data": {
      "text/html": [
       "<div>\n",
       "<style scoped>\n",
       "    .dataframe tbody tr th:only-of-type {\n",
       "        vertical-align: middle;\n",
       "    }\n",
       "\n",
       "    .dataframe tbody tr th {\n",
       "        vertical-align: top;\n",
       "    }\n",
       "\n",
       "    .dataframe thead th {\n",
       "        text-align: right;\n",
       "    }\n",
       "</style>\n",
       "<table border=\"1\" class=\"dataframe\">\n",
       "  <thead>\n",
       "    <tr style=\"text-align: right;\">\n",
       "      <th></th>\n",
       "      <th>product_volume</th>\n",
       "      <th>number_of_blood_product_units_processed</th>\n",
       "      <th>number_of_donation_units_processed</th>\n",
       "      <th>number_of_duplicated_donation_units</th>\n",
       "      <th>number_of_skipped_donation_barcodes</th>\n",
       "      <th>number_of_donation_alarms</th>\n",
       "      <th>number_of_alerts</th>\n",
       "      <th>number_of_duplicated_exception_units</th>\n",
       "      <th>number_of_reprocessed_units</th>\n",
       "      <th>number_of_inconclusive_sealed_units</th>\n",
       "      <th>number_of_unrecognized_barcodes</th>\n",
       "      <th>number_of_skipped_exception_barcodes</th>\n",
       "      <th>number_of_temp_out_of_range_exceptions</th>\n",
       "      <th>number_of_exception_alarms</th>\n",
       "      <th>procedure_duration_minutes</th>\n",
       "      <th>idle_time_duration_minutes</th>\n",
       "      <th>load_duration_minutes</th>\n",
       "      <th>unload_duration_minutes</th>\n",
       "      <th>load_idle_time_duration_minutes</th>\n",
       "      <th>run_duration_minutes</th>\n",
       "      <th>barcode_scan_duration_minutes</th>\n",
       "      <th>number_of_procedures</th>\n",
       "      <th>number_of_dummy_bags</th>\n",
       "      <th>number_of_barcode_scans</th>\n",
       "      <th>number_of_skipped_run_barcodes</th>\n",
       "      <th>start_basin_temperature</th>\n",
       "      <th>end_basin_temperature</th>\n",
       "      <th>max_basin_temperature</th>\n",
       "      <th>min_basin_temperature</th>\n",
       "      <th>run_number</th>\n",
       "    </tr>\n",
       "  </thead>\n",
       "  <tbody>\n",
       "    <tr>\n",
       "      <th>0</th>\n",
       "      <td>94</td>\n",
       "      <td>1</td>\n",
       "      <td>1</td>\n",
       "      <td>1</td>\n",
       "      <td>0</td>\n",
       "      <td>0</td>\n",
       "      <td>0</td>\n",
       "      <td>0</td>\n",
       "      <td>0</td>\n",
       "      <td>0</td>\n",
       "      <td>0</td>\n",
       "      <td>0</td>\n",
       "      <td>0</td>\n",
       "      <td>0</td>\n",
       "      <td>56.837234</td>\n",
       "      <td>0.0</td>\n",
       "      <td>32.056816</td>\n",
       "      <td>0.416667</td>\n",
       "      <td>0.671117</td>\n",
       "      <td>21.049999</td>\n",
       "      <td>6.171717</td>\n",
       "      <td>1</td>\n",
       "      <td>0</td>\n",
       "      <td>9</td>\n",
       "      <td>0</td>\n",
       "      <td>19.975</td>\n",
       "      <td>20.605</td>\n",
       "      <td>22.698999</td>\n",
       "      <td>19.961</td>\n",
       "      <td>1577.0</td>\n",
       "    </tr>\n",
       "    <tr>\n",
       "      <th>1</th>\n",
       "      <td>64</td>\n",
       "      <td>1</td>\n",
       "      <td>1</td>\n",
       "      <td>1</td>\n",
       "      <td>0</td>\n",
       "      <td>0</td>\n",
       "      <td>0</td>\n",
       "      <td>0</td>\n",
       "      <td>0</td>\n",
       "      <td>0</td>\n",
       "      <td>0</td>\n",
       "      <td>0</td>\n",
       "      <td>0</td>\n",
       "      <td>0</td>\n",
       "      <td>56.837234</td>\n",
       "      <td>0.0</td>\n",
       "      <td>32.056816</td>\n",
       "      <td>0.416667</td>\n",
       "      <td>0.671117</td>\n",
       "      <td>21.049999</td>\n",
       "      <td>6.171717</td>\n",
       "      <td>1</td>\n",
       "      <td>0</td>\n",
       "      <td>9</td>\n",
       "      <td>0</td>\n",
       "      <td>19.975</td>\n",
       "      <td>20.605</td>\n",
       "      <td>22.698999</td>\n",
       "      <td>19.961</td>\n",
       "      <td>1577.0</td>\n",
       "    </tr>\n",
       "    <tr>\n",
       "      <th>2</th>\n",
       "      <td>9</td>\n",
       "      <td>1</td>\n",
       "      <td>1</td>\n",
       "      <td>1</td>\n",
       "      <td>0</td>\n",
       "      <td>0</td>\n",
       "      <td>0</td>\n",
       "      <td>0</td>\n",
       "      <td>0</td>\n",
       "      <td>0</td>\n",
       "      <td>0</td>\n",
       "      <td>0</td>\n",
       "      <td>0</td>\n",
       "      <td>0</td>\n",
       "      <td>56.837234</td>\n",
       "      <td>0.0</td>\n",
       "      <td>32.056816</td>\n",
       "      <td>0.416667</td>\n",
       "      <td>0.671117</td>\n",
       "      <td>21.049999</td>\n",
       "      <td>6.171717</td>\n",
       "      <td>1</td>\n",
       "      <td>0</td>\n",
       "      <td>9</td>\n",
       "      <td>0</td>\n",
       "      <td>19.975</td>\n",
       "      <td>20.605</td>\n",
       "      <td>22.698999</td>\n",
       "      <td>19.961</td>\n",
       "      <td>1577.0</td>\n",
       "    </tr>\n",
       "    <tr>\n",
       "      <th>3</th>\n",
       "      <td>180</td>\n",
       "      <td>1</td>\n",
       "      <td>1</td>\n",
       "      <td>1</td>\n",
       "      <td>0</td>\n",
       "      <td>0</td>\n",
       "      <td>0</td>\n",
       "      <td>0</td>\n",
       "      <td>0</td>\n",
       "      <td>0</td>\n",
       "      <td>0</td>\n",
       "      <td>0</td>\n",
       "      <td>0</td>\n",
       "      <td>0</td>\n",
       "      <td>56.837234</td>\n",
       "      <td>0.0</td>\n",
       "      <td>32.056816</td>\n",
       "      <td>0.416667</td>\n",
       "      <td>0.671117</td>\n",
       "      <td>21.049999</td>\n",
       "      <td>6.171717</td>\n",
       "      <td>1</td>\n",
       "      <td>0</td>\n",
       "      <td>9</td>\n",
       "      <td>0</td>\n",
       "      <td>19.975</td>\n",
       "      <td>20.605</td>\n",
       "      <td>22.698999</td>\n",
       "      <td>19.961</td>\n",
       "      <td>1577.0</td>\n",
       "    </tr>\n",
       "    <tr>\n",
       "      <th>4</th>\n",
       "      <td>68</td>\n",
       "      <td>1</td>\n",
       "      <td>1</td>\n",
       "      <td>1</td>\n",
       "      <td>0</td>\n",
       "      <td>0</td>\n",
       "      <td>0</td>\n",
       "      <td>0</td>\n",
       "      <td>0</td>\n",
       "      <td>0</td>\n",
       "      <td>0</td>\n",
       "      <td>0</td>\n",
       "      <td>0</td>\n",
       "      <td>0</td>\n",
       "      <td>56.837234</td>\n",
       "      <td>0.0</td>\n",
       "      <td>32.056816</td>\n",
       "      <td>0.416667</td>\n",
       "      <td>0.671117</td>\n",
       "      <td>21.049999</td>\n",
       "      <td>6.171717</td>\n",
       "      <td>1</td>\n",
       "      <td>0</td>\n",
       "      <td>9</td>\n",
       "      <td>0</td>\n",
       "      <td>19.975</td>\n",
       "      <td>20.605</td>\n",
       "      <td>22.698999</td>\n",
       "      <td>19.961</td>\n",
       "      <td>1577.0</td>\n",
       "    </tr>\n",
       "  </tbody>\n",
       "</table>\n",
       "</div>"
      ],
      "text/plain": [
       "   product_volume  number_of_blood_product_units_processed  \\\n",
       "0              94                                        1   \n",
       "1              64                                        1   \n",
       "2               9                                        1   \n",
       "3             180                                        1   \n",
       "4              68                                        1   \n",
       "\n",
       "   number_of_donation_units_processed  number_of_duplicated_donation_units  \\\n",
       "0                                   1                                    1   \n",
       "1                                   1                                    1   \n",
       "2                                   1                                    1   \n",
       "3                                   1                                    1   \n",
       "4                                   1                                    1   \n",
       "\n",
       "   number_of_skipped_donation_barcodes  number_of_donation_alarms  \\\n",
       "0                                    0                          0   \n",
       "1                                    0                          0   \n",
       "2                                    0                          0   \n",
       "3                                    0                          0   \n",
       "4                                    0                          0   \n",
       "\n",
       "   number_of_alerts  number_of_duplicated_exception_units  \\\n",
       "0                 0                                     0   \n",
       "1                 0                                     0   \n",
       "2                 0                                     0   \n",
       "3                 0                                     0   \n",
       "4                 0                                     0   \n",
       "\n",
       "   number_of_reprocessed_units  number_of_inconclusive_sealed_units  \\\n",
       "0                            0                                    0   \n",
       "1                            0                                    0   \n",
       "2                            0                                    0   \n",
       "3                            0                                    0   \n",
       "4                            0                                    0   \n",
       "\n",
       "   number_of_unrecognized_barcodes  number_of_skipped_exception_barcodes  \\\n",
       "0                                0                                     0   \n",
       "1                                0                                     0   \n",
       "2                                0                                     0   \n",
       "3                                0                                     0   \n",
       "4                                0                                     0   \n",
       "\n",
       "   number_of_temp_out_of_range_exceptions  number_of_exception_alarms  \\\n",
       "0                                       0                           0   \n",
       "1                                       0                           0   \n",
       "2                                       0                           0   \n",
       "3                                       0                           0   \n",
       "4                                       0                           0   \n",
       "\n",
       "   procedure_duration_minutes  idle_time_duration_minutes  \\\n",
       "0                   56.837234                         0.0   \n",
       "1                   56.837234                         0.0   \n",
       "2                   56.837234                         0.0   \n",
       "3                   56.837234                         0.0   \n",
       "4                   56.837234                         0.0   \n",
       "\n",
       "   load_duration_minutes  unload_duration_minutes  \\\n",
       "0              32.056816                 0.416667   \n",
       "1              32.056816                 0.416667   \n",
       "2              32.056816                 0.416667   \n",
       "3              32.056816                 0.416667   \n",
       "4              32.056816                 0.416667   \n",
       "\n",
       "   load_idle_time_duration_minutes  run_duration_minutes  \\\n",
       "0                         0.671117             21.049999   \n",
       "1                         0.671117             21.049999   \n",
       "2                         0.671117             21.049999   \n",
       "3                         0.671117             21.049999   \n",
       "4                         0.671117             21.049999   \n",
       "\n",
       "   barcode_scan_duration_minutes  number_of_procedures  number_of_dummy_bags  \\\n",
       "0                       6.171717                     1                     0   \n",
       "1                       6.171717                     1                     0   \n",
       "2                       6.171717                     1                     0   \n",
       "3                       6.171717                     1                     0   \n",
       "4                       6.171717                     1                     0   \n",
       "\n",
       "   number_of_barcode_scans  number_of_skipped_run_barcodes  \\\n",
       "0                        9                               0   \n",
       "1                        9                               0   \n",
       "2                        9                               0   \n",
       "3                        9                               0   \n",
       "4                        9                               0   \n",
       "\n",
       "   start_basin_temperature  end_basin_temperature  max_basin_temperature  \\\n",
       "0                   19.975                 20.605              22.698999   \n",
       "1                   19.975                 20.605              22.698999   \n",
       "2                   19.975                 20.605              22.698999   \n",
       "3                   19.975                 20.605              22.698999   \n",
       "4                   19.975                 20.605              22.698999   \n",
       "\n",
       "   min_basin_temperature  run_number  \n",
       "0                 19.961      1577.0  \n",
       "1                 19.961      1577.0  \n",
       "2                 19.961      1577.0  \n",
       "3                 19.961      1577.0  \n",
       "4                 19.961      1577.0  "
      ]
     },
     "execution_count": 3,
     "metadata": {},
     "output_type": "execute_result"
    }
   ],
   "source": [
    "tmp_data = data._get_numeric_data()\n",
    "tmp_data = tmp_data.fillna(0)\n",
    "tmp_data.head()"
   ]
  },
  {
   "cell_type": "markdown",
   "id": "sharp-belgium",
   "metadata": {},
   "source": [
    "## K Means with number of alerts and product volume"
   ]
  },
  {
   "cell_type": "code",
   "execution_count": 4,
   "id": "lesser-aaron",
   "metadata": {},
   "outputs": [
    {
     "data": {
      "text/plain": [
       "count    2.192149e+07\n",
       "mean     9.476367e+01\n",
       "std      1.114456e+02\n",
       "min      0.000000e+00\n",
       "25%      1.300000e+01\n",
       "50%      4.600000e+01\n",
       "75%      2.010000e+02\n",
       "max      8.162000e+03\n",
       "Name: product_volume, dtype: float64"
      ]
     },
     "execution_count": 4,
     "metadata": {},
     "output_type": "execute_result"
    }
   ],
   "source": [
    "tmp_data['product_volume'].describe()"
   ]
  },
  {
   "cell_type": "code",
   "execution_count": 5,
   "id": "christian-hindu",
   "metadata": {},
   "outputs": [],
   "source": [
    "simpleDataProdVolume = tmp_data.filter(['number_of_alerts', 'product_volume'])"
   ]
  },
  {
   "cell_type": "code",
   "execution_count": 6,
   "id": "loving-gentleman",
   "metadata": {},
   "outputs": [],
   "source": [
    "train_data_prod_volume, test_data_prod_volume = train_test_split(simpleDataProdVolume, test_size=0.5)"
   ]
  },
  {
   "cell_type": "code",
   "execution_count": 7,
   "id": "classified-occupation",
   "metadata": {},
   "outputs": [],
   "source": [
    "kmeans_prod_volume = KMeans(n_clusters=4, random_state=0).fit(train_data_prod_volume)\n",
    "labels_prod_volume = kmeans_prod_volume.labels_"
   ]
  },
  {
   "cell_type": "code",
   "execution_count": 8,
   "id": "second-casting",
   "metadata": {},
   "outputs": [],
   "source": [
    "kmeans_prod_volume.fit(np.array(train_data_prod_volume['product_volume'].values).reshape(-1, 1).astype('int'))\n",
    "y_kmeans_prod_volume = kmeans_prod_volume.predict(np.array(train_data_prod_volume['product_volume'].values).reshape(-1, 1).astype('int'))\n"
   ]
  },
  {
   "cell_type": "code",
   "execution_count": 9,
   "id": "assumed-reporter",
   "metadata": {},
   "outputs": [
    {
     "name": "stdout",
     "output_type": "stream",
     "text": [
      "[[  19.37626124]\n",
      " [ 258.71848188]\n",
      " [4433.06088993]\n",
      " [  71.12218024]]\n"
     ]
    },
    {
     "data": {
      "text/plain": [
       "Text(0.5, 1.0, 'number_of_alerts versus product_volume')"
      ]
     },
     "execution_count": 9,
     "metadata": {},
     "output_type": "execute_result"
    },
    {
     "data": {
      "image/png": "[encoded data removed]",
      "text/plain": [
       "<Figure size 432x288 with 1 Axes>"
      ]
     },
     "metadata": {
      "needs_background": "light"
     },
     "output_type": "display_data"
    }
   ],
   "source": [
    "centers_prod_volume = kmeans_prod_volume.cluster_centers_\n",
    "print(centers_prod_volume)\n",
    "#plt.scatter(centers_prod_volume, centers_prod_volume, c='black', s=200, alpha=0.5)\n",
    "plt.scatter(train_data_prod_volume['product_volume'], train_data_prod_volume['number_of_alerts'], c=y_kmeans_prod_volume, s=50, cmap='viridis')\n",
    "plt.xlabel('product_volume')\n",
    "plt.ylabel('number_of_alerts')\n",
    "plt.title('number_of_alerts versus product_volume')\n"
   ]
  },
  {
   "cell_type": "code",
   "execution_count": null,
   "id": "elect-remove",
   "metadata": {},
   "outputs": [],
   "source": []
  },
  {
   "cell_type": "markdown",
   "id": "regional-adelaide",
   "metadata": {},
   "source": [
    "## K Means with number of alerts and min temperature"
   ]
  },
  {
   "cell_type": "code",
   "execution_count": 10,
   "id": "sought-turtle",
   "metadata": {},
   "outputs": [
    {
     "data": {
      "text/plain": [
       "count    2.192149e+07\n",
       "mean     2.036730e+01\n",
       "std      2.168995e+00\n",
       "min      0.000000e+00\n",
       "25%      2.013100e+01\n",
       "50%      2.071200e+01\n",
       "75%      2.102500e+01\n",
       "max      5.500000e+01\n",
       "Name: min_basin_temperature, dtype: float64"
      ]
     },
     "execution_count": 10,
     "metadata": {},
     "output_type": "execute_result"
    }
   ],
   "source": [
    "tmp_data['min_basin_temperature'].describe()"
   ]
  },
  {
   "cell_type": "code",
   "execution_count": 12,
   "id": "discrete-syria",
   "metadata": {},
   "outputs": [],
   "source": [
    "simpleDataMinTemp = tmp_data.filter(['number_of_alerts', 'min_basin_temperature'])"
   ]
  },
  {
   "cell_type": "code",
   "execution_count": 13,
   "id": "heard-bolivia",
   "metadata": {},
   "outputs": [],
   "source": [
    "train_data_min_temp, test_data_min_temp = train_test_split(simpleDataMinTemp, test_size=0.5)"
   ]
  },
  {
   "cell_type": "code",
   "execution_count": 14,
   "id": "trained-lingerie",
   "metadata": {},
   "outputs": [],
   "source": [
    "kmeans_min_temp = KMeans(n_clusters=4, random_state=0).fit(train_data_min_temp)\n",
    "labels_min_temp = kmeans_min_temp.labels_"
   ]
  },
  {
   "cell_type": "code",
   "execution_count": 15,
   "id": "cheap-merchant",
   "metadata": {},
   "outputs": [],
   "source": [
    "kmeans_min_temp.fit(train_data_min_temp['min_basin_temperature'].values.reshape(-1, 1).astype('float'))\n",
    "y_kmeans_min_temp = kmeans_min_temp.predict(train_data_min_temp['min_basin_temperature'].values.reshape(-1, 1).astype('float'))\n"
   ]
  },
  {
   "cell_type": "code",
   "execution_count": 16,
   "id": "friendly-flavor",
   "metadata": {},
   "outputs": [
    {
     "name": "stdout",
     "output_type": "stream",
     "text": [
      "[[2.11035156e+01]\n",
      " [6.22474015e-04]\n",
      " [1.94933456e+01]\n",
      " [2.03885660e+01]]\n"
     ]
    },
    {
     "data": {
      "text/plain": [
       "Text(0.5, 1.0, 'number_of_alerts versus min_basin_temperature')"
      ]
     },
     "execution_count": 16,
     "metadata": {},
     "output_type": "execute_result"
    },
    {
     "data": {
      "image/png": "[encoded data removed]",
      "text/plain": [
       "<Figure size 432x288 with 1 Axes>"
      ]
     },
     "metadata": {
      "needs_background": "light"
     },
     "output_type": "display_data"
    }
   ],
   "source": [
    "centers_min_temp = kmeans_min_temp.cluster_centers_\n",
    "print(centers_min_temp)\n",
    "plt.scatter(centers_min_temp, centers_min_temp, c='black', s=200, alpha=0.5)\n",
    "plt.scatter(train_data_min_temp['min_basin_temperature'], train_data_min_temp['number_of_alerts'], c=y_kmeans_min_temp, s=50, cmap='viridis')\n",
    "plt.xlabel('min_basin_temperature')\n",
    "plt.ylabel('number_of_alerts')\n",
    "plt.title('number_of_alerts versus min_basin_temperature')\n"
   ]
  },
  {
   "cell_type": "markdown",
   "id": "extensive-victory",
   "metadata": {},
   "source": [
    "## K Means with number of alerts and max temperature"
   ]
  },
  {
   "cell_type": "code",
   "execution_count": 17,
   "id": "formal-harvey",
   "metadata": {},
   "outputs": [
    {
     "data": {
      "text/plain": [
       "count    2.192149e+07\n",
       "mean     2.257268e+01\n",
       "std      2.317299e+00\n",
       "min      0.000000e+00\n",
       "25%      2.258400e+01\n",
       "50%      2.276400e+01\n",
       "75%      2.295400e+01\n",
       "max      5.500000e+01\n",
       "Name: max_basin_temperature, dtype: float64"
      ]
     },
     "execution_count": 17,
     "metadata": {},
     "output_type": "execute_result"
    }
   ],
   "source": [
    "tmp_data['max_basin_temperature'].describe()"
   ]
  },
  {
   "cell_type": "code",
   "execution_count": 19,
   "id": "front-commerce",
   "metadata": {},
   "outputs": [],
   "source": [
    "simpleDataMaxTemp = tmp_data.filter(['number_of_alerts', 'max_basin_temperature'])"
   ]
  },
  {
   "cell_type": "code",
   "execution_count": 20,
   "id": "steady-drink",
   "metadata": {},
   "outputs": [],
   "source": [
    "train_data_max_temp, test_data_max_temp = train_test_split(simpleDataMaxTemp, test_size=0.5)"
   ]
  },
  {
   "cell_type": "code",
   "execution_count": 21,
   "id": "competent-chile",
   "metadata": {},
   "outputs": [],
   "source": [
    "kmeans_max_temp = KMeans(n_clusters=5, random_state=0).fit(train_data_max_temp)\n",
    "labels_max_temp = kmeans_max_temp.labels_"
   ]
  },
  {
   "cell_type": "code",
   "execution_count": 22,
   "id": "minute-expert",
   "metadata": {},
   "outputs": [],
   "source": [
    "kmeans_max_temp.fit(train_data_max_temp['max_basin_temperature'].values.reshape(-1, 1).astype('float'))\n",
    "y_kmeans_max_temp = kmeans_max_temp.predict(train_data_max_temp['max_basin_temperature'].values.reshape(-1, 1).astype('float'))"
   ]
  },
  {
   "cell_type": "code",
   "execution_count": 23,
   "id": "developing-making",
   "metadata": {},
   "outputs": [
    {
     "name": "stdout",
     "output_type": "stream",
     "text": [
      "[[2.30765301e+01]\n",
      " [7.62326544e-04]\n",
      " [2.26208194e+01]\n",
      " [2.08717894e+01]\n",
      " [2.42164308e+01]]\n"
     ]
    },
    {
     "data": {
      "text/plain": [
       "Text(0.5, 1.0, 'number_of_alerts versus max_basin_temperature')"
      ]
     },
     "execution_count": 23,
     "metadata": {},
     "output_type": "execute_result"
    },
    {
     "data": {
      "image/png": "[encoded data removed]",
      "text/plain": [
       "<Figure size 432x288 with 1 Axes>"
      ]
     },
     "metadata": {
      "needs_background": "light"
     },
     "output_type": "display_data"
    }
   ],
   "source": [
    "centers_max_temp = kmeans_max_temp.cluster_centers_\n",
    "print(centers_max_temp)\n",
    "plt.scatter(centers_max_temp, centers_max_temp, c='black', s=200, alpha=0.5)\n",
    "plt.scatter(train_data_max_temp['max_basin_temperature'], train_data_max_temp['number_of_alerts'], c=y_kmeans_max_temp, s=50, cmap='viridis')\n",
    "plt.xlabel('max_basin_temperature')\n",
    "plt.ylabel('number_of_alerts')\n",
    "plt.title('number_of_alerts versus max_basin_temperature')\n",
    "\n"
   ]
  },
  {
   "cell_type": "markdown",
   "id": "apart-saskatchewan",
   "metadata": {},
   "source": [
    "## K Means with number of alerts and temp out of range exceptions"
   ]
  },
  {
   "cell_type": "code",
   "execution_count": 24,
   "id": "closing-title",
   "metadata": {},
   "outputs": [
    {
     "data": {
      "text/plain": [
       "count    2.192149e+07\n",
       "mean     5.664715e-03\n",
       "std      7.505082e-02\n",
       "min      0.000000e+00\n",
       "25%      0.000000e+00\n",
       "50%      0.000000e+00\n",
       "75%      0.000000e+00\n",
       "max      1.000000e+00\n",
       "Name: number_of_temp_out_of_range_exceptions, dtype: float64"
      ]
     },
     "execution_count": 24,
     "metadata": {},
     "output_type": "execute_result"
    }
   ],
   "source": [
    "tmp_data['number_of_temp_out_of_range_exceptions'].describe()"
   ]
  },
  {
   "cell_type": "code",
   "execution_count": 25,
   "id": "signal-trail",
   "metadata": {},
   "outputs": [],
   "source": [
    "simpleDataBadTemp = tmp_data.filter(['number_of_alerts', 'number_of_temp_out_of_range_exceptions'])"
   ]
  },
  {
   "cell_type": "code",
   "execution_count": 26,
   "id": "seventh-cotton",
   "metadata": {},
   "outputs": [],
   "source": [
    "train_data_bad_temp, test_data_bad_temp = train_test_split(simpleDataBadTemp, test_size=0.5)"
   ]
  },
  {
   "cell_type": "code",
   "execution_count": 27,
   "id": "unlimited-vitamin",
   "metadata": {},
   "outputs": [],
   "source": [
    "kmeans_bad_temp = KMeans(n_clusters=2, random_state=0).fit(train_data_bad_temp)\n",
    "labels_bad_temp = kmeans_bad_temp.labels_"
   ]
  },
  {
   "cell_type": "code",
   "execution_count": 28,
   "id": "scheduled-fight",
   "metadata": {},
   "outputs": [],
   "source": [
    "kmeans_bad_temp.fit(np.array(train_data_bad_temp['number_of_temp_out_of_range_exceptions'].values).reshape(-1, 1).astype('float'))\n",
    "y_kmeans_bad_temp = kmeans_bad_temp.predict(np.array(train_data_bad_temp['number_of_temp_out_of_range_exceptions'].values).reshape(-1, 1).astype('float'))\n"
   ]
  },
  {
   "cell_type": "code",
   "execution_count": 29,
   "id": "rental-knife",
   "metadata": {},
   "outputs": [
    {
     "name": "stdout",
     "output_type": "stream",
     "text": [
      "[[1.]\n",
      " [0.]]\n"
     ]
    },
    {
     "data": {
      "text/plain": [
       "Text(0.5, 1.0, 'number_of_alerts versus number_of_temp_out_of_range_exceptions')"
      ]
     },
     "execution_count": 29,
     "metadata": {},
     "output_type": "execute_result"
    },
    {
     "data": {
      "image/png": "[encoded data removed]",
      "text/plain": [
       "<Figure size 432x288 with 1 Axes>"
      ]
     },
     "metadata": {
      "needs_background": "light"
     },
     "output_type": "display_data"
    }
   ],
   "source": [
    "centers_bad_temp = kmeans_bad_temp.cluster_centers_\n",
    "print(centers_bad_temp)\n",
    "plt.scatter(centers_bad_temp, centers_bad_temp, c='black', s=200, alpha=0.5)\n",
    "plt.scatter(train_data_bad_temp['number_of_temp_out_of_range_exceptions'], train_data_bad_temp['number_of_alerts'], c=y_kmeans_bad_temp, s=50, cmap='viridis')\n",
    "\n",
    "plt.xlabel('number_of_temp_out_of_range_exceptions')\n",
    "plt.ylabel('number_of_alerts')\n",
    "plt.title('number_of_alerts versus number_of_temp_out_of_range_exceptions')\n",
    "\n"
   ]
  },
  {
   "cell_type": "code",
   "execution_count": null,
   "id": "cognitive-peace",
   "metadata": {},
   "outputs": [],
   "source": []
  },
  {
   "cell_type": "markdown",
   "id": "optional-surge",
   "metadata": {},
   "source": [
    "## K Means with number of alerts and run duration"
   ]
  },
  {
   "cell_type": "code",
   "execution_count": 30,
   "id": "dietary-italy",
   "metadata": {},
   "outputs": [
    {
     "data": {
      "text/plain": [
       "count    2.192149e+07\n",
       "mean     2.154039e+01\n",
       "std      7.819052e+01\n",
       "min      0.000000e+00\n",
       "25%      1.888333e+01\n",
       "50%      1.993333e+01\n",
       "75%      2.066667e+01\n",
       "max      1.018568e+04\n",
       "Name: run_duration_minutes, dtype: float64"
      ]
     },
     "execution_count": 30,
     "metadata": {},
     "output_type": "execute_result"
    }
   ],
   "source": [
    "tmp_data['run_duration_minutes'].describe()"
   ]
  },
  {
   "cell_type": "code",
   "execution_count": 31,
   "id": "stable-finder",
   "metadata": {},
   "outputs": [],
   "source": [
    "simpleDataRunDuration = tmp_data.filter(['number_of_alerts', 'run_duration_minutes'])"
   ]
  },
  {
   "cell_type": "code",
   "execution_count": 32,
   "id": "dying-timothy",
   "metadata": {},
   "outputs": [],
   "source": [
    "train_data_run_duration, test_data_run_duration = train_test_split(simpleDataRunDuration, test_size=0.5)"
   ]
  },
  {
   "cell_type": "code",
   "execution_count": 33,
   "id": "crazy-present",
   "metadata": {},
   "outputs": [
    {
     "data": {
      "text/html": [
       "<div>\n",
       "<style scoped>\n",
       "    .dataframe tbody tr th:only-of-type {\n",
       "        vertical-align: middle;\n",
       "    }\n",
       "\n",
       "    .dataframe tbody tr th {\n",
       "        vertical-align: top;\n",
       "    }\n",
       "\n",
       "    .dataframe thead th {\n",
       "        text-align: right;\n",
       "    }\n",
       "</style>\n",
       "<table border=\"1\" class=\"dataframe\">\n",
       "  <thead>\n",
       "    <tr style=\"text-align: right;\">\n",
       "      <th></th>\n",
       "      <th>number_of_alerts</th>\n",
       "      <th>run_duration_minutes</th>\n",
       "    </tr>\n",
       "  </thead>\n",
       "  <tbody>\n",
       "    <tr>\n",
       "      <th>12069874</th>\n",
       "      <td>0</td>\n",
       "      <td>22.133333</td>\n",
       "    </tr>\n",
       "    <tr>\n",
       "      <th>443024</th>\n",
       "      <td>0</td>\n",
       "      <td>16.850000</td>\n",
       "    </tr>\n",
       "    <tr>\n",
       "      <th>14286865</th>\n",
       "      <td>0</td>\n",
       "      <td>16.116667</td>\n",
       "    </tr>\n",
       "    <tr>\n",
       "      <th>11822780</th>\n",
       "      <td>0</td>\n",
       "      <td>16.549999</td>\n",
       "    </tr>\n",
       "    <tr>\n",
       "      <th>18558614</th>\n",
       "      <td>0</td>\n",
       "      <td>19.208317</td>\n",
       "    </tr>\n",
       "    <tr>\n",
       "      <th>14880955</th>\n",
       "      <td>0</td>\n",
       "      <td>21.766666</td>\n",
       "    </tr>\n",
       "    <tr>\n",
       "      <th>20510101</th>\n",
       "      <td>2</td>\n",
       "      <td>2.066667</td>\n",
       "    </tr>\n",
       "    <tr>\n",
       "      <th>17204655</th>\n",
       "      <td>0</td>\n",
       "      <td>23.600000</td>\n",
       "    </tr>\n",
       "    <tr>\n",
       "      <th>6637663</th>\n",
       "      <td>0</td>\n",
       "      <td>18.540867</td>\n",
       "    </tr>\n",
       "    <tr>\n",
       "      <th>142787</th>\n",
       "      <td>2</td>\n",
       "      <td>20.883333</td>\n",
       "    </tr>\n",
       "  </tbody>\n",
       "</table>\n",
       "</div>"
      ],
      "text/plain": [
       "          number_of_alerts  run_duration_minutes\n",
       "12069874                 0             22.133333\n",
       "443024                   0             16.850000\n",
       "14286865                 0             16.116667\n",
       "11822780                 0             16.549999\n",
       "18558614                 0             19.208317\n",
       "14880955                 0             21.766666\n",
       "20510101                 2              2.066667\n",
       "17204655                 0             23.600000\n",
       "6637663                  0             18.540867\n",
       "142787                   2             20.883333"
      ]
     },
     "execution_count": 33,
     "metadata": {},
     "output_type": "execute_result"
    }
   ],
   "source": [
    "train_data_run_duration.head(10)"
   ]
  },
  {
   "cell_type": "code",
   "execution_count": 34,
   "id": "homeless-cameroon",
   "metadata": {},
   "outputs": [],
   "source": [
    "kmeans_run_duration = KMeans(n_clusters=7, random_state=0).fit(train_data_run_duration)"
   ]
  },
  {
   "cell_type": "code",
   "execution_count": 35,
   "id": "informative-invalid",
   "metadata": {},
   "outputs": [],
   "source": [
    "labels_run_duration = kmeans_run_duration.labels_"
   ]
  },
  {
   "cell_type": "code",
   "execution_count": 36,
   "id": "logical-muscle",
   "metadata": {},
   "outputs": [],
   "source": [
    "kmeans_run_duration.fit(train_data_run_duration['run_duration_minutes'].values.reshape(-1, 1).astype('float'))\n",
    "y_kmeans_run_duration = kmeans_run_duration.predict(train_data_run_duration['run_duration_minutes'].values.reshape(-1, 1).astype('float'))"
   ]
  },
  {
   "cell_type": "code",
   "execution_count": 37,
   "id": "color-italic",
   "metadata": {},
   "outputs": [
    {
     "name": "stdout",
     "output_type": "stream",
     "text": [
      "[[  19.4662859 ]\n",
      " [3975.43967442]\n",
      " [1440.21254597]\n",
      " [2759.96279146]\n",
      " [6085.50390121]\n",
      " [9599.92218192]\n",
      " [ 633.00973432]]\n"
     ]
    },
    {
     "data": {
      "text/plain": [
       "Text(0.5, 1.0, 'number_of_alerts versus run_duration_minutes')"
      ]
     },
     "execution_count": 37,
     "metadata": {},
     "output_type": "execute_result"
    },
    {
     "data": {
      "image/png": "[encoded data removed]",
      "text/plain": [
       "<Figure size 432x288 with 1 Axes>"
      ]
     },
     "metadata": {
      "needs_background": "light"
     },
     "output_type": "display_data"
    }
   ],
   "source": [
    "centers_run_duration = kmeans_run_duration.cluster_centers_\n",
    "print(centers_run_duration)\n",
    "plt.scatter(train_data_run_duration['run_duration_minutes'], train_data_run_duration['number_of_alerts'], c=y_kmeans_run_duration, s=50, cmap='viridis')\n",
    "\n",
    "\n",
    "plt.xlabel('run_duration_minutes')\n",
    "plt.ylabel('number_of_alerts')\n",
    "plt.title('number_of_alerts versus run_duration_minutes')\n",
    "\n"
   ]
  },
  {
   "cell_type": "markdown",
   "id": "derived-clarity",
   "metadata": {},
   "source": [
    "## K Means with number of alerts and procedure duration minutes"
   ]
  },
  {
   "cell_type": "code",
   "execution_count": 52,
   "id": "offensive-practice",
   "metadata": {},
   "outputs": [
    {
     "data": {
      "text/plain": [
       "count    2.192149e+07\n",
       "mean     4.982359e+01\n",
       "std      1.399619e+02\n",
       "min      0.000000e+00\n",
       "25%      2.595000e+01\n",
       "50%      3.193333e+01\n",
       "75%      4.758333e+01\n",
       "max      5.478745e+04\n",
       "Name: procedure_duration_minutes, dtype: float64"
      ]
     },
     "execution_count": 52,
     "metadata": {},
     "output_type": "execute_result"
    }
   ],
   "source": [
    "tmp_data['procedure_duration_minutes'].describe()"
   ]
  },
  {
   "cell_type": "code",
   "execution_count": 53,
   "id": "accepting-alignment",
   "metadata": {},
   "outputs": [],
   "source": [
    "simpleDataProcedureDuration = tmp_data.filter(['number_of_alerts', 'procedure_duration_minutes'])"
   ]
  },
  {
   "cell_type": "code",
   "execution_count": 54,
   "id": "bulgarian-vertex",
   "metadata": {},
   "outputs": [],
   "source": [
    "train_data_procedure_duration, test_data_procedure_duration = train_test_split(simpleDataProcedureDuration, test_size=0.5)"
   ]
  },
  {
   "cell_type": "code",
   "execution_count": 56,
   "id": "ahead-algeria",
   "metadata": {},
   "outputs": [],
   "source": [
    "kmeans_procedure_duration = KMeans(n_clusters=3, random_state=0).fit(train_data_procedure_duration)"
   ]
  },
  {
   "cell_type": "code",
   "execution_count": 57,
   "id": "right-pilot",
   "metadata": {},
   "outputs": [],
   "source": [
    "labels_procedure_duration = kmeans_procedure_duration.labels_"
   ]
  },
  {
   "cell_type": "code",
   "execution_count": 58,
   "id": "organizational-contributor",
   "metadata": {},
   "outputs": [],
   "source": [
    "kmeans_procedure_duration.fit(test_data_procedure_duration['procedure_duration_minutes'].values.reshape(-1, 1).astype('float'))\n",
    "y_kmeans_procedure_duration = kmeans_procedure_duration.predict(test_data_procedure_duration['procedure_duration_minutes'].values.reshape(-1, 1).astype('float'))\n"
   ]
  },
  {
   "cell_type": "code",
   "execution_count": 59,
   "id": "infectious-lindsay",
   "metadata": {},
   "outputs": [
    {
     "name": "stdout",
     "output_type": "stream",
     "text": [
      "[[   47.57609704]\n",
      " [12070.02495231]\n",
      " [ 4046.61529728]]\n"
     ]
    },
    {
     "data": {
      "text/plain": [
       "Text(0.5, 1.0, 'number_of_alerts versus procedure_duration_minutes')"
      ]
     },
     "execution_count": 59,
     "metadata": {},
     "output_type": "execute_result"
    },
    {
     "data": {
      "image/png": "[encoded data removed]",
      "text/plain": [
       "<Figure size 432x288 with 1 Axes>"
      ]
     },
     "metadata": {
      "needs_background": "light"
     },
     "output_type": "display_data"
    }
   ],
   "source": [
    "centers_procedure_duration = kmeans_procedure_duration.cluster_centers_\n",
    "print(centers_procedure_duration)\n",
    "plt.scatter(test_data_procedure_duration['procedure_duration_minutes'], test_data_procedure_duration['number_of_alerts'], c=y_kmeans_procedure_duration, s=50, cmap='viridis')\n",
    "\n",
    "plt.xlabel('procedure_duration_minutes')\n",
    "plt.ylabel('number_of_alerts')\n",
    "plt.title('number_of_alerts versus procedure_duration_minutes')\n",
    "\n"
   ]
  },
  {
   "cell_type": "code",
   "execution_count": null,
   "id": "streaming-aviation",
   "metadata": {},
   "outputs": [],
   "source": []
  },
  {
   "cell_type": "code",
   "execution_count": null,
   "id": "rising-repository",
   "metadata": {},
   "outputs": [],
   "source": []
  }
 ],
 "metadata": {
  "kernelspec": {
   "display_name": "Python 3",
   "language": "python",
   "name": "python3"
  },
  "language_info": {
   "codemirror_mode": {
    "name": "ipython",
    "version": 3
   },
   "file_extension": ".py",
   "mimetype": "text/x-python",
   "name": "python",
   "nbconvert_exporter": "python",
   "pygments_lexer": "ipython3",
   "version": "3.7.4"
  }
 },
 "nbformat": 4,
 "nbformat_minor": 5
}
